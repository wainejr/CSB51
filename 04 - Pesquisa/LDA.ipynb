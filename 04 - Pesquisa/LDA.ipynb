{
 "cells": [
  {
   "cell_type": "markdown",
   "metadata": {},
   "source": [
    "based on [this](https://www.machinelearningplus.com/nlp/topic-modeling-python-sklearn-examples/)"
   ]
  },
  {
   "cell_type": "markdown",
   "metadata": {},
   "source": [
    "# 1. Load the packages"
   ]
  },
  {
   "cell_type": "code",
   "execution_count": 1,
   "metadata": {},
   "outputs": [],
   "source": [
    "import numpy as np\n",
    "import pandas as pd\n",
    "import re, nltk, spacy, gensim\n",
    "import stopwordsiso\n",
    "\n",
    "# Sklearn\n",
    "from sklearn.decomposition import LatentDirichletAllocation, TruncatedSVD\n",
    "from sklearn.feature_extraction.text import CountVectorizer, TfidfVectorizer\n",
    "from sklearn.model_selection import GridSearchCV\n",
    "from pprint import pprint\n",
    "\n",
    "# Plotting tools\n",
    "import pyLDAvis\n",
    "import pyLDAvis.sklearn\n",
    "import matplotlib.pyplot as plt"
   ]
  },
  {
   "cell_type": "markdown",
   "metadata": {},
   "source": [
    "# 2. Import Newsgroups Text Data"
   ]
  },
  {
   "cell_type": "code",
   "execution_count": 2,
   "metadata": {},
   "outputs": [
    {
     "name": "stderr",
     "output_type": "stream",
     "text": [
      "C:\\Users\\Xinda\\AppData\\Local\\Programs\\Python\\Python39\\lib\\site-packages\\ipykernel\\ipkernel.py:283: DeprecationWarning: `should_run_async` will not call `transform_cell` automatically in the future. Please pass the result to `transformed_cell` argument and any exception that happen during thetransform in `preprocessing_exc_tuple` in IPython 7.17 and above.\n",
      "  and should_run_async(code)\n"
     ]
    },
    {
     "data": {
      "text/html": [
       "<div>\n",
       "<style scoped>\n",
       "    .dataframe tbody tr th:only-of-type {\n",
       "        vertical-align: middle;\n",
       "    }\n",
       "\n",
       "    .dataframe tbody tr th {\n",
       "        vertical-align: top;\n",
       "    }\n",
       "\n",
       "    .dataframe thead th {\n",
       "        text-align: right;\n",
       "    }\n",
       "</style>\n",
       "<table border=\"1\" class=\"dataframe\">\n",
       "  <thead>\n",
       "    <tr style=\"text-align: right;\">\n",
       "      <th></th>\n",
       "      <th>label</th>\n",
       "      <th>file</th>\n",
       "      <th>link</th>\n",
       "      <th>category</th>\n",
       "      <th>emotiveness</th>\n",
       "      <th>errors</th>\n",
       "      <th>pausatility</th>\n",
       "      <th>text</th>\n",
       "      <th>tokens</th>\n",
       "      <th>words in upper case</th>\n",
       "      <th>average sentence length</th>\n",
       "      <th>nouns</th>\n",
       "      <th>verbs</th>\n",
       "      <th>adverbs</th>\n",
       "      <th>adjectives</th>\n",
       "      <th>pronouns</th>\n",
       "      <th>date</th>\n",
       "    </tr>\n",
       "  </thead>\n",
       "  <tbody>\n",
       "    <tr>\n",
       "      <th>0</th>\n",
       "      <td>fake</td>\n",
       "      <td>1.txt</td>\n",
       "      <td>ceticismopolitico.com</td>\n",
       "      <td>politica</td>\n",
       "      <td>0.263158</td>\n",
       "      <td>0.000000</td>\n",
       "      <td>2.000000</td>\n",
       "      <td>katia abreu diz vai colocar expulsao moldura, ...</td>\n",
       "      <td>211.0</td>\n",
       "      <td>6.0</td>\n",
       "      <td>14.23080</td>\n",
       "      <td>46.0</td>\n",
       "      <td>30.0</td>\n",
       "      <td>13.0</td>\n",
       "      <td>7.0</td>\n",
       "      <td>26.0</td>\n",
       "      <td>2017-11-30</td>\n",
       "    </tr>\n",
       "    <tr>\n",
       "      <th>1</th>\n",
       "      <td>fake</td>\n",
       "      <td>10.txt</td>\n",
       "      <td>ceticismopolitico.com</td>\n",
       "      <td>politica</td>\n",
       "      <td>0.241667</td>\n",
       "      <td>0.007874</td>\n",
       "      <td>2.500000</td>\n",
       "      <td>dr. ray peita bolsonaro, chama-o conservador f...</td>\n",
       "      <td>289.0</td>\n",
       "      <td>0.0</td>\n",
       "      <td>18.14290</td>\n",
       "      <td>64.0</td>\n",
       "      <td>56.0</td>\n",
       "      <td>18.0</td>\n",
       "      <td>11.0</td>\n",
       "      <td>20.0</td>\n",
       "      <td>2017-11-24</td>\n",
       "    </tr>\n",
       "    <tr>\n",
       "      <th>2</th>\n",
       "      <td>fake</td>\n",
       "      <td>100.txt</td>\n",
       "      <td>afolhabrasil.com.br</td>\n",
       "      <td>politica</td>\n",
       "      <td>0.127820</td>\n",
       "      <td>0.003636</td>\n",
       "      <td>1.812500</td>\n",
       "      <td>reinaldo azevedo desmascarado policia federal....</td>\n",
       "      <td>304.0</td>\n",
       "      <td>0.0</td>\n",
       "      <td>17.18750</td>\n",
       "      <td>88.0</td>\n",
       "      <td>45.0</td>\n",
       "      <td>8.0</td>\n",
       "      <td>9.0</td>\n",
       "      <td>18.0</td>\n",
       "      <td>2017-05-23</td>\n",
       "    </tr>\n",
       "    <tr>\n",
       "      <th>3</th>\n",
       "      <td>fake</td>\n",
       "      <td>1000.txt</td>\n",
       "      <td>diariodobrasil.org</td>\n",
       "      <td>politica</td>\n",
       "      <td>0.229008</td>\n",
       "      <td>0.001748</td>\n",
       "      <td>2.680000</td>\n",
       "      <td>relatorio assustador bndes mostra dinheiro pub...</td>\n",
       "      <td>639.0</td>\n",
       "      <td>14.0</td>\n",
       "      <td>22.88000</td>\n",
       "      <td>175.0</td>\n",
       "      <td>87.0</td>\n",
       "      <td>21.0</td>\n",
       "      <td>39.0</td>\n",
       "      <td>34.0</td>\n",
       "      <td>2017-07-24</td>\n",
       "    </tr>\n",
       "    <tr>\n",
       "      <th>4</th>\n",
       "      <td>fake</td>\n",
       "      <td>1001.txt</td>\n",
       "      <td>diariodobrasil.org</td>\n",
       "      <td>politica</td>\n",
       "      <td>0.269231</td>\n",
       "      <td>0.000000</td>\n",
       "      <td>0.894737</td>\n",
       "      <td>radialista americano fala sobre pt: \"eles vend...</td>\n",
       "      <td>128.0</td>\n",
       "      <td>1.0</td>\n",
       "      <td>5.84211</td>\n",
       "      <td>31.0</td>\n",
       "      <td>21.0</td>\n",
       "      <td>8.0</td>\n",
       "      <td>6.0</td>\n",
       "      <td>12.0</td>\n",
       "      <td>2017-07-25</td>\n",
       "    </tr>\n",
       "  </tbody>\n",
       "</table>\n",
       "</div>"
      ],
      "text/plain": [
       "  label      file                   link  category  emotiveness    errors  \\\n",
       "0  fake     1.txt  ceticismopolitico.com  politica     0.263158  0.000000   \n",
       "1  fake    10.txt  ceticismopolitico.com  politica     0.241667  0.007874   \n",
       "2  fake   100.txt    afolhabrasil.com.br  politica     0.127820  0.003636   \n",
       "3  fake  1000.txt     diariodobrasil.org  politica     0.229008  0.001748   \n",
       "4  fake  1001.txt     diariodobrasil.org  politica     0.269231  0.000000   \n",
       "\n",
       "   pausatility                                               text  tokens  \\\n",
       "0     2.000000  katia abreu diz vai colocar expulsao moldura, ...   211.0   \n",
       "1     2.500000  dr. ray peita bolsonaro, chama-o conservador f...   289.0   \n",
       "2     1.812500  reinaldo azevedo desmascarado policia federal....   304.0   \n",
       "3     2.680000  relatorio assustador bndes mostra dinheiro pub...   639.0   \n",
       "4     0.894737  radialista americano fala sobre pt: \"eles vend...   128.0   \n",
       "\n",
       "   words in upper case  average sentence length  nouns  verbs  adverbs  \\\n",
       "0                  6.0                 14.23080   46.0   30.0     13.0   \n",
       "1                  0.0                 18.14290   64.0   56.0     18.0   \n",
       "2                  0.0                 17.18750   88.0   45.0      8.0   \n",
       "3                 14.0                 22.88000  175.0   87.0     21.0   \n",
       "4                  1.0                  5.84211   31.0   21.0      8.0   \n",
       "\n",
       "   adjectives  pronouns        date  \n",
       "0         7.0      26.0  2017-11-30  \n",
       "1        11.0      20.0  2017-11-24  \n",
       "2         9.0      18.0  2017-05-23  \n",
       "3        39.0      34.0  2017-07-24  \n",
       "4         6.0      12.0  2017-07-25  "
      ]
     },
     "execution_count": 2,
     "metadata": {},
     "output_type": "execute_result"
    }
   ],
   "source": [
    "# Import Dataset\n",
    "df = pd.read_csv(\"../02 - Analise exploratoria/all_together.csv\")\n",
    "df.head()"
   ]
  },
  {
   "cell_type": "code",
   "execution_count": 3,
   "metadata": {},
   "outputs": [
    {
     "name": "stdout",
     "output_type": "stream",
     "text": [
      "All categories: {'sociedade_cotidiano', 'economia', 'ciencia_tecnologia', 'tv_celebridades', 'politica', 'religiao'}\n",
      "Ratio: 4180/7200\n"
     ]
    },
    {
     "name": "stderr",
     "output_type": "stream",
     "text": [
      "C:\\Users\\Xinda\\AppData\\Local\\Programs\\Python\\Python39\\lib\\site-packages\\ipykernel\\ipkernel.py:283: DeprecationWarning: `should_run_async` will not call `transform_cell` automatically in the future. Please pass the result to `transformed_cell` argument and any exception that happen during thetransform in `preprocessing_exc_tuple` in IPython 7.17 and above.\n",
      "  and should_run_async(code)\n"
     ]
    },
    {
     "data": {
      "text/html": [
       "<div>\n",
       "<style scoped>\n",
       "    .dataframe tbody tr th:only-of-type {\n",
       "        vertical-align: middle;\n",
       "    }\n",
       "\n",
       "    .dataframe tbody tr th {\n",
       "        vertical-align: top;\n",
       "    }\n",
       "\n",
       "    .dataframe thead th {\n",
       "        text-align: right;\n",
       "    }\n",
       "</style>\n",
       "<table border=\"1\" class=\"dataframe\">\n",
       "  <thead>\n",
       "    <tr style=\"text-align: right;\">\n",
       "      <th></th>\n",
       "      <th>label</th>\n",
       "      <th>file</th>\n",
       "      <th>link</th>\n",
       "      <th>category</th>\n",
       "      <th>emotiveness</th>\n",
       "      <th>errors</th>\n",
       "      <th>pausatility</th>\n",
       "      <th>text</th>\n",
       "      <th>tokens</th>\n",
       "      <th>words in upper case</th>\n",
       "      <th>average sentence length</th>\n",
       "      <th>nouns</th>\n",
       "      <th>verbs</th>\n",
       "      <th>adverbs</th>\n",
       "      <th>adjectives</th>\n",
       "      <th>pronouns</th>\n",
       "      <th>date</th>\n",
       "    </tr>\n",
       "  </thead>\n",
       "  <tbody>\n",
       "    <tr>\n",
       "      <th>0</th>\n",
       "      <td>fake</td>\n",
       "      <td>1.txt</td>\n",
       "      <td>ceticismopolitico.com</td>\n",
       "      <td>politica</td>\n",
       "      <td>0.263158</td>\n",
       "      <td>0.000000</td>\n",
       "      <td>2.000000</td>\n",
       "      <td>katia abreu diz vai colocar expulsao moldura, ...</td>\n",
       "      <td>211.0</td>\n",
       "      <td>6.0</td>\n",
       "      <td>14.23080</td>\n",
       "      <td>46.0</td>\n",
       "      <td>30.0</td>\n",
       "      <td>13.0</td>\n",
       "      <td>7.0</td>\n",
       "      <td>26.0</td>\n",
       "      <td>2017-11-30</td>\n",
       "    </tr>\n",
       "    <tr>\n",
       "      <th>1</th>\n",
       "      <td>fake</td>\n",
       "      <td>10.txt</td>\n",
       "      <td>ceticismopolitico.com</td>\n",
       "      <td>politica</td>\n",
       "      <td>0.241667</td>\n",
       "      <td>0.007874</td>\n",
       "      <td>2.500000</td>\n",
       "      <td>dr. ray peita bolsonaro, chama-o conservador f...</td>\n",
       "      <td>289.0</td>\n",
       "      <td>0.0</td>\n",
       "      <td>18.14290</td>\n",
       "      <td>64.0</td>\n",
       "      <td>56.0</td>\n",
       "      <td>18.0</td>\n",
       "      <td>11.0</td>\n",
       "      <td>20.0</td>\n",
       "      <td>2017-11-24</td>\n",
       "    </tr>\n",
       "    <tr>\n",
       "      <th>2</th>\n",
       "      <td>fake</td>\n",
       "      <td>100.txt</td>\n",
       "      <td>afolhabrasil.com.br</td>\n",
       "      <td>politica</td>\n",
       "      <td>0.127820</td>\n",
       "      <td>0.003636</td>\n",
       "      <td>1.812500</td>\n",
       "      <td>reinaldo azevedo desmascarado policia federal....</td>\n",
       "      <td>304.0</td>\n",
       "      <td>0.0</td>\n",
       "      <td>17.18750</td>\n",
       "      <td>88.0</td>\n",
       "      <td>45.0</td>\n",
       "      <td>8.0</td>\n",
       "      <td>9.0</td>\n",
       "      <td>18.0</td>\n",
       "      <td>2017-05-23</td>\n",
       "    </tr>\n",
       "    <tr>\n",
       "      <th>3</th>\n",
       "      <td>fake</td>\n",
       "      <td>1000.txt</td>\n",
       "      <td>diariodobrasil.org</td>\n",
       "      <td>politica</td>\n",
       "      <td>0.229008</td>\n",
       "      <td>0.001748</td>\n",
       "      <td>2.680000</td>\n",
       "      <td>relatorio assustador bndes mostra dinheiro pub...</td>\n",
       "      <td>639.0</td>\n",
       "      <td>14.0</td>\n",
       "      <td>22.88000</td>\n",
       "      <td>175.0</td>\n",
       "      <td>87.0</td>\n",
       "      <td>21.0</td>\n",
       "      <td>39.0</td>\n",
       "      <td>34.0</td>\n",
       "      <td>2017-07-24</td>\n",
       "    </tr>\n",
       "    <tr>\n",
       "      <th>4</th>\n",
       "      <td>fake</td>\n",
       "      <td>1001.txt</td>\n",
       "      <td>diariodobrasil.org</td>\n",
       "      <td>politica</td>\n",
       "      <td>0.269231</td>\n",
       "      <td>0.000000</td>\n",
       "      <td>0.894737</td>\n",
       "      <td>radialista americano fala sobre pt: \"eles vend...</td>\n",
       "      <td>128.0</td>\n",
       "      <td>1.0</td>\n",
       "      <td>5.84211</td>\n",
       "      <td>31.0</td>\n",
       "      <td>21.0</td>\n",
       "      <td>8.0</td>\n",
       "      <td>6.0</td>\n",
       "      <td>12.0</td>\n",
       "      <td>2017-07-25</td>\n",
       "    </tr>\n",
       "  </tbody>\n",
       "</table>\n",
       "</div>"
      ],
      "text/plain": [
       "  label      file                   link  category  emotiveness    errors  \\\n",
       "0  fake     1.txt  ceticismopolitico.com  politica     0.263158  0.000000   \n",
       "1  fake    10.txt  ceticismopolitico.com  politica     0.241667  0.007874   \n",
       "2  fake   100.txt    afolhabrasil.com.br  politica     0.127820  0.003636   \n",
       "3  fake  1000.txt     diariodobrasil.org  politica     0.229008  0.001748   \n",
       "4  fake  1001.txt     diariodobrasil.org  politica     0.269231  0.000000   \n",
       "\n",
       "   pausatility                                               text  tokens  \\\n",
       "0     2.000000  katia abreu diz vai colocar expulsao moldura, ...   211.0   \n",
       "1     2.500000  dr. ray peita bolsonaro, chama-o conservador f...   289.0   \n",
       "2     1.812500  reinaldo azevedo desmascarado policia federal....   304.0   \n",
       "3     2.680000  relatorio assustador bndes mostra dinheiro pub...   639.0   \n",
       "4     0.894737  radialista americano fala sobre pt: \"eles vend...   128.0   \n",
       "\n",
       "   words in upper case  average sentence length  nouns  verbs  adverbs  \\\n",
       "0                  6.0                 14.23080   46.0   30.0     13.0   \n",
       "1                  0.0                 18.14290   64.0   56.0     18.0   \n",
       "2                  0.0                 17.18750   88.0   45.0      8.0   \n",
       "3                 14.0                 22.88000  175.0   87.0     21.0   \n",
       "4                  1.0                  5.84211   31.0   21.0      8.0   \n",
       "\n",
       "   adjectives  pronouns        date  \n",
       "0         7.0      26.0  2017-11-30  \n",
       "1        11.0      20.0  2017-11-24  \n",
       "2         9.0      18.0  2017-05-23  \n",
       "3        39.0      34.0  2017-07-24  \n",
       "4         6.0      12.0  2017-07-25  "
      ]
     },
     "execution_count": 3,
     "metadata": {},
     "output_type": "execute_result"
    }
   ],
   "source": [
    "print(\"All categories:\", set(df[\"category\"]))\n",
    "\n",
    "df_politica = df.loc[df[\"category\"] == \"politica\"].copy()\n",
    "print(f\"Ratio: {len(df_politica)}/{len(df)}\")\n",
    "\n",
    "df_politica.head()"
   ]
  },
  {
   "cell_type": "code",
   "execution_count": 4,
   "metadata": {},
   "outputs": [
    {
     "name": "stdout",
     "output_type": "stream",
     "text": [
      "Ratio: 1718/7200 (0.24)\n",
      "True: 936\n",
      "Fake: 782\n",
      "  label      file                   link  category  emotiveness    errors  \\\n",
      "0  fake     1.txt  ceticismopolitico.com  politica     0.263158  0.000000   \n",
      "1  fake    10.txt  ceticismopolitico.com  politica     0.241667  0.007874   \n",
      "2  fake   100.txt    afolhabrasil.com.br  politica     0.127820  0.003636   \n",
      "3  fake  1000.txt     diariodobrasil.org  politica     0.229008  0.001748   \n",
      "4  fake  1001.txt     diariodobrasil.org  politica     0.269231  0.000000   \n",
      "\n",
      "   pausatility                                               text  tokens  \\\n",
      "0     2.000000  katia abreu diz vai colocar expulsao moldura, ...   211.0   \n",
      "1     2.500000  dr. ray peita bolsonaro, chama-o conservador f...   289.0   \n",
      "2     1.812500  reinaldo azevedo desmascarado policia federal....   304.0   \n",
      "3     2.680000  relatorio assustador bndes mostra dinheiro pub...   639.0   \n",
      "4     0.894737  radialista americano fala sobre pt: \"eles vend...   128.0   \n",
      "\n",
      "   words in upper case  average sentence length  nouns  verbs  adverbs  \\\n",
      "0                  6.0                 14.23080   46.0   30.0     13.0   \n",
      "1                  0.0                 18.14290   64.0   56.0     18.0   \n",
      "2                  0.0                 17.18750   88.0   45.0      8.0   \n",
      "3                 14.0                 22.88000  175.0   87.0     21.0   \n",
      "4                  1.0                  5.84211   31.0   21.0      8.0   \n",
      "\n",
      "   adjectives  pronouns        date  \n",
      "0         7.0      26.0  2017-11-30  \n",
      "1        11.0      20.0  2017-11-24  \n",
      "2         9.0      18.0  2017-05-23  \n",
      "3        39.0      34.0  2017-07-24  \n",
      "4         6.0      12.0  2017-07-25  \n"
     ]
    },
    {
     "name": "stderr",
     "output_type": "stream",
     "text": [
      "C:\\Users\\Xinda\\AppData\\Local\\Programs\\Python\\Python39\\lib\\site-packages\\ipykernel\\ipkernel.py:283: DeprecationWarning: `should_run_async` will not call `transform_cell` automatically in the future. Please pass the result to `transformed_cell` argument and any exception that happen during thetransform in `preprocessing_exc_tuple` in IPython 7.17 and above.\n",
      "  and should_run_async(code)\n"
     ]
    }
   ],
   "source": [
    "# Easier to do as a string\n",
    "df_2017 = df_politica.loc[df[\"date\"].str.startswith(\"2017\", na=False)].copy()\n",
    "\n",
    "\n",
    "print(f\"Ratio: {len(df_2017)}/{len(df)} ({len(df_2017)/len(df):.2f})\")\n",
    "print(f\"True: {len(df_2017.loc[df['label'] == 'true'])}\")\n",
    "print(f\"Fake: {len(df_2017.loc[df['label'] == 'fake'])}\")\n",
    "df = df_2017\n",
    "\n",
    "print(df_2017.head())"
   ]
  },
  {
   "cell_type": "markdown",
   "metadata": {},
   "source": [
    "# 3. Tokenize and Clean-up using gensim’s simple_preprocess()"
   ]
  },
  {
   "cell_type": "code",
   "execution_count": 5,
   "metadata": {},
   "outputs": [
    {
     "name": "stderr",
     "output_type": "stream",
     "text": [
      "C:\\Users\\Xinda\\AppData\\Local\\Programs\\Python\\Python39\\lib\\site-packages\\ipykernel\\ipkernel.py:283: DeprecationWarning: `should_run_async` will not call `transform_cell` automatically in the future. Please pass the result to `transformed_cell` argument and any exception that happen during thetransform in `preprocessing_exc_tuple` in IPython 7.17 and above.\n",
      "  and should_run_async(code)\n"
     ]
    },
    {
     "data": {
      "text/plain": [
       "['katia',\n",
       " 'abreu',\n",
       " 'diz',\n",
       " 'vai',\n",
       " 'colocar',\n",
       " 'expulsao',\n",
       " 'moldura',\n",
       " 'reclamar',\n",
       " 'senadora',\n",
       " 'katia',\n",
       " 'abreu',\n",
       " 'sem',\n",
       " 'partido',\n",
       " 'to',\n",
       " 'disse',\n",
       " 'expulsao',\n",
       " 'pmdb',\n",
       " 'resultado',\n",
       " 'acao',\n",
       " 'cupula',\n",
       " 'atual',\n",
       " 'legenda',\n",
       " 'que',\n",
       " 'segundo',\n",
       " 'ela',\n",
       " 'oportunista',\n",
       " 'amanha',\n",
       " 'vou',\n",
       " 'botar',\n",
       " 'moldura',\n",
       " 'dourada',\n",
       " 'expulsao',\n",
       " 'porque',\n",
       " 'maos',\n",
       " 'onde',\n",
       " 'veio',\n",
       " 'atestado',\n",
       " 'boa',\n",
       " 'conduta',\n",
       " 'curriculo',\n",
       " 'essas',\n",
       " 'pessoas',\n",
       " 'expulsaram',\n",
       " 'servem',\n",
       " 'pais',\n",
       " 'eles',\n",
       " 'servem',\n",
       " 'pais',\n",
       " 'beneficios',\n",
       " 'proprios',\n",
       " 'disse',\n",
       " 'katia',\n",
       " 'abreu',\n",
       " 'ue',\n",
       " 'expulsao',\n",
       " 'algo',\n",
       " 'tao',\n",
       " 'bom',\n",
       " 'curriculo',\n",
       " 'tanta',\n",
       " 'choradeira',\n",
       " 'katia',\n",
       " 'sabemos',\n",
       " 'motivo',\n",
       " 'provavelmente',\n",
       " 'katia',\n",
       " 'valor',\n",
       " 'pt',\n",
       " 'partido',\n",
       " 'deveria',\n",
       " 'te',\n",
       " 'la',\n",
       " 'absorvido',\n",
       " 'ao',\n",
       " 'parece',\n",
       " 'pt',\n",
       " 'gostava',\n",
       " 'katia',\n",
       " 'somente',\n",
       " 'ficasse',\n",
       " 'entrincheirada',\n",
       " 'dentro',\n",
       " 'pmdb',\n",
       " 'ou',\n",
       " 'seja',\n",
       " 'rebaixar',\n",
       " 'demais',\n",
       " 'resta',\n",
       " 'katia',\n",
       " 'ficar',\n",
       " 'chorando',\n",
       " 'pitangas',\n",
       " 'todos',\n",
       " 'cantos',\n",
       " 'em',\n",
       " 'tempo',\n",
       " 'momento',\n",
       " 'pt',\n",
       " 'cadastrou',\n",
       " 'katia',\n",
       " 'abreu',\n",
       " 'fileiras',\n",
       " 'que',\n",
       " 'situacao',\n",
       " 'patetica',\n",
       " 'ex',\n",
       " 'ministra',\n",
       " 'agricultura',\n",
       " 'dilma']"
      ]
     },
     "execution_count": 5,
     "metadata": {},
     "output_type": "execute_result"
    }
   ],
   "source": [
    "def sent_to_words(sentences):\n",
    "    for sentence in sentences:\n",
    "        # deacc=True removes punctuations\n",
    "        yield (gensim.utils.simple_preprocess(str(sentence), deacc=True))\n",
    "\n",
    "\n",
    "all_documents = list(df[\"text\"].copy())\n",
    "data_words = list(sent_to_words(all_documents))\n",
    "data_words[0]"
   ]
  },
  {
   "cell_type": "markdown",
   "metadata": {},
   "source": [
    "# 4. Lemmatization\n",
    "\n",
    "Lemmatization is a process where we convert words to its root word.\n",
    "\n",
    "For example: ‘Studying’ becomes ‘Study’, ‘Meeting becomes ‘Meet’, ‘Better’ and ‘Best’ becomes ‘Good’.\n",
    "\n",
    "The advantage of this is, we get to reduce the total number of unique words in the dictionary. As a result, the number of columns in the document-word matrix (created by CountVectorizer in the next step) will be denser with lesser columns."
   ]
  },
  {
   "cell_type": "markdown",
   "metadata": {},
   "source": [
    "## If you're unable to run the cell below, make sure you have pt_core_news_sm from spacy.\n",
    "\n",
    "### To download it, run `python -m spacy download pt_core_news_sm`"
   ]
  },
  {
   "cell_type": "code",
   "execution_count": 6,
   "metadata": {},
   "outputs": [
    {
     "name": "stderr",
     "output_type": "stream",
     "text": [
      "C:\\Users\\Xinda\\AppData\\Local\\Programs\\Python\\Python39\\lib\\site-packages\\ipykernel\\ipkernel.py:283: DeprecationWarning: `should_run_async` will not call `transform_cell` automatically in the future. Please pass the result to `transformed_cell` argument and any exception that happen during thetransform in `preprocessing_exc_tuple` in IPython 7.17 and above.\n",
      "  and should_run_async(code)\n"
     ]
    },
    {
     "data": {
      "text/plain": [
       "'katia abreu dizer colocar expulsao moldurar reclamar abreu partir dizer expulsao pmdb resultar cupula atual legendar oportunista amanhar botar moldurar dourar expulsao maos vir atestar bom conduta curriculo pessoa expulsar servir pai servir pai beneficios proprios dizer katia abreu expulsao bom curriculo tanto choradeira katia saber motivar provavelmente katia valor pt partir dever absorver parecer gostar katia somente ficar entrincheirar dentro pmdb rebaixar demais restar katia ficar chorar pitanga canto momento cadastrar abreu fileira situacao patetica ministro agricultura'"
      ]
     },
     "execution_count": 6,
     "metadata": {},
     "output_type": "execute_result"
    }
   ],
   "source": [
    "def lemmatization(texts, allowed_postags=[\"NOUN\", \"ADJ\", \"VERB\", \"ADV\"]):\n",
    "    \"\"\"https://spacy.io/api/annotation\"\"\"\n",
    "    texts_out = []\n",
    "    for sent in texts:\n",
    "        doc = nlp(\" \".join(sent))\n",
    "        texts_out.append(\n",
    "            \" \".join(\n",
    "                [\n",
    "                    token.lemma_ if token.lemma_ not in [\"-PRON-\"] else \"\"\n",
    "                    for token in doc\n",
    "                    if token.pos_ in allowed_postags\n",
    "                ]\n",
    "            )\n",
    "        )\n",
    "    return texts_out\n",
    "\n",
    "\n",
    "# Initialize spacy 'pt_core_news_sm' model, keeping only tagger component (for efficiency)\n",
    "# Run in terminal: python3 -m spacy download pt_core_news_sm\n",
    "nlp = spacy.load(\"pt_core_news_sm\", disable=[\"parser\", \"ner\"])\n",
    "\n",
    "# Do lemmatization keeping only Noun, Adj, Verb, Adverb\n",
    "data_lemmatized = lemmatization(\n",
    "    data_words, allowed_postags=[\"NOUN\", \"ADJ\", \"VERB\", \"ADV\"]\n",
    ")\n",
    "data_lemmatized[0]"
   ]
  },
  {
   "cell_type": "markdown",
   "metadata": {},
   "source": [
    "## Remove stopwords"
   ]
  },
  {
   "cell_type": "code",
   "execution_count": 7,
   "metadata": {},
   "outputs": [
    {
     "name": "stderr",
     "output_type": "stream",
     "text": [
      "C:\\Users\\Xinda\\AppData\\Local\\Programs\\Python\\Python39\\lib\\site-packages\\ipykernel\\ipkernel.py:283: DeprecationWarning: `should_run_async` will not call `transform_cell` automatically in the future. Please pass the result to `transformed_cell` argument and any exception that happen during thetransform in `preprocessing_exc_tuple` in IPython 7.17 and above.\n",
      "  and should_run_async(code)\n"
     ]
    },
    {
     "data": {
      "text/plain": [
       "'katia abreu colocar expulsao moldurar reclamar abreu expulsao pmdb resultar cupula atual legendar oportunista amanhar botar moldurar dourar expulsao maos vir atestar conduta curriculo pessoa expulsar servir pai servir pai beneficios proprios katia abreu expulsao curriculo choradeira katia motivar provavelmente katia pt dever absorver parecer gostar katia ficar entrincheirar pmdb rebaixar restar katia ficar chorar pitanga canto cadastrar abreu fileira situacao patetica ministro agricultura'"
      ]
     },
     "execution_count": 7,
     "metadata": {},
     "output_type": "execute_result"
    }
   ],
   "source": [
    "stops = set(stopwordsiso.stopwords(\"pt\"))\n",
    "\n",
    "\n",
    "def remove_stopwords(text: str) -> str:\n",
    "    # print(text)\n",
    "    return \" \".join([t for t in text.split(\" \") if t not in stops])\n",
    "\n",
    "\n",
    "data_no_stopwords = [remove_stopwords(text) for text in data_lemmatized]\n",
    "data_no_stopwords[0]"
   ]
  },
  {
   "cell_type": "markdown",
   "metadata": {},
   "source": [
    "# 5. Create the Document-Word matrix\n",
    "\n",
    "The LDA topic model algorithm requires a document word matrix as the main input.\n",
    "\n",
    "You can create one using CountVectorizer. \n",
    "\n",
    "We configured the CountVectorizer to consider words that has occurred at least 10 times (min_df), remove built-in portuguese stopwords, convert all words to lowercase, and a word can contain numbers and alphabets of at least length 2 in order to be qualified as a word.\n",
    "\n",
    "So, to create the doc-word matrix, you need to first initialise the CountVectorizer class with the required configuration and then apply fit_transform to actually create the matrix.\n",
    "\n",
    "Since most cells contain zeros, the result will be in the form of a sparse matrix to save memory.\n",
    "\n",
    "If you want to materialize it in a 2D array format, call the todense() method of the sparse matrix like its done in the next step."
   ]
  },
  {
   "cell_type": "code",
   "execution_count": 8,
   "metadata": {},
   "outputs": [
    {
     "name": "stderr",
     "output_type": "stream",
     "text": [
      "C:\\Users\\Xinda\\AppData\\Local\\Programs\\Python\\Python39\\lib\\site-packages\\ipykernel\\ipkernel.py:283: DeprecationWarning: `should_run_async` will not call `transform_cell` automatically in the future. Please pass the result to `transformed_cell` argument and any exception that happen during thetransform in `preprocessing_exc_tuple` in IPython 7.17 and above.\n",
      "  and should_run_async(code)\n"
     ]
    }
   ],
   "source": [
    "vectorizer = CountVectorizer(\n",
    "    analyzer=\"word\",\n",
    "    min_df=10,  # minimum reqd occurences of a word\n",
    "    #  stop_words='portuguese',             # remove stop words\n",
    "    lowercase=True,  # convert all words to lowercase\n",
    "    token_pattern=\"[a-zA-Z0-9]{2,}\",  # num chars > 2\n",
    "    # max_features=50000,             # max number of uniq words\n",
    ")\n",
    "data_vectorized = vectorizer.fit_transform(data_no_stopwords)"
   ]
  },
  {
   "cell_type": "markdown",
   "metadata": {},
   "source": [
    "# 6. Check Sparsicity\n",
    "\n",
    "Sparsicity is nothing but the percentage of non-zero datapoints in the document-word matrix, that is data_vectorized.\n",
    "\n",
    "Since most cells in this matrix will be zero, we are interested in knowing what percentage of cells contain non-zero values."
   ]
  },
  {
   "cell_type": "code",
   "execution_count": 9,
   "metadata": {},
   "outputs": [
    {
     "name": "stdout",
     "output_type": "stream",
     "text": [
      "Sparsicity: 3.4748787290549727 %\n"
     ]
    },
    {
     "name": "stderr",
     "output_type": "stream",
     "text": [
      "C:\\Users\\Xinda\\AppData\\Local\\Programs\\Python\\Python39\\lib\\site-packages\\ipykernel\\ipkernel.py:283: DeprecationWarning: `should_run_async` will not call `transform_cell` automatically in the future. Please pass the result to `transformed_cell` argument and any exception that happen during thetransform in `preprocessing_exc_tuple` in IPython 7.17 and above.\n",
      "  and should_run_async(code)\n"
     ]
    }
   ],
   "source": [
    "# Materialize the sparse data\n",
    "data_dense = data_vectorized.todense()\n",
    "\n",
    "# Compute Sparsicity = Percentage of Non-Zero cells\n",
    "print(f\"Sparsicity: {((data_dense > 0).sum()/data_dense.size)*100} %\")"
   ]
  },
  {
   "cell_type": "markdown",
   "metadata": {},
   "source": [
    "# 7. Build LDA model with sklearn\n",
    "\n",
    "Everything is ready to build a Latent Dirichlet Allocation (LDA) model. Let’s initialise one and call fit_transform() to build the LDA model.\n",
    "\n",
    "For this example, we have set the n_components based on prior knowledge about the dataset. Later we will find the optimal number using grid search."
   ]
  },
  {
   "cell_type": "code",
   "execution_count": 10,
   "metadata": {},
   "outputs": [
    {
     "name": "stderr",
     "output_type": "stream",
     "text": [
      "C:\\Users\\Xinda\\AppData\\Local\\Programs\\Python\\Python39\\lib\\site-packages\\ipykernel\\ipkernel.py:283: DeprecationWarning: `should_run_async` will not call `transform_cell` automatically in the future. Please pass the result to `transformed_cell` argument and any exception that happen during thetransform in `preprocessing_exc_tuple` in IPython 7.17 and above.\n",
      "  and should_run_async(code)\n"
     ]
    },
    {
     "data": {
      "text/plain": [
       "LatentDirichletAllocation(learning_method='online', n_components=5,\n",
       "                          random_state=100)"
      ]
     },
     "execution_count": 10,
     "metadata": {},
     "output_type": "execute_result"
    }
   ],
   "source": [
    "# Build LDA Model\n",
    "lda_model = LatentDirichletAllocation(\n",
    "    n_components=5,  # Number of topics\n",
    "    max_iter=10,  # Max learning iterations\n",
    "    learning_method=\"online\",\n",
    "    random_state=100,  # Random state\n",
    "    batch_size=128,  # n docs in each learning iter\n",
    "    evaluate_every=-1,  # compute perplexity every n iters, default: Don't\n",
    "    n_jobs=None,  # Use all available CPUs\n",
    ")\n",
    "lda_output = lda_model.fit_transform(data_vectorized)\n",
    "\n",
    "lda_model  # Model attributes"
   ]
  },
  {
   "cell_type": "markdown",
   "metadata": {},
   "source": [
    "# 8. Diagnose model performance with perplexity and log-likelihood\n",
    "\n",
    "A model with higher log-likelihood and lower perplexity (exp(-1. * log-likelihood per word)) is considered to be good. Let’s check for our model."
   ]
  },
  {
   "cell_type": "code",
   "execution_count": 11,
   "metadata": {},
   "outputs": [
    {
     "name": "stderr",
     "output_type": "stream",
     "text": [
      "C:\\Users\\Xinda\\AppData\\Local\\Programs\\Python\\Python39\\lib\\site-packages\\ipykernel\\ipkernel.py:283: DeprecationWarning: `should_run_async` will not call `transform_cell` automatically in the future. Please pass the result to `transformed_cell` argument and any exception that happen during thetransform in `preprocessing_exc_tuple` in IPython 7.17 and above.\n",
      "  and should_run_async(code)\n"
     ]
    },
    {
     "name": "stdout",
     "output_type": "stream",
     "text": [
      "Log Likelihood:  -2980283.447532351\n",
      "Perplexity:  1459.602384458317\n",
      "{'batch_size': 128,\n",
      " 'doc_topic_prior': None,\n",
      " 'evaluate_every': -1,\n",
      " 'learning_decay': 0.7,\n",
      " 'learning_method': 'online',\n",
      " 'learning_offset': 10.0,\n",
      " 'max_doc_update_iter': 100,\n",
      " 'max_iter': 10,\n",
      " 'mean_change_tol': 0.001,\n",
      " 'n_components': 5,\n",
      " 'n_jobs': None,\n",
      " 'perp_tol': 0.1,\n",
      " 'random_state': 100,\n",
      " 'topic_word_prior': None,\n",
      " 'total_samples': 1000000.0,\n",
      " 'verbose': 0}\n"
     ]
    }
   ],
   "source": [
    "# Log Likelyhood: Higher the better\n",
    "print(\"Log Likelihood: \", lda_model.score(data_vectorized))\n",
    "\n",
    "# Perplexity: Lower the better. Perplexity = exp(-1. * log-likelihood per word)\n",
    "print(\"Perplexity: \", lda_model.perplexity(data_vectorized))\n",
    "\n",
    "# See model parameters\n",
    "pprint(lda_model.get_params())"
   ]
  },
  {
   "cell_type": "markdown",
   "metadata": {},
   "source": [
    "# 9. How to GridSearch the best LDA model?\n",
    "\n",
    "The most important tuning parameter for LDA models is n_components (number of topics). In addition, we are going to search learning_decay (which controls the learning rate) as well.\n",
    "\n",
    "Besides these, other possible search params could be learning_offset (downweigh early iterations. Should be > 1) and max_iter. These could be worth experimenting if you have enough computing resources.\n",
    "\n",
    "Be warned, the grid search constructs multiple LDA models for all possible combinations of param values in the param_grid dict. So, this process can consume a lot of time and resources."
   ]
  },
  {
   "cell_type": "code",
   "execution_count": 12,
   "metadata": {},
   "outputs": [
    {
     "name": "stderr",
     "output_type": "stream",
     "text": [
      "C:\\Users\\Xinda\\AppData\\Local\\Programs\\Python\\Python39\\lib\\site-packages\\ipykernel\\ipkernel.py:283: DeprecationWarning: `should_run_async` will not call `transform_cell` automatically in the future. Please pass the result to `transformed_cell` argument and any exception that happen during thetransform in `preprocessing_exc_tuple` in IPython 7.17 and above.\n",
      "  and should_run_async(code)\n"
     ]
    }
   ],
   "source": [
    "_filename_model = \"model_lda.obj\"\n",
    "import pickle, os\n",
    "\n",
    "\n",
    "def load_model():\n",
    "    if os.path.exists(_filename_model):\n",
    "        with open(_filename_model, \"rb\") as f:\n",
    "            return pickle.load(f)\n",
    "    return None\n",
    "\n",
    "\n",
    "def save_model(model):\n",
    "    with open(_filename_model, \"wb\") as f:\n",
    "        pickle.dump(model, f)"
   ]
  },
  {
   "cell_type": "code",
   "execution_count": 13,
   "metadata": {},
   "outputs": [
    {
     "name": "stderr",
     "output_type": "stream",
     "text": [
      "C:\\Users\\Xinda\\AppData\\Local\\Programs\\Python\\Python39\\lib\\site-packages\\ipykernel\\ipkernel.py:283: DeprecationWarning: `should_run_async` will not call `transform_cell` automatically in the future. Please pass the result to `transformed_cell` argument and any exception that happen during thetransform in `preprocessing_exc_tuple` in IPython 7.17 and above.\n",
      "  and should_run_async(code)\n",
      "C:\\Users\\Xinda\\AppData\\Local\\Programs\\Python\\Python39\\lib\\site-packages\\sklearn\\base.py:310: UserWarning: Trying to unpickle estimator LatentDirichletAllocation from version 1.0.1 when using version 0.24.2. This might lead to breaking code or invalid results. Use at your own risk.\n",
      "  warnings.warn(\n",
      "C:\\Users\\Xinda\\AppData\\Local\\Programs\\Python\\Python39\\lib\\site-packages\\sklearn\\base.py:310: UserWarning: Trying to unpickle estimator GridSearchCV from version 1.0.1 when using version 0.24.2. This might lead to breaking code or invalid results. Use at your own risk.\n",
      "  warnings.warn(\n"
     ]
    }
   ],
   "source": [
    "# Define Search Param\n",
    "search_params = {\n",
    "    \"n_components\": [3, 5, 7],\n",
    "    \"learning_decay\": [0.5, 0.7, 0.9],\n",
    "    \"learning_method\": [\"online\"],\n",
    "}\n",
    "\n",
    "# Init the Model\n",
    "lda = LatentDirichletAllocation()\n",
    "\n",
    "_model = load_model()\n",
    "if _model is None:\n",
    "    # Init Grid Search Class\n",
    "    _model = GridSearchCV(lda, param_grid=search_params)\n",
    "    # Do the Grid Search\n",
    "    _model.fit(data_vectorized)\n",
    "    save_model(_model)"
   ]
  },
  {
   "cell_type": "code",
   "execution_count": 14,
   "metadata": {},
   "outputs": [
    {
     "name": "stdout",
     "output_type": "stream",
     "text": [
      "GridSearchCV(estimator=LatentDirichletAllocation(),\n",
      "             param_grid={'learning_decay': [0.5, 0.7, 0.9],\n",
      "                         'learning_method': ['online'],\n",
      "                         'n_components': [3, 5, 7]})\n"
     ]
    },
    {
     "name": "stderr",
     "output_type": "stream",
     "text": [
      "C:\\Users\\Xinda\\AppData\\Local\\Programs\\Python\\Python39\\lib\\site-packages\\ipykernel\\ipkernel.py:283: DeprecationWarning: `should_run_async` will not call `transform_cell` automatically in the future. Please pass the result to `transformed_cell` argument and any exception that happen during thetransform in `preprocessing_exc_tuple` in IPython 7.17 and above.\n",
      "  and should_run_async(code)\n"
     ]
    }
   ],
   "source": [
    "model = load_model()\n",
    "print(model)"
   ]
  },
  {
   "cell_type": "markdown",
   "metadata": {},
   "source": [
    "# 10. How to see the best topic model and its parameters?"
   ]
  },
  {
   "cell_type": "code",
   "execution_count": 15,
   "metadata": {},
   "outputs": [
    {
     "name": "stdout",
     "output_type": "stream",
     "text": [
      "Best Model's Params:  {'learning_decay': 0.9, 'learning_method': 'online', 'n_components': 3}\n",
      "Best Log Likelihood Score:  -621096.7967477266\n"
     ]
    },
    {
     "name": "stderr",
     "output_type": "stream",
     "text": [
      "C:\\Users\\Xinda\\AppData\\Local\\Programs\\Python\\Python39\\lib\\site-packages\\ipykernel\\ipkernel.py:283: DeprecationWarning: `should_run_async` will not call `transform_cell` automatically in the future. Please pass the result to `transformed_cell` argument and any exception that happen during thetransform in `preprocessing_exc_tuple` in IPython 7.17 and above.\n",
      "  and should_run_async(code)\n"
     ]
    },
    {
     "name": "stdout",
     "output_type": "stream",
     "text": [
      "Model Perplexity:  1522.6166294491027\n"
     ]
    }
   ],
   "source": [
    "# Best Model\n",
    "best_lda_model = model.best_estimator_\n",
    "\n",
    "# Model Parameters\n",
    "print(\"Best Model's Params: \", model.best_params_)\n",
    "\n",
    "# Log Likelihood Score\n",
    "print(\"Best Log Likelihood Score: \", model.best_score_)\n",
    "\n",
    "# Perplexity\n",
    "print(\"Model Perplexity: \", best_lda_model.perplexity(data_vectorized))"
   ]
  },
  {
   "cell_type": "markdown",
   "metadata": {},
   "source": [
    "# 11. Compare LDA Model Performance Scores"
   ]
  },
  {
   "cell_type": "code",
   "execution_count": 16,
   "metadata": {},
   "outputs": [
    {
     "name": "stderr",
     "output_type": "stream",
     "text": [
      "C:\\Users\\Xinda\\AppData\\Local\\Programs\\Python\\Python39\\lib\\site-packages\\ipykernel\\ipkernel.py:283: DeprecationWarning: `should_run_async` will not call `transform_cell` automatically in the future. Please pass the result to `transformed_cell` argument and any exception that happen during thetransform in `preprocessing_exc_tuple` in IPython 7.17 and above.\n",
      "  and should_run_async(code)\n"
     ]
    },
    {
     "data": {
      "text/plain": [
       "dict_keys(['mean_fit_time', 'std_fit_time', 'mean_score_time', 'std_score_time', 'param_learning_decay', 'param_learning_method', 'param_n_components', 'params', 'split0_test_score', 'split1_test_score', 'split2_test_score', 'split3_test_score', 'split4_test_score', 'mean_test_score', 'std_test_score', 'rank_test_score'])"
      ]
     },
     "execution_count": 16,
     "metadata": {},
     "output_type": "execute_result"
    }
   ],
   "source": [
    "model.cv_results_.keys()"
   ]
  },
  {
   "cell_type": "code",
   "execution_count": 17,
   "metadata": {},
   "outputs": [
    {
     "name": "stderr",
     "output_type": "stream",
     "text": [
      "C:\\Users\\Xinda\\AppData\\Local\\Programs\\Python\\Python39\\lib\\site-packages\\ipykernel\\ipkernel.py:283: DeprecationWarning: `should_run_async` will not call `transform_cell` automatically in the future. Please pass the result to `transformed_cell` argument and any exception that happen during thetransform in `preprocessing_exc_tuple` in IPython 7.17 and above.\n",
      "  and should_run_async(code)\n"
     ]
    },
    {
     "data": {
      "image/png": "[encoded data removed]",
      "text/plain": [
       "<Figure size 864x576 with 1 Axes>"
      ]
     },
     "metadata": {
      "needs_background": "light"
     },
     "output_type": "display_data"
    }
   ],
   "source": [
    "# Get Log Likelyhoods from Grid Search Output\n",
    "n_topics = [3, 5, 7]\n",
    "log_likelyhoods_5 = [\n",
    "    round(model.cv_results_[\"mean_test_score\"][i])\n",
    "    for i, learning_decay in enumerate(model.cv_results_[\"param_learning_decay\"])\n",
    "    if learning_decay == 0.5\n",
    "]\n",
    "log_likelyhoods_7 = [\n",
    "    round(model.cv_results_[\"mean_test_score\"][i])\n",
    "    for i, learning_decay in enumerate(model.cv_results_[\"param_learning_decay\"])\n",
    "    if learning_decay == 0.7\n",
    "]\n",
    "log_likelyhoods_9 = [\n",
    "    round(model.cv_results_[\"mean_test_score\"][i])\n",
    "    for i, learning_decay in enumerate(model.cv_results_[\"param_learning_decay\"])\n",
    "    if learning_decay == 0.9\n",
    "]\n",
    "\n",
    "# Show graph\n",
    "plt.figure(figsize=(12, 8))\n",
    "plt.plot(n_topics, log_likelyhoods_5, label=\"0.5\")\n",
    "plt.plot(n_topics, log_likelyhoods_7, label=\"0.7\")\n",
    "plt.plot(n_topics, log_likelyhoods_9, label=\"0.9\")\n",
    "plt.title(\"Choosing Optimal LDA Model\")\n",
    "plt.xlabel(\"Num Topics\")\n",
    "plt.ylabel(\"Log Likelyhood Scores\")\n",
    "plt.legend(title=\"Learning decay\", loc=\"best\")\n",
    "plt.show()"
   ]
  },
  {
   "cell_type": "markdown",
   "metadata": {},
   "source": [
    "# 12. How to see the dominant topic in each document?\n",
    "\n",
    "To classify a document as belonging to a particular topic, a logical approach is to see which topic has the highest contribution to that document and assign it.\n",
    "\n",
    "In the table below, we’ve greened out all major topics in a document and assigned the most dominant topic in its own column."
   ]
  },
  {
   "cell_type": "code",
   "execution_count": 18,
   "metadata": {},
   "outputs": [
    {
     "name": "stderr",
     "output_type": "stream",
     "text": [
      "C:\\Users\\Xinda\\AppData\\Local\\Programs\\Python\\Python39\\lib\\site-packages\\ipykernel\\ipkernel.py:283: DeprecationWarning: `should_run_async` will not call `transform_cell` automatically in the future. Please pass the result to `transformed_cell` argument and any exception that happen during thetransform in `preprocessing_exc_tuple` in IPython 7.17 and above.\n",
      "  and should_run_async(code)\n"
     ]
    },
    {
     "data": {
      "text/html": [
       "<style  type=\"text/css\" >\n",
       "#T_cfae9_row0_col0,#T_cfae9_row0_col1,#T_cfae9_row1_col0,#T_cfae9_row1_col1,#T_cfae9_row2_col2,#T_cfae9_row2_col3,#T_cfae9_row3_col0,#T_cfae9_row4_col0,#T_cfae9_row4_col1,#T_cfae9_row5_col1,#T_cfae9_row6_col0,#T_cfae9_row8_col0,#T_cfae9_row9_col2,#T_cfae9_row9_col3,#T_cfae9_row10_col0,#T_cfae9_row10_col2,#T_cfae9_row11_col1,#T_cfae9_row13_col0,#T_cfae9_row14_col1{\n",
       "            color:  black;\n",
       "            font-weight:  400;\n",
       "        }#T_cfae9_row0_col2,#T_cfae9_row0_col3,#T_cfae9_row1_col2,#T_cfae9_row1_col3,#T_cfae9_row2_col0,#T_cfae9_row2_col1,#T_cfae9_row3_col1,#T_cfae9_row3_col2,#T_cfae9_row3_col3,#T_cfae9_row4_col2,#T_cfae9_row4_col3,#T_cfae9_row5_col0,#T_cfae9_row5_col2,#T_cfae9_row5_col3,#T_cfae9_row6_col1,#T_cfae9_row6_col2,#T_cfae9_row6_col3,#T_cfae9_row7_col0,#T_cfae9_row7_col1,#T_cfae9_row7_col2,#T_cfae9_row7_col3,#T_cfae9_row8_col1,#T_cfae9_row8_col2,#T_cfae9_row8_col3,#T_cfae9_row9_col0,#T_cfae9_row9_col1,#T_cfae9_row10_col1,#T_cfae9_row10_col3,#T_cfae9_row11_col0,#T_cfae9_row11_col2,#T_cfae9_row11_col3,#T_cfae9_row12_col0,#T_cfae9_row12_col1,#T_cfae9_row12_col2,#T_cfae9_row12_col3,#T_cfae9_row13_col1,#T_cfae9_row13_col2,#T_cfae9_row13_col3,#T_cfae9_row14_col0,#T_cfae9_row14_col2,#T_cfae9_row14_col3{\n",
       "            color:  green;\n",
       "            font-weight:  700;\n",
       "        }</style><table id=\"T_cfae9_\" ><thead>    <tr>        <th class=\"blank level0\" ></th>        <th class=\"col_heading level0 col0\" >Topic 0</th>        <th class=\"col_heading level0 col1\" >Topic 1</th>        <th class=\"col_heading level0 col2\" >Topic 2</th>        <th class=\"col_heading level0 col3\" >dominant_topic</th>    </tr></thead><tbody>\n",
       "                <tr>\n",
       "                        <th id=\"T_cfae9_level0_row0\" class=\"row_heading level0 row0\" >Doc 0</th>\n",
       "                        <td id=\"T_cfae9_row0_col0\" class=\"data row0 col0\" >0.010000</td>\n",
       "                        <td id=\"T_cfae9_row0_col1\" class=\"data row0 col1\" >0.010000</td>\n",
       "                        <td id=\"T_cfae9_row0_col2\" class=\"data row0 col2\" >0.980000</td>\n",
       "                        <td id=\"T_cfae9_row0_col3\" class=\"data row0 col3\" >2</td>\n",
       "            </tr>\n",
       "            <tr>\n",
       "                        <th id=\"T_cfae9_level0_row1\" class=\"row_heading level0 row1\" >Doc 1</th>\n",
       "                        <td id=\"T_cfae9_row1_col0\" class=\"data row1 col0\" >0.000000</td>\n",
       "                        <td id=\"T_cfae9_row1_col1\" class=\"data row1 col1\" >0.000000</td>\n",
       "                        <td id=\"T_cfae9_row1_col2\" class=\"data row1 col2\" >0.990000</td>\n",
       "                        <td id=\"T_cfae9_row1_col3\" class=\"data row1 col3\" >2</td>\n",
       "            </tr>\n",
       "            <tr>\n",
       "                        <th id=\"T_cfae9_level0_row2\" class=\"row_heading level0 row2\" >Doc 2</th>\n",
       "                        <td id=\"T_cfae9_row2_col0\" class=\"data row2 col0\" >0.810000</td>\n",
       "                        <td id=\"T_cfae9_row2_col1\" class=\"data row2 col1\" >0.110000</td>\n",
       "                        <td id=\"T_cfae9_row2_col2\" class=\"data row2 col2\" >0.080000</td>\n",
       "                        <td id=\"T_cfae9_row2_col3\" class=\"data row2 col3\" >0</td>\n",
       "            </tr>\n",
       "            <tr>\n",
       "                        <th id=\"T_cfae9_level0_row3\" class=\"row_heading level0 row3\" >Doc 3</th>\n",
       "                        <td id=\"T_cfae9_row3_col0\" class=\"data row3 col0\" >0.000000</td>\n",
       "                        <td id=\"T_cfae9_row3_col1\" class=\"data row3 col1\" >0.500000</td>\n",
       "                        <td id=\"T_cfae9_row3_col2\" class=\"data row3 col2\" >0.500000</td>\n",
       "                        <td id=\"T_cfae9_row3_col3\" class=\"data row3 col3\" >1</td>\n",
       "            </tr>\n",
       "            <tr>\n",
       "                        <th id=\"T_cfae9_level0_row4\" class=\"row_heading level0 row4\" >Doc 4</th>\n",
       "                        <td id=\"T_cfae9_row4_col0\" class=\"data row4 col0\" >0.010000</td>\n",
       "                        <td id=\"T_cfae9_row4_col1\" class=\"data row4 col1\" >0.010000</td>\n",
       "                        <td id=\"T_cfae9_row4_col2\" class=\"data row4 col2\" >0.980000</td>\n",
       "                        <td id=\"T_cfae9_row4_col3\" class=\"data row4 col3\" >2</td>\n",
       "            </tr>\n",
       "            <tr>\n",
       "                        <th id=\"T_cfae9_level0_row5\" class=\"row_heading level0 row5\" >Doc 5</th>\n",
       "                        <td id=\"T_cfae9_row5_col0\" class=\"data row5 col0\" >0.150000</td>\n",
       "                        <td id=\"T_cfae9_row5_col1\" class=\"data row5 col1\" >0.010000</td>\n",
       "                        <td id=\"T_cfae9_row5_col2\" class=\"data row5 col2\" >0.840000</td>\n",
       "                        <td id=\"T_cfae9_row5_col3\" class=\"data row5 col3\" >2</td>\n",
       "            </tr>\n",
       "            <tr>\n",
       "                        <th id=\"T_cfae9_level0_row6\" class=\"row_heading level0 row6\" >Doc 6</th>\n",
       "                        <td id=\"T_cfae9_row6_col0\" class=\"data row6 col0\" >0.030000</td>\n",
       "                        <td id=\"T_cfae9_row6_col1\" class=\"data row6 col1\" >0.270000</td>\n",
       "                        <td id=\"T_cfae9_row6_col2\" class=\"data row6 col2\" >0.710000</td>\n",
       "                        <td id=\"T_cfae9_row6_col3\" class=\"data row6 col3\" >2</td>\n",
       "            </tr>\n",
       "            <tr>\n",
       "                        <th id=\"T_cfae9_level0_row7\" class=\"row_heading level0 row7\" >Doc 7</th>\n",
       "                        <td id=\"T_cfae9_row7_col0\" class=\"data row7 col0\" >0.120000</td>\n",
       "                        <td id=\"T_cfae9_row7_col1\" class=\"data row7 col1\" >0.660000</td>\n",
       "                        <td id=\"T_cfae9_row7_col2\" class=\"data row7 col2\" >0.220000</td>\n",
       "                        <td id=\"T_cfae9_row7_col3\" class=\"data row7 col3\" >1</td>\n",
       "            </tr>\n",
       "            <tr>\n",
       "                        <th id=\"T_cfae9_level0_row8\" class=\"row_heading level0 row8\" >Doc 8</th>\n",
       "                        <td id=\"T_cfae9_row8_col0\" class=\"data row8 col0\" >0.010000</td>\n",
       "                        <td id=\"T_cfae9_row8_col1\" class=\"data row8 col1\" >0.320000</td>\n",
       "                        <td id=\"T_cfae9_row8_col2\" class=\"data row8 col2\" >0.670000</td>\n",
       "                        <td id=\"T_cfae9_row8_col3\" class=\"data row8 col3\" >2</td>\n",
       "            </tr>\n",
       "            <tr>\n",
       "                        <th id=\"T_cfae9_level0_row9\" class=\"row_heading level0 row9\" >Doc 9</th>\n",
       "                        <td id=\"T_cfae9_row9_col0\" class=\"data row9 col0\" >0.870000</td>\n",
       "                        <td id=\"T_cfae9_row9_col1\" class=\"data row9 col1\" >0.120000</td>\n",
       "                        <td id=\"T_cfae9_row9_col2\" class=\"data row9 col2\" >0.010000</td>\n",
       "                        <td id=\"T_cfae9_row9_col3\" class=\"data row9 col3\" >0</td>\n",
       "            </tr>\n",
       "            <tr>\n",
       "                        <th id=\"T_cfae9_level0_row10\" class=\"row_heading level0 row10\" >Doc 10</th>\n",
       "                        <td id=\"T_cfae9_row10_col0\" class=\"data row10 col0\" >0.010000</td>\n",
       "                        <td id=\"T_cfae9_row10_col1\" class=\"data row10 col1\" >0.980000</td>\n",
       "                        <td id=\"T_cfae9_row10_col2\" class=\"data row10 col2\" >0.010000</td>\n",
       "                        <td id=\"T_cfae9_row10_col3\" class=\"data row10 col3\" >1</td>\n",
       "            </tr>\n",
       "            <tr>\n",
       "                        <th id=\"T_cfae9_level0_row11\" class=\"row_heading level0 row11\" >Doc 11</th>\n",
       "                        <td id=\"T_cfae9_row11_col0\" class=\"data row11 col0\" >0.360000</td>\n",
       "                        <td id=\"T_cfae9_row11_col1\" class=\"data row11 col1\" >0.010000</td>\n",
       "                        <td id=\"T_cfae9_row11_col2\" class=\"data row11 col2\" >0.640000</td>\n",
       "                        <td id=\"T_cfae9_row11_col3\" class=\"data row11 col3\" >2</td>\n",
       "            </tr>\n",
       "            <tr>\n",
       "                        <th id=\"T_cfae9_level0_row12\" class=\"row_heading level0 row12\" >Doc 12</th>\n",
       "                        <td id=\"T_cfae9_row12_col0\" class=\"data row12 col0\" >0.250000</td>\n",
       "                        <td id=\"T_cfae9_row12_col1\" class=\"data row12 col1\" >0.250000</td>\n",
       "                        <td id=\"T_cfae9_row12_col2\" class=\"data row12 col2\" >0.500000</td>\n",
       "                        <td id=\"T_cfae9_row12_col3\" class=\"data row12 col3\" >2</td>\n",
       "            </tr>\n",
       "            <tr>\n",
       "                        <th id=\"T_cfae9_level0_row13\" class=\"row_heading level0 row13\" >Doc 13</th>\n",
       "                        <td id=\"T_cfae9_row13_col0\" class=\"data row13 col0\" >0.010000</td>\n",
       "                        <td id=\"T_cfae9_row13_col1\" class=\"data row13 col1\" >0.130000</td>\n",
       "                        <td id=\"T_cfae9_row13_col2\" class=\"data row13 col2\" >0.860000</td>\n",
       "                        <td id=\"T_cfae9_row13_col3\" class=\"data row13 col3\" >2</td>\n",
       "            </tr>\n",
       "            <tr>\n",
       "                        <th id=\"T_cfae9_level0_row14\" class=\"row_heading level0 row14\" >Doc 14</th>\n",
       "                        <td id=\"T_cfae9_row14_col0\" class=\"data row14 col0\" >0.210000</td>\n",
       "                        <td id=\"T_cfae9_row14_col1\" class=\"data row14 col1\" >0.020000</td>\n",
       "                        <td id=\"T_cfae9_row14_col2\" class=\"data row14 col2\" >0.780000</td>\n",
       "                        <td id=\"T_cfae9_row14_col3\" class=\"data row14 col3\" >2</td>\n",
       "            </tr>\n",
       "    </tbody></table>"
      ],
      "text/plain": [
       "<pandas.io.formats.style.Styler at 0x287490a99d0>"
      ]
     },
     "execution_count": 18,
     "metadata": {},
     "output_type": "execute_result"
    }
   ],
   "source": [
    "# Create Document - Topic Matrix\n",
    "lda_output = best_lda_model.transform(data_vectorized)\n",
    "\n",
    "# column names\n",
    "topicnames = [f\"Topic {i}\" for i in range(best_lda_model.n_components)]\n",
    "\n",
    "# index names\n",
    "docnames = [f\"Doc {i}\" for i in range(len(all_documents))]\n",
    "\n",
    "# Make the pandas dataframe\n",
    "df_document_topic = pd.DataFrame(\n",
    "    np.round(lda_output, 2), columns=topicnames, index=docnames\n",
    ")\n",
    "\n",
    "# Get dominant topic for each document\n",
    "dominant_topic = np.argmax(df_document_topic.values, axis=1)\n",
    "df_document_topic[\"dominant_topic\"] = dominant_topic\n",
    "\n",
    "# Styling\n",
    "def color_green(val):\n",
    "    color = \"green\" if val > 0.1 else \"black\"\n",
    "    return \"color: {col}\".format(col=color)\n",
    "\n",
    "\n",
    "def make_bold(val):\n",
    "    weight = 700 if val > 0.1 else 400\n",
    "    return \"font-weight: {weight}\".format(weight=weight)\n",
    "\n",
    "\n",
    "# Apply Style\n",
    "df_document_topics = (\n",
    "    df_document_topic.head(15).style.applymap(color_green).applymap(make_bold)\n",
    ")\n",
    "df_document_topics"
   ]
  },
  {
   "cell_type": "markdown",
   "metadata": {},
   "source": [
    "# 13. Review topics distribution across documents"
   ]
  },
  {
   "cell_type": "code",
   "execution_count": 19,
   "metadata": {},
   "outputs": [
    {
     "name": "stderr",
     "output_type": "stream",
     "text": [
      "C:\\Users\\Xinda\\AppData\\Local\\Programs\\Python\\Python39\\lib\\site-packages\\ipykernel\\ipkernel.py:283: DeprecationWarning: `should_run_async` will not call `transform_cell` automatically in the future. Please pass the result to `transformed_cell` argument and any exception that happen during thetransform in `preprocessing_exc_tuple` in IPython 7.17 and above.\n",
      "  and should_run_async(code)\n"
     ]
    },
    {
     "data": {
      "text/html": [
       "<div>\n",
       "<style scoped>\n",
       "    .dataframe tbody tr th:only-of-type {\n",
       "        vertical-align: middle;\n",
       "    }\n",
       "\n",
       "    .dataframe tbody tr th {\n",
       "        vertical-align: top;\n",
       "    }\n",
       "\n",
       "    .dataframe thead th {\n",
       "        text-align: right;\n",
       "    }\n",
       "</style>\n",
       "<table border=\"1\" class=\"dataframe\">\n",
       "  <thead>\n",
       "    <tr style=\"text-align: right;\">\n",
       "      <th></th>\n",
       "      <th>Topic Num</th>\n",
       "      <th>Num Documents</th>\n",
       "    </tr>\n",
       "  </thead>\n",
       "  <tbody>\n",
       "    <tr>\n",
       "      <th>0</th>\n",
       "      <td>2</td>\n",
       "      <td>720</td>\n",
       "    </tr>\n",
       "    <tr>\n",
       "      <th>1</th>\n",
       "      <td>1</td>\n",
       "      <td>508</td>\n",
       "    </tr>\n",
       "    <tr>\n",
       "      <th>2</th>\n",
       "      <td>0</td>\n",
       "      <td>490</td>\n",
       "    </tr>\n",
       "  </tbody>\n",
       "</table>\n",
       "</div>"
      ],
      "text/plain": [
       "   Topic Num  Num Documents\n",
       "0          2            720\n",
       "1          1            508\n",
       "2          0            490"
      ]
     },
     "execution_count": 19,
     "metadata": {},
     "output_type": "execute_result"
    }
   ],
   "source": [
    "df_topic_distribution = (\n",
    "    df_document_topic[\"dominant_topic\"].value_counts().reset_index(name=\"Num Documents\")\n",
    ")\n",
    "df_topic_distribution.columns = [\"Topic Num\", \"Num Documents\"]\n",
    "df_topic_distribution"
   ]
  },
  {
   "cell_type": "markdown",
   "metadata": {},
   "source": [
    "# 14. How to visualize the LDA model with pyLDAvis?\n",
    "\n",
    "The pyLDAvis offers the best visualization to view the topics-keywords distribution.\n",
    "\n",
    "A good topic model will have non-overlapping, fairly big sized blobs for each topic."
   ]
  },
  {
   "cell_type": "code",
   "execution_count": 20,
   "metadata": {},
   "outputs": [
    {
     "name": "stderr",
     "output_type": "stream",
     "text": [
      "C:\\Users\\Xinda\\AppData\\Local\\Programs\\Python\\Python39\\lib\\site-packages\\ipykernel\\ipkernel.py:283: DeprecationWarning: `should_run_async` will not call `transform_cell` automatically in the future. Please pass the result to `transformed_cell` argument and any exception that happen during thetransform in `preprocessing_exc_tuple` in IPython 7.17 and above.\n",
      "  and should_run_async(code)\n",
      "C:\\Users\\Xinda\\AppData\\Local\\Programs\\Python\\Python39\\lib\\site-packages\\sklearn\\manifold\\_t_sne.py:691: FutureWarning: 'square_distances' has been introduced in 0.24 to help phase out legacy squaring behavior. The 'legacy' setting will be removed in 1.1 (renaming of 0.26), and the default setting will be changed to True. In 1.3, 'square_distances' will be removed altogether, and distances will be squared by default. Set 'square_distances'=True to silence this warning.\n",
      "  warnings.warn(\n"
     ]
    },
    {
     "data": {
      "text/html": [
       "\n",
       "<link rel=\"stylesheet\" type=\"text/css\" href=\"https://cdn.jsdelivr.net/gh/bmabey/pyLDAvis@3.3.1/pyLDAvis/js/ldavis.v1.0.0.css\">\n",
       "\n",
       "\n",
       "<div id=\"ldavis_el144827801252248487583298770\"></div>\n",
       "<script type=\"text/javascript\">\n",
       "\n",
       "var ldavis_el144827801252248487583298770_data = {\"mdsDat\": {\"x\": [-1015.7005615234375, -387.9960021972656, -2184.74560546875], \"y\": [1338.981201171875, -373.316162109375, -60.565799713134766], \"topics\": [1, 2, 3], \"cluster\": [1, 1, 1], \"Freq\": [41.49652176845512, 35.17077443741543, 23.33270379412946]}, \"tinfo\": {\"Term\": [\"senador\", \"temer\", \"odebrecht\", \"aecio\", \"ministrar\", \"depoimento\", \"propinar\", \"jato\", \"lavar\", \"senado\", \"janot\", \"policiar\", \"pmdb\", \"dinheiro\", \"denunciar\", \"juiz\", \"federal\", \"morar\", \"pedir\", \"palocci\", \"milhoes\", \"republicar\", \"defeso\", \"petrobras\", \"empresar\", \"campanha\", \"deputar\", \"pgr\", \"ministro\", \"lula\", \"trump\", \"bolsonaro\", \"conservador\", \"dor\", \"obama\", \"consumir\", \"venezuelano\", \"diplomata\", \"kim\", \"esquerdo\", \"cientista\", \"criancas\", \"tiririca\", \"donald\", \"coreano\", \"pesquisador\", \"alemanha\", \"crescer\", \"ciro\", \"mundial\", \"musicar\", \"indigenas\", \"jair\", \"madurar\", \"ideia\", \"coreia\", \"piorar\", \"democrata\", \"refugiar\", \"bbc\", \"meter\", \"trimestre\", \"programar\", \"pesquisar\", \"americano\", \"doria\", \"previdencia\", \"saude\", \"cultural\", \"economia\", \"artista\", \"venezuela\", \"populacao\", \"escola\", \"candidatar\", \"crianca\", \"brasileiro\", \"discursar\", \"aguar\", \"social\", \"pai\", \"bilhoes\", \"projeto\", \"governar\", \"paises\", \"aumentar\", \"mulher\", \"problema\", \"politicar\", \"cidade\", \"crise\", \"direito\", \"pessoa\", \"reformar\", \"mundo\", \"vidar\", \"prefeito\", \"querer\", \"ficar\", \"deputar\", \"passar\", \"presidente\", \"temer\", \"conseguir\", \"publicar\", \"dever\", \"camara\", \"vir\", \"afirmar\", \"lei\", \"casar\", \"chegar\", \"voltar\", \"formar\", \"contar\", \"apo\", \"feirar\", \"empresar\", \"triplex\", \"glauco\", \"recibo\", \"oas\", \"guaruja\", \"costamarques\", \"palocci\", \"cervero\", \"tesoureiro\", \"duque\", \"bumlai\", \"interrogatorio\", \"apartamento\", \"interrogar\", \"acervar\", \"sentenca\", \"lavagem\", \"reus\", \"dissimular\", \"pecuarista\", \"marisa\", \"dirceu\", \"alexandrino\", \"odebrecht\", \"ltda\", \"okamotto\", \"kontic\", \"trf\", \"zelote\", \"planilha\", \"depoimento\", \"mpf\", \"imovel\", \"esquema\", \"construtor\", \"propinar\", \"empreiteiro\", \"emilio\", \"lula\", \"mantega\", \"petrobras\", \"testemunhar\", \"juiz\", \"morar\", \"marcelo\", \"contrato\", \"pagamento\", \"dinheiro\", \"caixa\", \"milhoes\", \"provar\", \"sergio\", \"defeso\", \"campanha\", \"advogar\", \"delator\", \"dilma\", \"lavar\", \"jato\", \"empresar\", \"presidente\", \"pedir\", \"receber\", \"federal\", \"afirmar\", \"processar\", \"operacao\", \"corrupcao\", \"acordar\", \"contar\", \"publicar\", \"ministrar\", \"denunciar\", \"delacao\", \"justica\", \"ministerio\", \"perrella\", \"barroso\", \"pacheco\", \"dodge\", \"ferraco\", \"andrea\", \"raquel\", \"serraglio\", \"nomeacao\", \"renan\", \"transpetro\", \"machadar\", \"frederico\", \"miller\", \"patmos\", \"penitenciarios\", \"osmar\", \"prerrogativa\", \"randolfe\", \"fab\", \"coronel\", \"zeze\", \"sabatino\", \"rocha\", \"etchegoyen\", \"ccj\", \"janot\", \"torquato\", \"calheiros\", \"esplanada\", \"aecio\", \"lourar\", \"saud\", \"foro\", \"afastamento\", \"carmen\", \"moreira\", \"senador\", \"senado\", \"aurelio\", \"irma\", \"gilmar\", \"mendes\", \"plenario\", \"pgr\", \"rodrigar\", \"eunicio\", \"teori\", \"pmdb\", \"ministro\", \"temer\", \"policiar\", \"afastar\", \"ministrar\", \"republicar\", \"preso\", \"parlamentar\", \"privilegiar\", \"deputar\", \"denunciar\", \"relator\", \"psdb\", \"camara\", \"ricardo\", \"federal\", \"casar\", \"presidente\", \"decisao\", \"pedir\", \"jato\", \"lavar\", \"apo\", \"crime\", \"publicar\", \"feirar\", \"passar\", \"prisao\", \"afirmar\"], \"Freq\": [1495.0, 3192.0, 1203.0, 900.0, 2243.0, 978.0, 1038.0, 1729.0, 1740.0, 722.0, 604.0, 1316.0, 1133.0, 1410.0, 1501.0, 928.0, 2547.0, 859.0, 2280.0, 555.0, 1196.0, 1181.0, 1373.0, 675.0, 1513.0, 1055.0, 1958.0, 517.0, 670.0, 578.0, 299.4088505278061, 285.8574456288081, 67.41746252041776, 68.45126568538205, 62.29180252552755, 85.74984630113715, 79.0780471729232, 55.15806824027436, 86.43901585658833, 112.96428298398429, 52.42853559473997, 169.9715572598298, 58.34828585739093, 77.0239913117919, 84.04485459289405, 55.115880181217946, 63.81022303852768, 116.94846872878513, 59.05098196677509, 73.932208454664, 108.09241666914632, 48.09372086191428, 119.32941526404863, 50.34693334832893, 42.60754577049808, 166.66164098699633, 47.620310982369965, 38.02502190989463, 38.180605933547355, 72.07795542390217, 95.84755703884004, 51.34304267751211, 299.0528383616402, 224.8468181593501, 296.2903423370176, 165.68518900722992, 195.5467577880146, 340.2499350217945, 74.27215507603852, 161.60675975525413, 102.65388144817264, 98.69804829671132, 237.73389327075384, 196.98211676663158, 325.9724929754163, 134.9266657567554, 777.5056077547206, 262.0376444814694, 184.4742323122248, 473.032096619752, 1112.5795258931714, 202.72141708528187, 404.3682491215023, 1398.4616800569231, 236.20297642970138, 292.5288084664952, 390.3238821699045, 317.0837296162383, 988.9783960426447, 403.59797591536886, 285.9099175754745, 571.3761751551062, 876.6548196929956, 415.67119921365406, 309.0681204281358, 316.92321048342325, 306.7556194897355, 600.2187757675704, 646.3732214851576, 879.3598576712283, 694.8932816450938, 1634.7302403653468, 1104.9915603013985, 370.6440791819044, 788.883906434557, 526.3854516358537, 546.1794991121953, 417.50883499697886, 791.1889445591403, 408.88925079369056, 644.7885456486432, 469.4468368989154, 400.34861705195345, 405.8297443441132, 497.65001741586985, 487.82167606220827, 451.68734076083933, 461.2453273229454, 247.77341658382014, 74.38786327960891, 79.4969651485273, 81.91038601841146, 99.40581246737985, 65.42101120962721, 548.9756041716633, 86.54874530823083, 63.17627396295101, 95.8980352311551, 47.925653588714326, 72.3526551267562, 472.6587437027793, 42.89405844915757, 39.87614996128487, 216.38324582948906, 362.61425102641954, 169.10412471828604, 30.180077053054855, 34.190998715049645, 253.699524889533, 160.67470425441275, 32.75324129200256, 1170.8083660646953, 28.609782054614552, 23.83632821412902, 24.281224801640317, 55.83888460086261, 30.20816048856619, 57.63277221609963, 943.0516152122498, 473.25508265107396, 290.2778876451707, 345.73678351877595, 163.91915531985816, 981.8875128341517, 295.8036006244244, 92.24127291946371, 542.0558257065385, 113.92846195662993, 625.1511294073304, 210.87811289851527, 833.6965670389111, 767.8563887021918, 259.3738727467854, 306.47156449612805, 615.5706945881559, 1161.4774635570593, 408.1976988785739, 974.76085373028, 597.9573452233248, 278.7617220030088, 1058.6034939156812, 822.8118786472783, 810.6959531384895, 501.5329612652747, 518.7655223593346, 1168.6322496244254, 1156.7918072472335, 1032.9442379177349, 2672.166501284685, 1340.0357721884075, 863.2239179835283, 1357.6731838968212, 1314.4002245901859, 788.2665506142827, 676.4439242302825, 607.6203132566498, 767.3333409413085, 748.6965473838392, 899.817175218651, 900.084941641021, 738.9378206882451, 638.7515174612378, 649.6126540006031, 608.0786932582623, 82.71303427969089, 75.2759631754665, 60.89166312849151, 84.55819195186942, 30.297905875109365, 113.4782007371903, 118.48232987560151, 56.74738044295427, 93.00669697197887, 263.81827825407663, 45.30892805186419, 70.94074210376515, 68.6302503099318, 93.13535111641619, 26.735366708481738, 18.259536574017254, 54.70080458365126, 64.09634762562425, 16.845041491297035, 32.9164853879573, 43.87620608489309, 53.76137508944306, 13.006854851264269, 142.51286775391065, 11.112665751100055, 108.08077136823248, 560.1875600994782, 41.82724808987178, 156.27964431167118, 29.931294638549254, 818.6202744890812, 225.58173216586047, 197.23994409085685, 272.2156069828626, 157.35264733224923, 85.31525983032768, 143.70270089966772, 1208.0425781485735, 603.4583395794059, 128.56591183079672, 102.47081859748877, 302.89450785625274, 353.62276951557584, 283.7500748475751, 400.27303954073574, 341.9693624809102, 113.48706804725829, 150.53649670829446, 751.8178288423553, 470.9042613718076, 1672.2245513358498, 794.6806068329045, 226.54704916191832, 1075.1031130612103, 634.5226181354808, 288.59307448320686, 438.54162079040253, 188.29415680138342, 792.9187532718064, 652.5419385331323, 338.2242053889591, 376.08941843984644, 522.4237247249096, 230.1794800899552, 798.0403994133718, 589.9511736782481, 1112.363312554723, 418.425457063377, 642.1544785902578, 533.9349732172225, 527.4230344128168, 463.5943121924168, 423.98457349915395, 449.2448245938915, 383.749590538461, 374.5177159464788, 359.16375119707357, 372.81340166997273], \"Total\": [1495.0, 3192.0, 1203.0, 900.0, 2243.0, 978.0, 1038.0, 1729.0, 1740.0, 722.0, 604.0, 1316.0, 1133.0, 1410.0, 1501.0, 928.0, 2547.0, 859.0, 2280.0, 555.0, 1196.0, 1181.0, 1373.0, 675.0, 1513.0, 1055.0, 1958.0, 517.0, 670.0, 578.0, 301.3358165221088, 288.98047725203037, 68.25690055071138, 69.39707260980147, 63.17034954177022, 86.99641308506021, 80.2542774862589, 56.0165831141153, 87.80546096030298, 114.75723457362533, 53.27206748051788, 172.74214338493496, 59.329355807824555, 78.32041305529691, 85.46456007491517, 56.05234626516102, 64.91677583277549, 118.98355882074856, 60.1198745214912, 75.27977540805468, 110.14175273752096, 49.017842014794276, 121.68822080615016, 51.357786521094575, 43.47150991393917, 170.09606945309466, 48.60785110182864, 38.829114372071466, 38.98896590815475, 73.63724109880383, 98.01288273792318, 52.471801424238656, 312.0828138145394, 234.24291973138523, 310.78539250709, 172.10305176476712, 204.26214795304332, 361.8372521817334, 76.21480903595942, 170.28459366275058, 106.47202564066137, 102.31591191789454, 257.7419523753847, 217.12871158436008, 377.46769583817775, 145.02804897408583, 987.8610137896164, 300.0620717331764, 204.35973138264265, 585.6346776560207, 1529.5886846394378, 230.4732587818502, 506.72195697771406, 2092.808563420563, 275.7398375372976, 354.584111369005, 496.6620787814234, 391.64156674207914, 1508.035659710175, 523.4341629141885, 349.46530963872397, 824.0629813333123, 1422.7482127971475, 565.4484597515866, 389.9599907924009, 421.36165904605167, 405.5343440092571, 1070.133425242372, 1236.7010617487463, 1958.5008100361829, 1398.128883739685, 5419.260054204755, 3192.7738767305814, 561.6453538968093, 2137.9459062470996, 1058.1151267524262, 1148.9655764411382, 706.0982311138699, 2478.402570819299, 679.6560369876859, 1735.0486745639553, 962.6134673027965, 696.8959228540557, 725.2968492611114, 1324.568525655394, 1296.6108626558337, 1234.7828784043052, 1513.248785890412, 249.1212671689817, 75.08440403258965, 80.26669953186301, 82.73329779687853, 100.41227462954518, 66.1123377595878, 555.0755247230194, 87.55395022057927, 63.97225777207842, 97.1854447354482, 48.651634060454796, 73.45017384989194, 480.7818803847118, 43.67625222642056, 40.67346671906627, 220.8629574483358, 370.5803196977657, 172.8293211754055, 30.912834342245525, 35.0280665965875, 260.1567277030349, 164.85769865711498, 33.633576945497666, 1203.3617421145257, 29.433246357124386, 24.537142762267536, 25.012550517728904, 57.53794712854133, 31.19117944493008, 59.56977507529654, 978.9544831100153, 491.7821166742555, 300.3381973295188, 360.60393131803465, 169.91055220037066, 1038.8748097886646, 309.48483099091584, 95.40311089632739, 578.8195653482052, 118.48393818509926, 675.5880858789338, 223.29138949782893, 928.749465073214, 859.2782989869534, 277.7124464995291, 330.6533209883711, 705.8424721880518, 1410.5130101526618, 465.2691757772397, 1196.185456606984, 717.3668108189593, 312.67628726842105, 1373.7408028590653, 1055.6035776312942, 1046.6874238494338, 611.3329365771908, 653.3254009132384, 1740.878078607783, 1729.0019420157273, 1513.248785890412, 5419.260054204755, 2280.266263509487, 1321.2229743800767, 2547.6632423317733, 2478.402570819299, 1216.4545408372178, 996.107846160902, 858.109586996395, 1356.579998518824, 1324.568525655394, 2137.9459062470996, 2243.353034607545, 1501.437547634157, 991.2501955171263, 1199.5031462081001, 1094.787121288107, 83.63368005097414, 76.57107988939809, 62.03831757823988, 86.34786141665023, 31.07858982523324, 116.60663641661672, 122.15222936341563, 58.829402184495166, 96.4771022045283, 273.8150769725928, 47.04759689943488, 73.6723524550184, 71.33398410583426, 97.000910584139, 28.03472820944763, 19.16754428995413, 57.87025379563795, 67.82718394184452, 17.84542112996984, 34.952476053955756, 46.67720017775416, 57.25605655275212, 13.927147074967142, 153.2142864676743, 11.965916583109639, 116.50420069682048, 604.5875724385812, 45.14444850388344, 169.62334092974763, 32.55708050192141, 900.3433738918486, 247.10599104490518, 215.97785851682042, 300.7591387250854, 173.51585931703147, 92.97453124764048, 160.38881846795377, 1495.4378501274655, 722.0627661750849, 144.1586164126392, 114.41611521973239, 370.1051654727371, 441.0258242711805, 347.1607300121155, 517.3072749850181, 442.0691048247992, 128.267382267476, 176.840583719198, 1133.2106875391073, 670.5870965391741, 3192.7738767305814, 1316.3767582743549, 303.00792680094776, 2243.353034607545, 1181.3980366005146, 424.9636566990458, 746.3046727431281, 244.4245972483945, 1958.5008100361829, 1501.437547634157, 577.2116100042585, 694.6572810343671, 1148.9655764411382, 331.5187908423941, 2547.6632423317733, 1735.0486745639553, 5419.260054204755, 954.1440648989458, 2280.266263509487, 1729.0019420157273, 1740.878078607783, 1296.6108626558337, 1107.9320268364222, 2137.9459062470996, 1234.7828784043052, 1398.128883739685, 964.2327016076734, 2478.402570819299], \"Category\": [\"Default\", \"Default\", \"Default\", \"Default\", \"Default\", \"Default\", \"Default\", \"Default\", \"Default\", \"Default\", \"Default\", \"Default\", \"Default\", \"Default\", \"Default\", \"Default\", \"Default\", \"Default\", \"Default\", \"Default\", \"Default\", \"Default\", \"Default\", \"Default\", \"Default\", \"Default\", \"Default\", \"Default\", \"Default\", \"Default\", \"Topic1\", \"Topic1\", \"Topic1\", \"Topic1\", \"Topic1\", \"Topic1\", \"Topic1\", \"Topic1\", \"Topic1\", \"Topic1\", \"Topic1\", \"Topic1\", \"Topic1\", \"Topic1\", \"Topic1\", \"Topic1\", \"Topic1\", \"Topic1\", \"Topic1\", \"Topic1\", \"Topic1\", \"Topic1\", \"Topic1\", \"Topic1\", \"Topic1\", \"Topic1\", \"Topic1\", \"Topic1\", \"Topic1\", \"Topic1\", \"Topic1\", \"Topic1\", \"Topic1\", \"Topic1\", \"Topic1\", \"Topic1\", \"Topic1\", \"Topic1\", \"Topic1\", \"Topic1\", \"Topic1\", \"Topic1\", \"Topic1\", \"Topic1\", \"Topic1\", \"Topic1\", \"Topic1\", \"Topic1\", \"Topic1\", \"Topic1\", \"Topic1\", \"Topic1\", \"Topic1\", \"Topic1\", \"Topic1\", \"Topic1\", \"Topic1\", \"Topic1\", \"Topic1\", \"Topic1\", \"Topic1\", \"Topic1\", \"Topic1\", \"Topic1\", \"Topic1\", \"Topic1\", \"Topic1\", \"Topic1\", \"Topic1\", \"Topic1\", \"Topic1\", \"Topic1\", \"Topic1\", \"Topic1\", \"Topic1\", \"Topic1\", \"Topic1\", \"Topic1\", \"Topic1\", \"Topic1\", \"Topic1\", \"Topic1\", \"Topic1\", \"Topic1\", \"Topic1\", \"Topic1\", \"Topic1\", \"Topic1\", \"Topic2\", \"Topic2\", \"Topic2\", \"Topic2\", \"Topic2\", \"Topic2\", \"Topic2\", \"Topic2\", \"Topic2\", \"Topic2\", \"Topic2\", \"Topic2\", \"Topic2\", \"Topic2\", \"Topic2\", \"Topic2\", \"Topic2\", \"Topic2\", \"Topic2\", \"Topic2\", \"Topic2\", \"Topic2\", \"Topic2\", \"Topic2\", \"Topic2\", \"Topic2\", \"Topic2\", \"Topic2\", \"Topic2\", \"Topic2\", \"Topic2\", \"Topic2\", \"Topic2\", \"Topic2\", \"Topic2\", \"Topic2\", \"Topic2\", \"Topic2\", \"Topic2\", \"Topic2\", \"Topic2\", \"Topic2\", \"Topic2\", \"Topic2\", \"Topic2\", \"Topic2\", \"Topic2\", \"Topic2\", \"Topic2\", \"Topic2\", \"Topic2\", \"Topic2\", \"Topic2\", \"Topic2\", \"Topic2\", \"Topic2\", \"Topic2\", \"Topic2\", \"Topic2\", \"Topic2\", \"Topic2\", \"Topic2\", \"Topic2\", \"Topic2\", \"Topic2\", \"Topic2\", \"Topic2\", \"Topic2\", \"Topic2\", \"Topic2\", \"Topic2\", \"Topic2\", \"Topic2\", \"Topic2\", \"Topic2\", \"Topic2\", \"Topic3\", \"Topic3\", \"Topic3\", \"Topic3\", \"Topic3\", \"Topic3\", \"Topic3\", \"Topic3\", \"Topic3\", \"Topic3\", \"Topic3\", \"Topic3\", \"Topic3\", \"Topic3\", \"Topic3\", \"Topic3\", \"Topic3\", \"Topic3\", \"Topic3\", \"Topic3\", \"Topic3\", \"Topic3\", \"Topic3\", \"Topic3\", \"Topic3\", \"Topic3\", \"Topic3\", \"Topic3\", \"Topic3\", \"Topic3\", \"Topic3\", \"Topic3\", \"Topic3\", \"Topic3\", \"Topic3\", \"Topic3\", \"Topic3\", \"Topic3\", \"Topic3\", \"Topic3\", \"Topic3\", \"Topic3\", \"Topic3\", \"Topic3\", \"Topic3\", \"Topic3\", \"Topic3\", \"Topic3\", \"Topic3\", \"Topic3\", \"Topic3\", \"Topic3\", \"Topic3\", \"Topic3\", \"Topic3\", \"Topic3\", \"Topic3\", \"Topic3\", \"Topic3\", \"Topic3\", \"Topic3\", \"Topic3\", \"Topic3\", \"Topic3\", \"Topic3\", \"Topic3\", \"Topic3\", \"Topic3\", \"Topic3\", \"Topic3\", \"Topic3\", \"Topic3\", \"Topic3\", \"Topic3\", \"Topic3\", \"Topic3\", \"Topic3\", \"Topic3\"], \"logprob\": [30.0, 29.0, 28.0, 27.0, 26.0, 25.0, 24.0, 23.0, 22.0, 21.0, 20.0, 19.0, 18.0, 17.0, 16.0, 15.0, 14.0, 13.0, 12.0, 11.0, 10.0, 9.0, 8.0, 7.0, 6.0, 5.0, 4.0, 3.0, 2.0, 1.0, -6.3402, -6.3865, -7.8311, -7.8159, -7.9102, -7.5906, -7.6716, -8.0318, -7.5826, -7.315, -8.0826, -6.9064, -7.9756, -7.6979, -7.6107, -8.0326, -7.8861, -7.2803, -7.9636, -7.7389, -7.359, -8.1689, -7.2601, -8.1231, -8.29, -6.9261, -8.1788, -8.4038, -8.3997, -7.7643, -7.4793, -8.1035, -6.3414, -6.6266, -6.3507, -6.9319, -6.7662, -6.2123, -7.7343, -6.9569, -7.4107, -7.45, -6.5709, -6.7589, -6.2552, -7.1373, -5.3859, -6.4735, -6.8245, -5.8829, -5.0276, -6.7302, -6.0397, -4.7989, -6.5773, -6.3635, -6.075, -6.2829, -5.1454, -6.0416, -6.3863, -5.694, -5.2659, -6.0121, -6.3085, -6.2834, -6.316, -5.6447, -5.5706, -5.2628, -5.4983, -4.6428, -5.0344, -6.1268, -5.3714, -5.776, -5.7391, -6.0077, -5.3685, -6.0286, -5.5731, -5.8905, -6.0497, -6.0361, -5.8321, -5.8521, -5.929, -5.9081, -6.3641, -7.5673, -7.5009, -7.471, -7.2774, -7.6958, -5.5686, -7.4159, -7.7307, -7.3133, -8.007, -7.5951, -5.7183, -8.1179, -8.1909, -6.4996, -5.9833, -6.7461, -8.4694, -8.3447, -6.3405, -6.7972, -8.3876, -4.8112, -8.5229, -8.7054, -8.6869, -7.8542, -8.4685, -7.8225, -5.0275, -5.717, -6.2058, -6.031, -6.7773, -4.9872, -6.1869, -7.3522, -5.5813, -7.1411, -5.4386, -6.5254, -5.1508, -5.233, -6.3184, -6.1515, -5.4541, -4.8192, -5.8649, -4.9944, -5.4831, -6.2463, -4.9119, -5.1639, -5.1787, -5.659, -5.6252, -4.813, -4.8232, -4.9365, -3.986, -4.6762, -5.116, -4.6631, -4.6955, -5.2068, -5.3598, -5.4671, -5.2337, -5.2583, -5.0744, -5.0741, -5.2714, -5.4171, -5.4003, -5.4663, -7.0509, -7.1451, -7.3572, -7.0288, -8.0552, -6.7347, -6.6915, -7.4277, -6.9336, -5.891, -7.6528, -7.2044, -7.2375, -6.9322, -8.1803, -8.5616, -7.4644, -7.3059, -8.6422, -7.9723, -7.6849, -7.4817, -8.9008, -6.5068, -9.0582, -6.7834, -5.138, -7.7327, -6.4146, -8.0674, -4.7587, -6.0476, -6.1819, -5.8597, -6.4078, -7.0199, -6.4985, -4.3695, -5.0636, -6.6098, -6.8367, -5.7529, -5.598, -5.8182, -5.4741, -5.6315, -6.7346, -6.4521, -4.8438, -5.3116, -4.0444, -4.7883, -6.0433, -4.4861, -5.0134, -5.8013, -5.3828, -6.2283, -4.7906, -4.9854, -5.6426, -5.5364, -5.2078, -6.0274, -4.7841, -5.0862, -4.452, -5.4298, -5.0014, -5.186, -5.1983, -5.3273, -5.4166, -5.3587, -5.5163, -5.5406, -5.5825, -5.5452], \"loglift\": [30.0, 29.0, 28.0, 27.0, 26.0, 25.0, 24.0, 23.0, 22.0, 21.0, 20.0, 19.0, 18.0, 17.0, 16.0, 15.0, 14.0, 13.0, 12.0, 11.0, 10.0, 9.0, 8.0, 7.0, 6.0, 5.0, 4.0, 3.0, 2.0, 1.0, 0.8731, 0.8687, 0.8672, 0.8658, 0.8656, 0.8651, 0.8648, 0.8641, 0.8639, 0.8638, 0.8636, 0.8634, 0.8629, 0.8629, 0.8628, 0.8627, 0.8624, 0.8623, 0.8616, 0.8615, 0.8608, 0.8605, 0.86, 0.8597, 0.8595, 0.8592, 0.859, 0.8586, 0.8586, 0.8582, 0.8572, 0.8578, 0.8369, 0.8386, 0.8318, 0.8416, 0.836, 0.818, 0.8537, 0.8273, 0.843, 0.8436, 0.7988, 0.7822, 0.7329, 0.8074, 0.6401, 0.7441, 0.7772, 0.666, 0.5612, 0.7513, 0.6539, 0.4764, 0.7248, 0.6872, 0.6386, 0.6684, 0.4577, 0.6196, 0.6788, 0.5134, 0.3953, 0.5718, 0.6471, 0.5947, 0.6004, 0.3013, 0.2307, 0.0788, 0.1804, -0.3189, -0.1815, 0.4639, -0.1174, 0.1813, 0.1359, 0.3541, -0.2623, 0.3714, -0.1103, 0.1615, 0.3253, 0.2989, -0.0994, -0.098, -0.1261, -0.3085, 1.0395, 1.0356, 1.0353, 1.035, 1.0349, 1.0344, 1.0339, 1.0334, 1.0324, 1.0316, 1.0299, 1.0299, 1.0279, 1.0269, 1.0252, 1.0245, 1.0232, 1.0232, 1.021, 1.0208, 1.0198, 1.0193, 1.0184, 1.0175, 1.0166, 1.016, 1.0153, 1.015, 1.0129, 1.0119, 1.0076, 1.0066, 1.0109, 1.0029, 1.0091, 0.9885, 0.9997, 1.0113, 0.9793, 1.0057, 0.9674, 0.9878, 0.937, 0.9325, 0.9766, 0.969, 0.9081, 0.8507, 0.9141, 0.8403, 0.8629, 0.9301, 0.7844, 0.7958, 0.7895, 0.847, 0.8143, 0.6464, 0.6431, 0.6631, 0.3379, 0.5134, 0.6193, 0.4156, 0.4107, 0.6111, 0.6579, 0.6998, 0.4752, 0.4744, 0.1795, 0.1317, 0.336, 0.6055, 0.4317, 0.4569, 1.4442, 1.4383, 1.4367, 1.4344, 1.4299, 1.4281, 1.4248, 1.4193, 1.4187, 1.4181, 1.4177, 1.4175, 1.4167, 1.4146, 1.4079, 1.4068, 1.399, 1.3987, 1.3976, 1.3953, 1.3934, 1.3923, 1.387, 1.3829, 1.3813, 1.3803, 1.379, 1.379, 1.3734, 1.3712, 1.3602, 1.3642, 1.3646, 1.3556, 1.3575, 1.3693, 1.3455, 1.2419, 1.2759, 1.3408, 1.3451, 1.2549, 1.2344, 1.2536, 1.1988, 1.1986, 1.3329, 1.2943, 1.045, 1.1018, 0.8086, 0.9506, 1.1645, 0.7198, 0.8337, 1.0683, 0.9236, 1.1944, 0.5511, 0.622, 0.9208, 0.8417, 0.6672, 1.0905, 0.2945, 0.3766, -0.1282, 0.631, 0.1881, 0.2803, 0.2612, 0.4268, 0.4948, -0.1047, 0.2867, 0.1381, 0.4678, -0.439]}, \"token.table\": {\"Topic\": [2, 1, 2, 3, 1, 2, 3, 1, 2, 3, 1, 2, 3, 1, 2, 3, 1, 2, 3, 1, 2, 3, 1, 2, 3, 2, 1, 2, 3, 1, 2, 3, 1, 2, 3, 1, 2, 3, 1, 2, 3, 1, 2, 3, 1, 2, 3, 1, 3, 1, 2, 3, 1, 2, 3, 1, 2, 3, 1, 2, 3, 2, 1, 2, 3, 1, 2, 3, 1, 2, 3, 1, 2, 3, 1, 2, 3, 1, 2, 3, 1, 2, 3, 1, 3, 2, 3, 1, 2, 3, 1, 2, 3, 1, 1, 3, 1, 2, 3, 1, 1, 2, 3, 1, 2, 1, 2, 3, 1, 2, 3, 1, 3, 1, 3, 1, 2, 3, 1, 2, 3, 2, 1, 2, 3, 1, 2, 3, 1, 2, 3, 1, 2, 3, 1, 2, 3, 1, 2, 3, 1, 2, 3, 1, 2, 3, 1, 2, 3, 1, 2, 3, 1, 1, 2, 3, 1, 2, 3, 1, 2, 3, 1, 2, 3, 1, 2, 3, 1, 2, 3, 1, 2, 3, 1, 2, 3, 1, 2, 3, 2, 2, 3, 1, 3, 1, 3, 1, 2, 3, 1, 2, 1, 2, 3, 1, 2, 3, 1, 2, 3, 1, 2, 3, 1, 2, 3, 1, 2, 3, 1, 2, 3, 1, 2, 3, 3, 1, 2, 3, 1, 2, 3, 1, 2, 3, 1, 2, 3, 3, 1, 2, 3, 1, 2, 3, 1, 2, 3, 2, 3, 1, 2, 3, 2, 1, 2, 3, 1, 2, 1, 1, 2, 3, 1, 3, 2, 1, 2, 1, 2, 3, 1, 2, 3, 1, 2, 3, 1, 2, 3, 1, 2, 3, 1, 2, 3, 1, 2, 3, 2, 1, 2, 3, 1, 2, 3, 1, 2, 3, 1, 2, 3, 2, 1, 2, 3, 2, 3, 1, 3, 1, 2, 3, 1, 2, 3, 1, 2, 1, 2, 3, 1, 3, 1, 2, 3, 1, 2, 3, 1, 2, 3, 1, 2, 3, 1, 2, 3, 1, 2, 3, 1, 2, 3, 1, 2, 3, 1, 2, 3, 1, 2, 1, 2, 3, 1, 2, 3, 1, 2, 3, 2, 1, 1, 2, 3, 2, 1, 2, 3, 1, 2, 3, 1, 3, 1, 2, 3, 1, 2, 3, 1, 2, 3, 1, 2, 3, 1, 2, 3, 1, 2, 3, 2, 3, 2, 1, 2, 3, 2, 3, 2, 3, 1, 3, 1, 2, 3, 1, 2, 3, 1, 2, 3, 1, 2, 3, 1, 3, 1, 2, 1, 2, 3, 1, 2, 3, 1, 2, 3, 1, 2, 3, 1, 2, 3, 1, 2, 3, 1, 2, 3, 1, 2, 3, 1, 2, 3, 1, 2, 3, 1, 2, 3, 1, 2, 3, 1, 2, 3, 1, 2, 3, 1, 2, 3, 1, 2, 3, 1, 2, 3, 1, 2, 3, 1, 2, 3, 1, 2, 3, 1, 2, 3, 1, 3, 1, 2, 3, 1, 2, 3, 2, 1, 2, 3, 1, 1, 2, 3, 1, 2, 3, 1, 2, 3, 1, 2, 3, 1, 2, 3, 1, 2, 3, 1, 2, 3, 3, 1, 2, 3, 1, 2, 3, 1, 2, 3, 1, 2, 3, 1, 2, 3, 1, 2, 3, 1, 2, 3, 1, 2, 3, 1, 2, 3, 1, 2, 3, 2, 1, 2, 3, 1, 3, 1, 2, 3, 2, 3, 1, 2, 3, 1, 2, 1, 2, 1, 3, 1, 2, 3, 1, 3, 1, 2, 3, 1, 2, 3, 1, 2, 3, 2, 3, 1, 3], \"Freq\": [0.9834421116911932, 0.22999012247022355, 0.5653923844059663, 0.20418994847516642, 0.05350212367513418, 0.7748253982238182, 0.17197111181293132, 0.013328248252806566, 0.0777481148080383, 0.9096529432540481, 0.08644742941101104, 0.005763161960734069, 0.9048164278352488, 0.1485109662809628, 0.10560779824424023, 0.749155318795079, 0.3191571899227472, 0.5301802118312134, 0.15050016667659258, 0.9003730762176373, 0.06361331516755046, 0.03425332355175794, 0.9858776745915866, 0.01540433866549354, 0.01540433866549354, 0.9811623679954006, 0.9524257160614371, 0.045047162246149054, 0.003217654446153504, 0.017151682455313455, 0.008575841227656728, 0.9690700587252101, 0.004159890548286972, 0.9838141146698688, 0.012479671644860914, 0.376365811867745, 0.2660782891278115, 0.3578560178414624, 0.9673902546723464, 0.00939213839487715, 0.02817641518463145, 0.8263201610155728, 0.16921231966189204, 0.005640410655396401, 0.08324164242566838, 0.020810410606417095, 0.8948476560759351, 0.013059760962551847, 0.9794820721913885, 0.9777661265635001, 0.013580085091159724, 0.013580085091159724, 0.8807963278383872, 0.1171502505006722, 0.004338898166691563, 0.9896862332003453, 0.006920882749652764, 0.003460441374826382, 0.7875601821914694, 0.12248686638196375, 0.09009364552061797, 0.9866061218078498, 0.10961396682856472, 0.8769117346285178, 0.012895760803360556, 0.02947707533994885, 0.047163320543918155, 0.9196847506064041, 0.47521005954870027, 0.06962784755292312, 0.45432170528282334, 0.21030622167665777, 0.7796487407202223, 0.009473253228678279, 0.8636500648780229, 0.11126779976956122, 0.023843099950620263, 0.0645338021013391, 0.010755633683556517, 0.914228863102304, 0.3717474958805398, 0.2881763533957673, 0.3400480970070054, 0.06866705193590782, 0.9270052011347556, 0.9936730413741051, 0.01142152921119661, 0.4872152903845391, 0.30437970166880585, 0.20776771444969683, 0.7718258161652156, 0.13946357569321965, 0.08979161722714142, 0.9761213044531623, 0.9813726404054474, 0.016633434583143175, 0.6605591899335174, 0.23502375490896033, 0.10504849651233833, 0.9815857365252387, 0.029427248250618612, 0.9652137426202905, 0.005885449650123722, 0.9885465038186577, 0.011494726788589043, 0.3759714883407716, 0.5654671581671444, 0.05888710058349435, 0.06653494340912344, 0.925440576508717, 0.009072946828516833, 0.9828635393006014, 0.011700756420245255, 0.9817981128955574, 0.017637091848423186, 0.021423735703766333, 0.042847471407532665, 0.9426443709657186, 0.127023403131444, 0.7085342119625501, 0.16548002976756926, 0.9831750351404495, 0.9833291352149179, 0.008404522523204427, 0.008404522523204427, 0.9308544171625884, 0.020685653714724188, 0.048266525334356436, 0.9841257996965777, 0.00578897529233281, 0.01157795058466562, 0.13990027930015292, 0.4774661145147155, 0.3826949575694506, 0.8183931054434725, 0.037199686611066936, 0.14307571773487282, 0.9709399122824747, 0.013120809625438847, 0.013120809625438847, 0.17817015925996965, 0.3825418125287584, 0.4380889798274548, 0.09244829864242532, 0.7708877815931371, 0.13685259956516505, 0.024211848944432658, 0.6446404781455195, 0.3319040959465977, 0.008178849364790715, 0.8211564762249879, 0.17012006678764688, 0.9786470954725709, 0.07326312051628724, 0.49219496419578423, 0.4349165245194142, 0.019408461095800276, 0.96327256912314, 0.017365465190979194, 0.4488126813609848, 0.1460300646976583, 0.40490154302532533, 0.4971103679562758, 0.2485551839781379, 0.253280567703958, 0.17602254533384049, 0.794397400245767, 0.030612616579798343, 0.1368296489368158, 0.823104779355664, 0.03970186704902427, 0.9818521041877126, 0.97659982707184, 0.02426334974091528, 0.6929082035406285, 0.1638224299089052, 0.1431929387351912, 0.8731526730008641, 0.08998138233215011, 0.03665908169087597, 0.9704707005465997, 0.011581062733849857, 0.9843903323772379, 0.983140882385737, 0.012768063407606974, 0.9798684215736767, 0.014409829729024657, 0.9645383873081527, 0.005810472212699715, 0.029052361063498577, 0.010289606666123038, 0.9878022399478117, 0.9513485425513112, 0.041107653073204804, 0.005872521867600686, 0.03144551547443813, 0.9643291412161027, 0.010481838491479377, 0.012924704539452566, 0.9564281359194898, 0.03231176134863142, 0.304642570539875, 0.6826372567628869, 0.012555767549365781, 0.9072959470100316, 0.018422252731168154, 0.07368901092467262, 0.06143056960779903, 0.030715284803899515, 0.9214585441169855, 0.013865628091531398, 0.9595014639339727, 0.027731256183062797, 0.98468737435026, 0.00871404756062177, 0.00871404756062177, 0.9192776770253381, 0.10135078591446653, 0.01559242860222562, 0.8809722160257475, 0.02861027637802572, 0.02861027637802572, 0.9441391204748487, 0.15386648968614008, 0.5330374821269853, 0.3132282111467852, 0.3660562580719568, 0.32313373223608577, 0.31098584756555625, 0.9652947630089215, 0.5223574394660334, 0.3056518763439019, 0.17223240651124633, 0.5597708033801722, 0.3515801843890244, 0.08961847837367289, 0.01994951849321664, 0.07314823447512768, 0.9043781716924877, 0.028037127395446067, 0.9672808951428893, 0.11618319335012764, 0.06484643349774566, 0.818686222909039, 0.9855575329316196, 0.6680018537935727, 0.1877859288561331, 0.14382586408574063, 0.009958941809548066, 0.9859352391452585, 0.9891535878355129, 0.029966218349927593, 0.9655781468310002, 0.0033295798166586214, 0.9792352748926182, 0.02040073489359621, 0.9845167066323635, 0.013614671655422789, 0.9802563591904409, 0.07866024801415251, 0.026220082671384173, 0.8914828108270618, 0.9779089480613534, 0.008217722252616416, 0.008217722252616416, 0.00496206031476898, 0.06781482430184273, 0.9262512587568763, 0.02197799729229821, 0.6691721807155008, 0.30884869879176957, 0.04952896526984679, 0.8979816746750483, 0.05383583181505086, 0.17340513083065676, 0.5418910338458024, 0.2851180516542529, 0.9794379422355151, 0.011388813281808314, 0.011388813281808314, 0.9595183019416109, 0.01888929235559242, 0.9795447321542926, 0.002698470336513203, 0.0258490244394297, 0.6715002126598515, 0.3027207973239878, 0.6017749828468166, 0.20451521421933375, 0.19421588688454716, 0.01214053931802417, 0.07284323590814502, 0.9145872952911542, 0.9852803747208972, 0.058740239679953364, 0.9363885266627859, 0.0034553082164678448, 0.027147225972200706, 0.9637265220131251, 0.9735622071535953, 0.019471244143071907, 0.0253198876231925, 0.962155729681315, 0.016879925082128332, 0.05761355028078344, 0.9326193451701819, 0.010802540677646895, 0.02306302071437842, 0.9763345435753531, 0.1269766914274081, 0.07255810938709034, 0.802674085094687, 0.9794630799370994, 0.020405480832022906, 0.13877446769070742, 0.8150909999906009, 0.046815483076383224, 0.01030918157343065, 0.030927544720291952, 0.9587538863290505, 0.20734624621169806, 0.55535910879609, 0.23657567299043963, 0.1194640325734038, 0.401185184015162, 0.4791934142403324, 0.1580704438648675, 0.14017567663488248, 0.7023696137769112, 0.09310138530708392, 0.8937732989480056, 0.013965207796062588, 0.049878788786005226, 0.049878788786005226, 0.897818198148094, 0.008133683321082419, 0.961808052717996, 0.030501312454059067, 0.7852421528876892, 0.15704843057753784, 0.0583898011121615, 0.9829997446044753, 0.013283780332492908, 0.7923889816801725, 0.06667350654914073, 0.1410401100077977, 0.9805545791283622, 0.009079209066003353, 0.009079209066003353, 0.01036515377379425, 0.03109546132138275, 0.9639593009628653, 0.991136606222577, 0.9814731191095223, 0.012465079680564107, 0.973107220396038, 0.01495809561667693, 0.9781089930693342, 0.03312894294245875, 0.678641376639458, 0.28812141286320186, 0.0345600696181974, 0.0172800348090987, 0.9504019145004285, 0.0161190702623237, 0.9832632860017456, 0.11900672361016633, 0.8727159731412197, 0.008500480257869024, 0.7276465962235866, 0.15298230324916376, 0.11964000638716654, 0.8558792306101861, 0.13781106255587744, 0.007253213818730391, 0.00900778322462512, 0.9890545980638381, 0.001801556644925024, 0.38054163449911893, 0.03081851265309766, 0.5882316110743423, 0.4970929419189374, 0.2353145005630653, 0.2682156161433115, 0.035670044400965606, 0.9630911988260714, 0.9706502043510544, 0.13068649252449907, 0.5876506710833179, 0.2815460677876792, 0.052171524159415054, 0.939087434869471, 0.011956905392546485, 0.9924231475813582, 0.9812256518186983, 0.017840466396703607, 0.9605413058290752, 0.038421652233163, 0.004269072470351445, 0.6164126527179414, 0.28887753736268407, 0.09488678234540718, 0.06512844278885767, 0.9251199259780918, 0.010361343170954627, 0.011598522367917148, 0.21457266380646725, 0.7732348245278099, 0.9874947958395598, 0.020572808246657498, 0.01678703669328941, 0.9736481282107858, 0.17283060787983154, 0.011522040525322103, 0.8180648772978694, 0.11824809055674886, 0.21884721237368446, 0.6636012246169787, 0.10711219194179455, 0.28943081652357255, 0.6039304439271396, 0.6558200355753345, 0.20821788793797275, 0.13660154431599486, 0.9234041948024363, 0.02327909734796058, 0.05431789381190802, 0.7570258956735663, 0.1849411797248126, 0.059181177511940034, 0.029486702583949427, 0.029486702583949427, 0.9435744826863817, 0.301701705333631, 0.4930562426002826, 0.20519406503424933, 0.03059085122944159, 0.28943651547856275, 0.6800581542545092, 0.9595512529568491, 0.01958267863177243, 0.01958267863177243, 0.039409573992504374, 0.5880323277302627, 0.3723167648239229, 0.06545986034187931, 0.16774089212606572, 0.7691533590170818, 0.8094135733267676, 0.12511440092432685, 0.06383387802261574, 0.2120917727204446, 0.6477841740453889, 0.13975039287781235, 0.9580790314768372, 0.025634221577975576, 0.016021388486234734, 0.797281417228518, 0.07893875418104139, 0.12235506898061416, 0.014438698348120895, 0.9452534518569812, 0.0404283553747385, 0.04321359663211882, 0.8336042189034535, 0.12267085495569215, 0.3354171997636813, 0.12236249776786656, 0.5412741077731509, 0.369045819959492, 0.42096481364200605, 0.21001466813917857, 0.5606777490050902, 0.29248689239765535, 0.14671067765633192, 0.056036783481707056, 0.9526253191890199, 0.0081865063389461, 0.0245595190168383, 0.9660077479956398, 0.2527960885305633, 0.6531827077900482, 0.09385244005326301, 0.9842188661144566, 0.7356992362889405, 0.24759108913570116, 0.015916570015866504, 0.97463472330904, 0.07449607605724139, 0.3395635094702166, 0.5855738071476184, 0.018260499221890797, 0.018260499221890797, 0.9641543589158341, 0.12612176030760056, 0.3368889973317115, 0.5374987771498413, 0.00578605524339874, 0.9778433361343871, 0.01735816573019622, 0.05731198509659354, 0.24734646199582475, 0.693776661695606, 0.04568764546298942, 0.01958041948413832, 0.9333333287439266, 0.12215284762186962, 0.10631821922644207, 0.7736347016051742, 0.9334287869599934, 0.009260208494215806, 0.07871177220083435, 0.9121305366802569, 0.9396489663514093, 0.049746121748015786, 0.008291020291335964, 0.1440318001036245, 0.01938889616779561, 0.8351074563700537, 0.06486394602873806, 0.12705309015938385, 0.8077901732238719, 0.018110778041789462, 0.9779820142566309, 0.0045276945104473654, 0.047972937542024266, 0.8922966382816513, 0.06076572088656407, 0.016998302938110697, 0.016998302938110697, 0.9689032674723097, 0.8076707511467106, 0.06147176964330144, 0.1297737359136364, 0.34609403692926927, 0.1302942256674896, 0.5236825608558717, 0.03958367391002947, 0.10744140061293712, 0.8538763943449214, 0.9848018843489564, 0.03582762424467686, 0.9449535894533522, 0.022392265152923037, 0.9775936247794345, 0.016855062496197146, 0.022151117870317486, 0.04430223574063497, 0.9303469505533345, 0.021255070734803285, 0.9564781830661477, 0.017379834524960943, 0.9732707333978128, 0.017379834524960943, 0.9719506213949274, 0.019057855321469166, 0.004014109318582139, 0.9954991110083704, 0.9922484603753121, 0.006637113447326502, 0.9675914346484498, 0.02932095256510454, 0.009773650855034847, 0.984371207049074, 0.012460395025937645, 0.7523228399984876, 0.14002223205019168, 0.10916987583574267, 0.5919856212365877, 0.23651100178590945, 0.17278049232264045, 0.5739737985004228, 0.22671965040766703, 0.1980209604826459, 0.9618103750442275, 0.03206034583480759, 0.0523962036616334, 0.9431316659094013], \"Term\": [\"acervar\", \"acordar\", \"acordar\", \"acordar\", \"advogar\", \"advogar\", \"advogar\", \"aecio\", \"aecio\", \"aecio\", \"afastamento\", \"afastamento\", \"afastamento\", \"afastar\", \"afastar\", \"afastar\", \"afirmar\", \"afirmar\", \"afirmar\", \"aguar\", \"aguar\", \"aguar\", \"alemanha\", \"alemanha\", \"alemanha\", \"alexandrino\", \"americano\", \"americano\", \"americano\", \"andrea\", \"andrea\", \"andrea\", \"apartamento\", \"apartamento\", \"apartamento\", \"apo\", \"apo\", \"apo\", \"artista\", \"artista\", \"artista\", \"aumentar\", \"aumentar\", \"aumentar\", \"aurelio\", \"aurelio\", \"aurelio\", \"barroso\", \"barroso\", \"bbc\", \"bbc\", \"bbc\", \"bilhoes\", \"bilhoes\", \"bilhoes\", \"bolsonaro\", \"bolsonaro\", \"bolsonaro\", \"brasileiro\", \"brasileiro\", \"brasileiro\", \"bumlai\", \"caixa\", \"caixa\", \"caixa\", \"calheiros\", \"calheiros\", \"calheiros\", \"camara\", \"camara\", \"camara\", \"campanha\", \"campanha\", \"campanha\", \"candidatar\", \"candidatar\", \"candidatar\", \"carmen\", \"carmen\", \"carmen\", \"casar\", \"casar\", \"casar\", \"ccj\", \"ccj\", \"cervero\", \"cervero\", \"chegar\", \"chegar\", \"chegar\", \"cidade\", \"cidade\", \"cidade\", \"cientista\", \"ciro\", \"ciro\", \"conseguir\", \"conseguir\", \"conseguir\", \"conservador\", \"construtor\", \"construtor\", \"construtor\", \"consumir\", \"consumir\", \"contar\", \"contar\", \"contar\", \"contrato\", \"contrato\", \"contrato\", \"coreano\", \"coreano\", \"coreia\", \"coreia\", \"coronel\", \"coronel\", \"coronel\", \"corrupcao\", \"corrupcao\", \"corrupcao\", \"costamarques\", \"crescer\", \"crescer\", \"crescer\", \"crianca\", \"crianca\", \"crianca\", \"criancas\", \"criancas\", \"criancas\", \"crime\", \"crime\", \"crime\", \"crise\", \"crise\", \"crise\", \"cultural\", \"cultural\", \"cultural\", \"decisao\", \"decisao\", \"decisao\", \"defeso\", \"defeso\", \"defeso\", \"delacao\", \"delacao\", \"delacao\", \"delator\", \"delator\", \"delator\", \"democrata\", \"denunciar\", \"denunciar\", \"denunciar\", \"depoimento\", \"depoimento\", \"depoimento\", \"deputar\", \"deputar\", \"deputar\", \"dever\", \"dever\", \"dever\", \"dilma\", \"dilma\", \"dilma\", \"dinheiro\", \"dinheiro\", \"dinheiro\", \"diplomata\", \"dirceu\", \"dirceu\", \"direito\", \"direito\", \"direito\", \"discursar\", \"discursar\", \"discursar\", \"dissimular\", \"dodge\", \"dodge\", \"donald\", \"donald\", \"dor\", \"dor\", \"doria\", \"doria\", \"doria\", \"duque\", \"duque\", \"economia\", \"economia\", \"economia\", \"emilio\", \"emilio\", \"emilio\", \"empreiteiro\", \"empreiteiro\", \"empreiteiro\", \"empresar\", \"empresar\", \"empresar\", \"escola\", \"escola\", \"escola\", \"esplanada\", \"esplanada\", \"esplanada\", \"esquema\", \"esquema\", \"esquema\", \"esquerdo\", \"esquerdo\", \"esquerdo\", \"etchegoyen\", \"eunicio\", \"eunicio\", \"eunicio\", \"fab\", \"fab\", \"fab\", \"federal\", \"federal\", \"federal\", \"feirar\", \"feirar\", \"feirar\", \"ferraco\", \"ficar\", \"ficar\", \"ficar\", \"formar\", \"formar\", \"formar\", \"foro\", \"foro\", \"foro\", \"frederico\", \"frederico\", \"gilmar\", \"gilmar\", \"gilmar\", \"glauco\", \"governar\", \"governar\", \"governar\", \"guaruja\", \"guaruja\", \"ideia\", \"imovel\", \"imovel\", \"imovel\", \"indigenas\", \"indigenas\", \"interrogar\", \"interrogatorio\", \"interrogatorio\", \"irma\", \"irma\", \"irma\", \"jair\", \"jair\", \"jair\", \"janot\", \"janot\", \"janot\", \"jato\", \"jato\", \"jato\", \"juiz\", \"juiz\", \"juiz\", \"justica\", \"justica\", \"justica\", \"kim\", \"kim\", \"kim\", \"kontic\", \"lavagem\", \"lavagem\", \"lavagem\", \"lavar\", \"lavar\", \"lavar\", \"lei\", \"lei\", \"lei\", \"lourar\", \"lourar\", \"lourar\", \"ltda\", \"lula\", \"lula\", \"lula\", \"machadar\", \"machadar\", \"madurar\", \"madurar\", \"mantega\", \"mantega\", \"mantega\", \"marcelo\", \"marcelo\", \"marcelo\", \"marisa\", \"marisa\", \"mendes\", \"mendes\", \"mendes\", \"meter\", \"meter\", \"milhoes\", \"milhoes\", \"milhoes\", \"miller\", \"miller\", \"miller\", \"ministerio\", \"ministerio\", \"ministerio\", \"ministrar\", \"ministrar\", \"ministrar\", \"ministro\", \"ministro\", \"ministro\", \"morar\", \"morar\", \"morar\", \"moreira\", \"moreira\", \"moreira\", \"mpf\", \"mpf\", \"mpf\", \"mulher\", \"mulher\", \"mulher\", \"mundial\", \"mundial\", \"mundo\", \"mundo\", \"mundo\", \"musicar\", \"musicar\", \"musicar\", \"nomeacao\", \"nomeacao\", \"nomeacao\", \"oas\", \"obama\", \"odebrecht\", \"odebrecht\", \"odebrecht\", \"okamotto\", \"operacao\", \"operacao\", \"operacao\", \"osmar\", \"osmar\", \"osmar\", \"pacheco\", \"pacheco\", \"pagamento\", \"pagamento\", \"pagamento\", \"pai\", \"pai\", \"pai\", \"paises\", \"paises\", \"paises\", \"palocci\", \"palocci\", \"palocci\", \"parlamentar\", \"parlamentar\", \"parlamentar\", \"passar\", \"passar\", \"passar\", \"patmos\", \"patmos\", \"pecuarista\", \"pedir\", \"pedir\", \"pedir\", \"penitenciarios\", \"penitenciarios\", \"perrella\", \"perrella\", \"pesquisador\", \"pesquisador\", \"pesquisar\", \"pesquisar\", \"pesquisar\", \"pessoa\", \"pessoa\", \"pessoa\", \"petrobras\", \"petrobras\", \"petrobras\", \"pgr\", \"pgr\", \"pgr\", \"piorar\", \"piorar\", \"planilha\", \"planilha\", \"plenario\", \"plenario\", \"plenario\", \"pmdb\", \"pmdb\", \"pmdb\", \"policiar\", \"policiar\", \"policiar\", \"politicar\", \"politicar\", \"politicar\", \"populacao\", \"populacao\", \"populacao\", \"prefeito\", \"prefeito\", \"prefeito\", \"prerrogativa\", \"prerrogativa\", \"prerrogativa\", \"presidente\", \"presidente\", \"presidente\", \"preso\", \"preso\", \"preso\", \"previdencia\", \"previdencia\", \"previdencia\", \"prisao\", \"prisao\", \"prisao\", \"privilegiar\", \"privilegiar\", \"privilegiar\", \"problema\", \"problema\", \"problema\", \"processar\", \"processar\", \"processar\", \"programar\", \"programar\", \"programar\", \"projeto\", \"projeto\", \"projeto\", \"propinar\", \"propinar\", \"propinar\", \"provar\", \"provar\", \"provar\", \"psdb\", \"psdb\", \"psdb\", \"publicar\", \"publicar\", \"publicar\", \"querer\", \"querer\", \"querer\", \"randolfe\", \"randolfe\", \"raquel\", \"raquel\", \"raquel\", \"receber\", \"receber\", \"receber\", \"recibo\", \"reformar\", \"reformar\", \"reformar\", \"refugiar\", \"relator\", \"relator\", \"relator\", \"renan\", \"renan\", \"renan\", \"republicar\", \"republicar\", \"republicar\", \"reus\", \"reus\", \"reus\", \"ricardo\", \"ricardo\", \"ricardo\", \"rocha\", \"rocha\", \"rocha\", \"rodrigar\", \"rodrigar\", \"rodrigar\", \"sabatino\", \"saud\", \"saud\", \"saud\", \"saude\", \"saude\", \"saude\", \"senado\", \"senado\", \"senado\", \"senador\", \"senador\", \"senador\", \"sentenca\", \"sentenca\", \"sentenca\", \"sergio\", \"sergio\", \"sergio\", \"serraglio\", \"serraglio\", \"serraglio\", \"social\", \"social\", \"social\", \"temer\", \"temer\", \"temer\", \"teori\", \"teori\", \"teori\", \"tesoureiro\", \"testemunhar\", \"testemunhar\", \"testemunhar\", \"tiririca\", \"tiririca\", \"torquato\", \"torquato\", \"torquato\", \"transpetro\", \"transpetro\", \"trf\", \"trf\", \"trf\", \"trimestre\", \"trimestre\", \"triplex\", \"triplex\", \"trump\", \"trump\", \"venezuela\", \"venezuela\", \"venezuela\", \"venezuelano\", \"venezuelano\", \"vidar\", \"vidar\", \"vidar\", \"vir\", \"vir\", \"vir\", \"voltar\", \"voltar\", \"voltar\", \"zelote\", \"zelote\", \"zeze\", \"zeze\"]}, \"R\": 30, \"lambda.step\": 0.01, \"plot.opts\": {\"xlab\": \"PC1\", \"ylab\": \"PC2\"}, \"topic.order\": [3, 2, 1]};\n",
       "\n",
       "function LDAvis_load_lib(url, callback){\n",
       "  var s = document.createElement('script');\n",
       "  s.src = url;\n",
       "  s.async = true;\n",
       "  s.onreadystatechange = s.onload = callback;\n",
       "  s.onerror = function(){console.warn(\"failed to load library \" + url);};\n",
       "  document.getElementsByTagName(\"head\")[0].appendChild(s);\n",
       "}\n",
       "\n",
       "if(typeof(LDAvis) !== \"undefined\"){\n",
       "   // already loaded: just create the visualization\n",
       "   !function(LDAvis){\n",
       "       new LDAvis(\"#\" + \"ldavis_el144827801252248487583298770\", ldavis_el144827801252248487583298770_data);\n",
       "   }(LDAvis);\n",
       "}else if(typeof define === \"function\" && define.amd){\n",
       "   // require.js is available: use it to load d3/LDAvis\n",
       "   require.config({paths: {d3: \"https://d3js.org/d3.v5\"}});\n",
       "   require([\"d3\"], function(d3){\n",
       "      window.d3 = d3;\n",
       "      LDAvis_load_lib(\"https://cdn.jsdelivr.net/gh/bmabey/pyLDAvis@3.3.1/pyLDAvis/js/ldavis.v3.0.0.js\", function(){\n",
       "        new LDAvis(\"#\" + \"ldavis_el144827801252248487583298770\", ldavis_el144827801252248487583298770_data);\n",
       "      });\n",
       "    });\n",
       "}else{\n",
       "    // require.js not available: dynamically load d3 & LDAvis\n",
       "    LDAvis_load_lib(\"https://d3js.org/d3.v5.js\", function(){\n",
       "         LDAvis_load_lib(\"https://cdn.jsdelivr.net/gh/bmabey/pyLDAvis@3.3.1/pyLDAvis/js/ldavis.v3.0.0.js\", function(){\n",
       "                 new LDAvis(\"#\" + \"ldavis_el144827801252248487583298770\", ldavis_el144827801252248487583298770_data);\n",
       "            })\n",
       "         });\n",
       "}\n",
       "</script>"
      ],
      "text/plain": [
       "PreparedData(topic_coordinates=                 x            y  topics  cluster       Freq\n",
       "topic                                                      \n",
       "2     -1015.700562  1338.981201       1        1  41.496522\n",
       "1      -387.996002  -373.316162       2        1  35.170774\n",
       "0     -2184.745605   -60.565800       3        1  23.332704, topic_info=           Term         Freq        Total Category  logprob  loglift\n",
       "3645    senador  1495.000000  1495.000000  Default  30.0000  30.0000\n",
       "3835      temer  3192.000000  3192.000000  Default  29.0000  29.0000\n",
       "2757  odebrecht  1203.000000  1203.000000  Default  28.0000  28.0000\n",
       "105       aecio   900.000000   900.000000  Default  27.0000  27.0000\n",
       "2589  ministrar  2243.000000  2243.000000  Default  26.0000  26.0000\n",
       "...         ...          ...          ...      ...      ...      ...\n",
       "3264   publicar   449.244825  2137.945906   Topic3  -5.3587  -0.1047\n",
       "1743     feirar   383.749591  1234.782878   Topic3  -5.5163   0.2867\n",
       "2889     passar   374.517716  1398.128884   Topic3  -5.5406   0.1381\n",
       "3159     prisao   359.163751   964.232702   Topic3  -5.5825   0.4678\n",
       "118     afirmar   372.813402  2478.402571   Topic3  -5.5452  -0.4390\n",
       "\n",
       "[272 rows x 6 columns], token_table=      Topic      Freq     Term\n",
       "term                          \n",
       "41        2  0.983442  acervar\n",
       "61        1  0.229990  acordar\n",
       "61        2  0.565392  acordar\n",
       "61        3  0.204190  acordar\n",
       "104       1  0.053502  advogar\n",
       "...     ...       ...      ...\n",
       "4083      3  0.198021   voltar\n",
       "4102      2  0.961810   zelote\n",
       "4102      3  0.032060   zelote\n",
       "4103      1  0.052396     zeze\n",
       "4103      3  0.943132     zeze\n",
       "\n",
       "[578 rows x 3 columns], R=30, lambda_step=0.01, plot_opts={'xlab': 'PC1', 'ylab': 'PC2'}, topic_order=[3, 2, 1])"
      ]
     },
     "execution_count": 20,
     "metadata": {},
     "output_type": "execute_result"
    }
   ],
   "source": [
    "pyLDAvis.enable_notebook()\n",
    "panel = pyLDAvis.sklearn.prepare(\n",
    "    best_lda_model, data_vectorized, vectorizer, mds=\"tsne\"\n",
    ")\n",
    "panel"
   ]
  },
  {
   "cell_type": "markdown",
   "metadata": {},
   "source": [
    "# 15. How to see the Topic’s keywords?\n",
    "\n",
    "The weights of each keyword in each topic is contained in lda_model.components_ as a 2d array. The names of the keywords itself can be obtained from vectorizer object using get_feature_names().\n",
    "\n",
    "Let’s use this info to construct a weight matrix for all keywords in each topic."
   ]
  },
  {
   "cell_type": "code",
   "execution_count": 21,
   "metadata": {},
   "outputs": [
    {
     "name": "stderr",
     "output_type": "stream",
     "text": [
      "C:\\Users\\Xinda\\AppData\\Local\\Programs\\Python\\Python39\\lib\\site-packages\\ipykernel\\ipkernel.py:283: DeprecationWarning: `should_run_async` will not call `transform_cell` automatically in the future. Please pass the result to `transformed_cell` argument and any exception that happen during thetransform in `preprocessing_exc_tuple` in IPython 7.17 and above.\n",
      "  and should_run_async(code)\n"
     ]
    },
    {
     "data": {
      "text/html": [
       "<div>\n",
       "<style scoped>\n",
       "    .dataframe tbody tr th:only-of-type {\n",
       "        vertical-align: middle;\n",
       "    }\n",
       "\n",
       "    .dataframe tbody tr th {\n",
       "        vertical-align: top;\n",
       "    }\n",
       "\n",
       "    .dataframe thead th {\n",
       "        text-align: right;\n",
       "    }\n",
       "</style>\n",
       "<table border=\"1\" class=\"dataframe\">\n",
       "  <thead>\n",
       "    <tr style=\"text-align: right;\">\n",
       "      <th></th>\n",
       "      <th>abaixar</th>\n",
       "      <th>abalar</th>\n",
       "      <th>abandonar</th>\n",
       "      <th>abastecer</th>\n",
       "      <th>abastecido</th>\n",
       "      <th>abastecimento</th>\n",
       "      <th>abater</th>\n",
       "      <th>abertamente</th>\n",
       "      <th>aberto</th>\n",
       "      <th>abertura</th>\n",
       "      <th>...</th>\n",
       "      <th>wagner</th>\n",
       "      <th>weber</th>\n",
       "      <th>wesley</th>\n",
       "      <th>whatsapp</th>\n",
       "      <th>zanin</th>\n",
       "      <th>zavascki</th>\n",
       "      <th>zelar</th>\n",
       "      <th>zelote</th>\n",
       "      <th>zeze</th>\n",
       "      <th>zonar</th>\n",
       "    </tr>\n",
       "  </thead>\n",
       "  <tbody>\n",
       "    <tr>\n",
       "      <th>Topic 0</th>\n",
       "      <td>131.120494</td>\n",
       "      <td>4.072755</td>\n",
       "      <td>2.431854</td>\n",
       "      <td>1.224190</td>\n",
       "      <td>0.376491</td>\n",
       "      <td>3.382533</td>\n",
       "      <td>1.191862</td>\n",
       "      <td>5.875635</td>\n",
       "      <td>39.955376</td>\n",
       "      <td>74.431254</td>\n",
       "      <td>...</td>\n",
       "      <td>4.280383</td>\n",
       "      <td>7.697074</td>\n",
       "      <td>1.683523</td>\n",
       "      <td>13.258062</td>\n",
       "      <td>0.386236</td>\n",
       "      <td>59.592004</td>\n",
       "      <td>0.744087</td>\n",
       "      <td>0.533344</td>\n",
       "      <td>50.578741</td>\n",
       "      <td>50.861002</td>\n",
       "    </tr>\n",
       "    <tr>\n",
       "      <th>Topic 1</th>\n",
       "      <td>160.949127</td>\n",
       "      <td>1.444133</td>\n",
       "      <td>0.539964</td>\n",
       "      <td>14.371163</td>\n",
       "      <td>12.116168</td>\n",
       "      <td>18.915445</td>\n",
       "      <td>9.183873</td>\n",
       "      <td>1.733475</td>\n",
       "      <td>65.378464</td>\n",
       "      <td>75.311085</td>\n",
       "      <td>...</td>\n",
       "      <td>6.673319</td>\n",
       "      <td>9.093159</td>\n",
       "      <td>7.254982</td>\n",
       "      <td>1.060490</td>\n",
       "      <td>16.439992</td>\n",
       "      <td>13.159250</td>\n",
       "      <td>11.237809</td>\n",
       "      <td>31.783595</td>\n",
       "      <td>0.450153</td>\n",
       "      <td>20.118019</td>\n",
       "    </tr>\n",
       "    <tr>\n",
       "      <th>Topic 2</th>\n",
       "      <td>154.305402</td>\n",
       "      <td>9.351850</td>\n",
       "      <td>62.265544</td>\n",
       "      <td>14.775551</td>\n",
       "      <td>2.070136</td>\n",
       "      <td>15.440309</td>\n",
       "      <td>3.946649</td>\n",
       "      <td>5.754228</td>\n",
       "      <td>122.948198</td>\n",
       "      <td>54.453867</td>\n",
       "      <td>...</td>\n",
       "      <td>2.298251</td>\n",
       "      <td>11.754090</td>\n",
       "      <td>5.339303</td>\n",
       "      <td>17.200302</td>\n",
       "      <td>0.378417</td>\n",
       "      <td>2.833375</td>\n",
       "      <td>3.365741</td>\n",
       "      <td>0.446612</td>\n",
       "      <td>3.291609</td>\n",
       "      <td>75.524420</td>\n",
       "    </tr>\n",
       "  </tbody>\n",
       "</table>\n",
       "<p>3 rows × 4105 columns</p>\n",
       "</div>"
      ],
      "text/plain": [
       "            abaixar    abalar  abandonar  abastecer  abastecido  \\\n",
       "Topic 0  131.120494  4.072755   2.431854   1.224190    0.376491   \n",
       "Topic 1  160.949127  1.444133   0.539964  14.371163   12.116168   \n",
       "Topic 2  154.305402  9.351850  62.265544  14.775551    2.070136   \n",
       "\n",
       "         abastecimento    abater  abertamente      aberto   abertura  ...  \\\n",
       "Topic 0       3.382533  1.191862     5.875635   39.955376  74.431254  ...   \n",
       "Topic 1      18.915445  9.183873     1.733475   65.378464  75.311085  ...   \n",
       "Topic 2      15.440309  3.946649     5.754228  122.948198  54.453867  ...   \n",
       "\n",
       "           wagner      weber    wesley   whatsapp      zanin   zavascki  \\\n",
       "Topic 0  4.280383   7.697074  1.683523  13.258062   0.386236  59.592004   \n",
       "Topic 1  6.673319   9.093159  7.254982   1.060490  16.439992  13.159250   \n",
       "Topic 2  2.298251  11.754090  5.339303  17.200302   0.378417   2.833375   \n",
       "\n",
       "             zelar     zelote       zeze      zonar  \n",
       "Topic 0   0.744087   0.533344  50.578741  50.861002  \n",
       "Topic 1  11.237809  31.783595   0.450153  20.118019  \n",
       "Topic 2   3.365741   0.446612   3.291609  75.524420  \n",
       "\n",
       "[3 rows x 4105 columns]"
      ]
     },
     "execution_count": 21,
     "metadata": {},
     "output_type": "execute_result"
    }
   ],
   "source": [
    "# Topic-Keyword Matrix\n",
    "df_topic_keywords = pd.DataFrame(best_lda_model.components_)\n",
    "\n",
    "# Assign Column and Index\n",
    "df_topic_keywords.columns = vectorizer.get_feature_names()\n",
    "df_topic_keywords.index = topicnames\n",
    "\n",
    "# View\n",
    "df_topic_keywords.head()"
   ]
  },
  {
   "cell_type": "markdown",
   "metadata": {},
   "source": [
    "# 16. Get the top 15 keywords each topic\n",
    "\n",
    "From the above output, we want to see the top 15 keywords that are representative of the topic.\n",
    "\n",
    "The show_topics() defined below creates that."
   ]
  },
  {
   "cell_type": "code",
   "execution_count": 22,
   "metadata": {},
   "outputs": [
    {
     "name": "stderr",
     "output_type": "stream",
     "text": [
      "C:\\Users\\Xinda\\AppData\\Local\\Programs\\Python\\Python39\\lib\\site-packages\\ipykernel\\ipkernel.py:283: DeprecationWarning: `should_run_async` will not call `transform_cell` automatically in the future. Please pass the result to `transformed_cell` argument and any exception that happen during thetransform in `preprocessing_exc_tuple` in IPython 7.17 and above.\n",
      "  and should_run_async(code)\n"
     ]
    },
    {
     "data": {
      "text/html": [
       "<div>\n",
       "<style scoped>\n",
       "    .dataframe tbody tr th:only-of-type {\n",
       "        vertical-align: middle;\n",
       "    }\n",
       "\n",
       "    .dataframe tbody tr th {\n",
       "        vertical-align: top;\n",
       "    }\n",
       "\n",
       "    .dataframe thead th {\n",
       "        text-align: right;\n",
       "    }\n",
       "</style>\n",
       "<table border=\"1\" class=\"dataframe\">\n",
       "  <thead>\n",
       "    <tr style=\"text-align: right;\">\n",
       "      <th></th>\n",
       "      <th>Word 0</th>\n",
       "      <th>Word 1</th>\n",
       "      <th>Word 2</th>\n",
       "      <th>Word 3</th>\n",
       "      <th>Word 4</th>\n",
       "      <th>Word 5</th>\n",
       "      <th>Word 6</th>\n",
       "      <th>Word 7</th>\n",
       "      <th>Word 8</th>\n",
       "      <th>Word 9</th>\n",
       "      <th>Word 10</th>\n",
       "      <th>Word 11</th>\n",
       "      <th>Word 12</th>\n",
       "      <th>Word 13</th>\n",
       "      <th>Word 14</th>\n",
       "    </tr>\n",
       "  </thead>\n",
       "  <tbody>\n",
       "    <tr>\n",
       "      <th>Topic 0</th>\n",
       "      <td>temer</td>\n",
       "      <td>senador</td>\n",
       "      <td>presidente</td>\n",
       "      <td>ministrar</td>\n",
       "      <td>aecio</td>\n",
       "      <td>federal</td>\n",
       "      <td>policiar</td>\n",
       "      <td>deputar</td>\n",
       "      <td>pmdb</td>\n",
       "      <td>denunciar</td>\n",
       "      <td>pedir</td>\n",
       "      <td>republicar</td>\n",
       "      <td>senado</td>\n",
       "      <td>casar</td>\n",
       "      <td>janot</td>\n",
       "    </tr>\n",
       "    <tr>\n",
       "      <th>Topic 1</th>\n",
       "      <td>presidente</td>\n",
       "      <td>federal</td>\n",
       "      <td>pedir</td>\n",
       "      <td>afirmar</td>\n",
       "      <td>odebrecht</td>\n",
       "      <td>lavar</td>\n",
       "      <td>dinheiro</td>\n",
       "      <td>jato</td>\n",
       "      <td>defeso</td>\n",
       "      <td>empresar</td>\n",
       "      <td>propinar</td>\n",
       "      <td>milhoes</td>\n",
       "      <td>depoimento</td>\n",
       "      <td>ministrar</td>\n",
       "      <td>publicar</td>\n",
       "    </tr>\n",
       "    <tr>\n",
       "      <th>Topic 2</th>\n",
       "      <td>presidente</td>\n",
       "      <td>governar</td>\n",
       "      <td>pai</td>\n",
       "      <td>temer</td>\n",
       "      <td>politicar</td>\n",
       "      <td>deputar</td>\n",
       "      <td>pessoa</td>\n",
       "      <td>afirmar</td>\n",
       "      <td>publicar</td>\n",
       "      <td>brasileiro</td>\n",
       "      <td>passar</td>\n",
       "      <td>ficar</td>\n",
       "      <td>casar</td>\n",
       "      <td>querer</td>\n",
       "      <td>direito</td>\n",
       "    </tr>\n",
       "  </tbody>\n",
       "</table>\n",
       "</div>"
      ],
      "text/plain": [
       "             Word 0    Word 1      Word 2     Word 3     Word 4   Word 5  \\\n",
       "Topic 0       temer   senador  presidente  ministrar      aecio  federal   \n",
       "Topic 1  presidente   federal       pedir    afirmar  odebrecht    lavar   \n",
       "Topic 2  presidente  governar         pai      temer  politicar  deputar   \n",
       "\n",
       "           Word 6   Word 7    Word 8      Word 9   Word 10     Word 11  \\\n",
       "Topic 0  policiar  deputar      pmdb   denunciar     pedir  republicar   \n",
       "Topic 1  dinheiro     jato    defeso    empresar  propinar     milhoes   \n",
       "Topic 2    pessoa  afirmar  publicar  brasileiro    passar       ficar   \n",
       "\n",
       "            Word 12    Word 13   Word 14  \n",
       "Topic 0      senado      casar     janot  \n",
       "Topic 1  depoimento  ministrar  publicar  \n",
       "Topic 2       casar     querer   direito  "
      ]
     },
     "execution_count": 22,
     "metadata": {},
     "output_type": "execute_result"
    }
   ],
   "source": [
    "# Show top n keywords for each topic\n",
    "def show_topics(vectorizer=vectorizer, lda_model=lda_model, n_words=20):\n",
    "    keywords = np.array(vectorizer.get_feature_names())\n",
    "    topic_keywords = []\n",
    "    for topic_weights in lda_model.components_:\n",
    "        top_keyword_locs = (-topic_weights).argsort()[:n_words]\n",
    "        topic_keywords.append(keywords.take(top_keyword_locs))\n",
    "    return topic_keywords\n",
    "\n",
    "\n",
    "topic_keywords = show_topics(\n",
    "    vectorizer=vectorizer, lda_model=best_lda_model, n_words=15\n",
    ")\n",
    "\n",
    "# Topic - Keywords Dataframe\n",
    "df_topic_keywords = pd.DataFrame(topic_keywords)\n",
    "df_topic_keywords.columns = [\n",
    "    \"Word \" + str(i) for i in range(df_topic_keywords.shape[1])\n",
    "]\n",
    "df_topic_keywords.index = [\"Topic \" + str(i) for i in range(df_topic_keywords.shape[0])]\n",
    "df_topic_keywords"
   ]
  },
  {
   "cell_type": "markdown",
   "metadata": {},
   "source": [
    "# 17. How to cluster documents that share similar topics and plot?\n",
    "\n",
    "We can use k-means clustering on the document-topic probabilioty matrix, which is nothing but lda_output object. Since out best model has N clusters, I’ve set n_clusters=N in KMeans().\n",
    "\n",
    "Alternately, you could avoid k-means and instead, assign the cluster as the topic column number with the highest probability score.\n",
    "\n",
    "We now have the cluster number. But we also need the X and Y columns to draw the plot.\n",
    "\n",
    "For the X and Y, you can use SVD on the lda_output object with n_components as 2. SVD ensures that these two columns captures the maximum possible amount of information from lda_output in the first 2 components."
   ]
  },
  {
   "cell_type": "code",
   "execution_count": 23,
   "metadata": {},
   "outputs": [
    {
     "name": "stderr",
     "output_type": "stream",
     "text": [
      "C:\\Users\\Xinda\\AppData\\Local\\Programs\\Python\\Python39\\lib\\site-packages\\ipykernel\\ipkernel.py:283: DeprecationWarning: `should_run_async` will not call `transform_cell` automatically in the future. Please pass the result to `transformed_cell` argument and any exception that happen during thetransform in `preprocessing_exc_tuple` in IPython 7.17 and above.\n",
      "  and should_run_async(code)\n"
     ]
    },
    {
     "name": "stdout",
     "output_type": "stream",
     "text": [
      "Component's weights: \n",
      " [[ 0.36  0.4   0.85]\n",
      " [ 0.28  0.82 -0.5 ]]\n",
      "Perc of Variance Explained: \n",
      " [0.08 0.53]\n"
     ]
    }
   ],
   "source": [
    "# Construct the k-means clusters\n",
    "from sklearn.cluster import KMeans\n",
    "\n",
    "clusters = KMeans(n_clusters=3, random_state=100).fit_predict(lda_output)\n",
    "\n",
    "# Build the Singular Value Decomposition(SVD) model\n",
    "svd_model = TruncatedSVD(n_components=2)  # 2 components\n",
    "lda_output_svd = svd_model.fit_transform(lda_output)\n",
    "\n",
    "# X and Y axes of the plot using SVD decomposition\n",
    "x = lda_output_svd[:, 0]\n",
    "y = lda_output_svd[:, 1]\n",
    "\n",
    "# Weights for the 15 columns of lda_output, for each component\n",
    "print(\"Component's weights: \\n\", np.round(svd_model.components_, 2))\n",
    "\n",
    "# Percentage of total information in 'lda_output' explained by the two components\n",
    "print(\n",
    "    \"Perc of Variance Explained: \\n\", np.round(svd_model.explained_variance_ratio_, 2)\n",
    ")"
   ]
  },
  {
   "cell_type": "code",
   "execution_count": 24,
   "metadata": {},
   "outputs": [
    {
     "name": "stderr",
     "output_type": "stream",
     "text": [
      "C:\\Users\\Xinda\\AppData\\Local\\Programs\\Python\\Python39\\lib\\site-packages\\ipykernel\\ipkernel.py:283: DeprecationWarning: `should_run_async` will not call `transform_cell` automatically in the future. Please pass the result to `transformed_cell` argument and any exception that happen during thetransform in `preprocessing_exc_tuple` in IPython 7.17 and above.\n",
      "  and should_run_async(code)\n"
     ]
    },
    {
     "data": {
      "text/plain": [
       "array([0, 0, 2, ..., 0, 2, 2])"
      ]
     },
     "execution_count": 24,
     "metadata": {},
     "output_type": "execute_result"
    }
   ],
   "source": [
    "clusters"
   ]
  },
  {
   "cell_type": "code",
   "execution_count": 25,
   "metadata": {},
   "outputs": [
    {
     "name": "stderr",
     "output_type": "stream",
     "text": [
      "C:\\Users\\Xinda\\AppData\\Local\\Programs\\Python\\Python39\\lib\\site-packages\\ipykernel\\ipkernel.py:283: DeprecationWarning: `should_run_async` will not call `transform_cell` automatically in the future. Please pass the result to `transformed_cell` argument and any exception that happen during thetransform in `preprocessing_exc_tuple` in IPython 7.17 and above.\n",
      "  and should_run_async(code)\n"
     ]
    },
    {
     "data": {
      "image/png": "[encoded data removed]",
      "text/plain": [
       "<Figure size 864x864 with 1 Axes>"
      ]
     },
     "metadata": {
      "needs_background": "light"
     },
     "output_type": "display_data"
    }
   ],
   "source": [
    "# Plot\n",
    "import matplotlib.cm as cm\n",
    "\n",
    "plt.figure(figsize=(12, 12))\n",
    "ax = plt.scatter(x, y, c=clusters, cmap=cm.nipy_spectral)\n",
    "plt.xlabel(\"Component 2\")\n",
    "plt.xlabel(\"Component 1\")\n",
    "plt.title(\n",
    "    \"Segregation of Topic Clusters\",\n",
    ")\n",
    "plt.legend(*ax.legend_elements())\n",
    "\n",
    "plt.show()"
   ]
  },
  {
   "cell_type": "code",
   "execution_count": null,
   "metadata": {},
   "outputs": [],
   "source": []
  },
  {
   "cell_type": "markdown",
   "metadata": {},
   "source": [
    "# Fazendo uns gráficos da evolução dos tópicos pelo tempo"
   ]
  },
  {
   "cell_type": "code",
   "execution_count": 26,
   "metadata": {},
   "outputs": [
    {
     "name": "stderr",
     "output_type": "stream",
     "text": [
      "C:\\Users\\Xinda\\AppData\\Local\\Programs\\Python\\Python39\\lib\\site-packages\\ipykernel\\ipkernel.py:283: DeprecationWarning: `should_run_async` will not call `transform_cell` automatically in the future. Please pass the result to `transformed_cell` argument and any exception that happen during thetransform in `preprocessing_exc_tuple` in IPython 7.17 and above.\n",
      "  and should_run_async(code)\n"
     ]
    },
    {
     "data": {
      "text/html": [
       "<div>\n",
       "<style scoped>\n",
       "    .dataframe tbody tr th:only-of-type {\n",
       "        vertical-align: middle;\n",
       "    }\n",
       "\n",
       "    .dataframe tbody tr th {\n",
       "        vertical-align: top;\n",
       "    }\n",
       "\n",
       "    .dataframe thead th {\n",
       "        text-align: right;\n",
       "    }\n",
       "</style>\n",
       "<table border=\"1\" class=\"dataframe\">\n",
       "  <thead>\n",
       "    <tr style=\"text-align: right;\">\n",
       "      <th></th>\n",
       "      <th>Topic 0</th>\n",
       "      <th>Topic 1</th>\n",
       "      <th>Topic 2</th>\n",
       "      <th>dominant_topic</th>\n",
       "      <th>date</th>\n",
       "      <th>label</th>\n",
       "      <th>period</th>\n",
       "    </tr>\n",
       "  </thead>\n",
       "  <tbody>\n",
       "    <tr>\n",
       "      <th>Doc 0</th>\n",
       "      <td>0.01</td>\n",
       "      <td>0.01</td>\n",
       "      <td>0.98</td>\n",
       "      <td>2</td>\n",
       "      <td>2017-11-30</td>\n",
       "      <td>fake</td>\n",
       "      <td>2017-11</td>\n",
       "    </tr>\n",
       "    <tr>\n",
       "      <th>Doc 1</th>\n",
       "      <td>0.00</td>\n",
       "      <td>0.00</td>\n",
       "      <td>0.99</td>\n",
       "      <td>2</td>\n",
       "      <td>2017-11-24</td>\n",
       "      <td>fake</td>\n",
       "      <td>2017-11</td>\n",
       "    </tr>\n",
       "    <tr>\n",
       "      <th>Doc 2</th>\n",
       "      <td>0.81</td>\n",
       "      <td>0.11</td>\n",
       "      <td>0.08</td>\n",
       "      <td>0</td>\n",
       "      <td>2017-05-23</td>\n",
       "      <td>fake</td>\n",
       "      <td>2017-05</td>\n",
       "    </tr>\n",
       "    <tr>\n",
       "      <th>Doc 3</th>\n",
       "      <td>0.00</td>\n",
       "      <td>0.50</td>\n",
       "      <td>0.50</td>\n",
       "      <td>1</td>\n",
       "      <td>2017-07-24</td>\n",
       "      <td>fake</td>\n",
       "      <td>2017-07</td>\n",
       "    </tr>\n",
       "    <tr>\n",
       "      <th>Doc 4</th>\n",
       "      <td>0.01</td>\n",
       "      <td>0.01</td>\n",
       "      <td>0.98</td>\n",
       "      <td>2</td>\n",
       "      <td>2017-07-25</td>\n",
       "      <td>fake</td>\n",
       "      <td>2017-07</td>\n",
       "    </tr>\n",
       "    <tr>\n",
       "      <th>...</th>\n",
       "      <td>...</td>\n",
       "      <td>...</td>\n",
       "      <td>...</td>\n",
       "      <td>...</td>\n",
       "      <td>...</td>\n",
       "      <td>...</td>\n",
       "      <td>...</td>\n",
       "    </tr>\n",
       "    <tr>\n",
       "      <th>Doc 1713</th>\n",
       "      <td>0.00</td>\n",
       "      <td>0.00</td>\n",
       "      <td>1.00</td>\n",
       "      <td>2</td>\n",
       "      <td>2017-01-27</td>\n",
       "      <td>true</td>\n",
       "      <td>2017-01</td>\n",
       "    </tr>\n",
       "    <tr>\n",
       "      <th>Doc 1714</th>\n",
       "      <td>0.00</td>\n",
       "      <td>1.00</td>\n",
       "      <td>0.00</td>\n",
       "      <td>1</td>\n",
       "      <td>2017-06-30</td>\n",
       "      <td>true</td>\n",
       "      <td>2017-06</td>\n",
       "    </tr>\n",
       "    <tr>\n",
       "      <th>Doc 1715</th>\n",
       "      <td>0.00</td>\n",
       "      <td>0.00</td>\n",
       "      <td>1.00</td>\n",
       "      <td>2</td>\n",
       "      <td>2017-09-19</td>\n",
       "      <td>true</td>\n",
       "      <td>2017-09</td>\n",
       "    </tr>\n",
       "    <tr>\n",
       "      <th>Doc 1716</th>\n",
       "      <td>0.29</td>\n",
       "      <td>0.37</td>\n",
       "      <td>0.34</td>\n",
       "      <td>1</td>\n",
       "      <td>2017-07-28</td>\n",
       "      <td>true</td>\n",
       "      <td>2017-07</td>\n",
       "    </tr>\n",
       "    <tr>\n",
       "      <th>Doc 1717</th>\n",
       "      <td>1.00</td>\n",
       "      <td>0.00</td>\n",
       "      <td>0.00</td>\n",
       "      <td>0</td>\n",
       "      <td>2017-04-26</td>\n",
       "      <td>true</td>\n",
       "      <td>2017-04</td>\n",
       "    </tr>\n",
       "  </tbody>\n",
       "</table>\n",
       "<p>1718 rows × 7 columns</p>\n",
       "</div>"
      ],
      "text/plain": [
       "          Topic 0  Topic 1  Topic 2  dominant_topic       date label   period\n",
       "Doc 0        0.01     0.01     0.98               2 2017-11-30  fake  2017-11\n",
       "Doc 1        0.00     0.00     0.99               2 2017-11-24  fake  2017-11\n",
       "Doc 2        0.81     0.11     0.08               0 2017-05-23  fake  2017-05\n",
       "Doc 3        0.00     0.50     0.50               1 2017-07-24  fake  2017-07\n",
       "Doc 4        0.01     0.01     0.98               2 2017-07-25  fake  2017-07\n",
       "...           ...      ...      ...             ...        ...   ...      ...\n",
       "Doc 1713     0.00     0.00     1.00               2 2017-01-27  true  2017-01\n",
       "Doc 1714     0.00     1.00     0.00               1 2017-06-30  true  2017-06\n",
       "Doc 1715     0.00     0.00     1.00               2 2017-09-19  true  2017-09\n",
       "Doc 1716     0.29     0.37     0.34               1 2017-07-28  true  2017-07\n",
       "Doc 1717     1.00     0.00     0.00               0 2017-04-26  true  2017-04\n",
       "\n",
       "[1718 rows x 7 columns]"
      ]
     },
     "execution_count": 26,
     "metadata": {},
     "output_type": "execute_result"
    }
   ],
   "source": [
    "#len(y)\n",
    "df_2017.index = df_document_topic.index\n",
    "df_document_topic.loc[:, 'date'] = df_2017['date']\n",
    "df_document_topic.loc[:, 'label'] = df_2017['label']\n",
    "df_document_topic[\"date\"] = pd.to_datetime(df[\"date\"], format=\"%Y-%m-%d\", errors=\"coerce\")\n",
    "df_document_topic[\"period\"] = df_document_topic[\"date\"].dt.to_period(\"m\")\n",
    "df_document_topic"
   ]
  },
  {
   "cell_type": "code",
   "execution_count": 27,
   "metadata": {},
   "outputs": [
    {
     "name": "stderr",
     "output_type": "stream",
     "text": [
      "C:\\Users\\Xinda\\AppData\\Local\\Programs\\Python\\Python39\\lib\\site-packages\\ipykernel\\ipkernel.py:283: DeprecationWarning: `should_run_async` will not call `transform_cell` automatically in the future. Please pass the result to `transformed_cell` argument and any exception that happen during thetransform in `preprocessing_exc_tuple` in IPython 7.17 and above.\n",
      "  and should_run_async(code)\n"
     ]
    },
    {
     "data": {
      "text/html": [
       "<div>\n",
       "<style scoped>\n",
       "    .dataframe tbody tr th:only-of-type {\n",
       "        vertical-align: middle;\n",
       "    }\n",
       "\n",
       "    .dataframe tbody tr th {\n",
       "        vertical-align: top;\n",
       "    }\n",
       "\n",
       "    .dataframe thead th {\n",
       "        text-align: right;\n",
       "    }\n",
       "</style>\n",
       "<table border=\"1\" class=\"dataframe\">\n",
       "  <thead>\n",
       "    <tr style=\"text-align: right;\">\n",
       "      <th></th>\n",
       "      <th></th>\n",
       "      <th>Topic 0</th>\n",
       "      <th>Topic 1</th>\n",
       "      <th>Topic 2</th>\n",
       "      <th>date</th>\n",
       "      <th>period</th>\n",
       "    </tr>\n",
       "    <tr>\n",
       "      <th>dominant_topic</th>\n",
       "      <th>label</th>\n",
       "      <th></th>\n",
       "      <th></th>\n",
       "      <th></th>\n",
       "      <th></th>\n",
       "      <th></th>\n",
       "    </tr>\n",
       "  </thead>\n",
       "  <tbody>\n",
       "    <tr>\n",
       "      <th rowspan=\"2\" valign=\"top\">0</th>\n",
       "      <th>fake</th>\n",
       "      <td>252</td>\n",
       "      <td>252</td>\n",
       "      <td>252</td>\n",
       "      <td>252</td>\n",
       "      <td>252</td>\n",
       "    </tr>\n",
       "    <tr>\n",
       "      <th>true</th>\n",
       "      <td>238</td>\n",
       "      <td>238</td>\n",
       "      <td>238</td>\n",
       "      <td>238</td>\n",
       "      <td>238</td>\n",
       "    </tr>\n",
       "    <tr>\n",
       "      <th rowspan=\"2\" valign=\"top\">1</th>\n",
       "      <th>fake</th>\n",
       "      <td>193</td>\n",
       "      <td>193</td>\n",
       "      <td>193</td>\n",
       "      <td>193</td>\n",
       "      <td>193</td>\n",
       "    </tr>\n",
       "    <tr>\n",
       "      <th>true</th>\n",
       "      <td>315</td>\n",
       "      <td>315</td>\n",
       "      <td>315</td>\n",
       "      <td>315</td>\n",
       "      <td>315</td>\n",
       "    </tr>\n",
       "    <tr>\n",
       "      <th rowspan=\"2\" valign=\"top\">2</th>\n",
       "      <th>fake</th>\n",
       "      <td>337</td>\n",
       "      <td>337</td>\n",
       "      <td>337</td>\n",
       "      <td>337</td>\n",
       "      <td>337</td>\n",
       "    </tr>\n",
       "    <tr>\n",
       "      <th>true</th>\n",
       "      <td>383</td>\n",
       "      <td>383</td>\n",
       "      <td>383</td>\n",
       "      <td>383</td>\n",
       "      <td>383</td>\n",
       "    </tr>\n",
       "  </tbody>\n",
       "</table>\n",
       "</div>"
      ],
      "text/plain": [
       "                      Topic 0  Topic 1  Topic 2  date  period\n",
       "dominant_topic label                                         \n",
       "0              fake       252      252      252   252     252\n",
       "               true       238      238      238   238     238\n",
       "1              fake       193      193      193   193     193\n",
       "               true       315      315      315   315     315\n",
       "2              fake       337      337      337   337     337\n",
       "               true       383      383      383   383     383"
      ]
     },
     "execution_count": 27,
     "metadata": {},
     "output_type": "execute_result"
    }
   ],
   "source": [
    "df_document_topic.groupby(['dominant_topic', 'label']).count()"
   ]
  },
  {
   "cell_type": "code",
   "execution_count": 28,
   "metadata": {},
   "outputs": [
    {
     "name": "stdout",
     "output_type": "stream",
     "text": [
      "dominant_topic\n",
      "0    490\n",
      "1    508\n",
      "2    720\n",
      "Name: label, dtype: int64\n"
     ]
    },
    {
     "name": "stderr",
     "output_type": "stream",
     "text": [
      "C:\\Users\\Xinda\\AppData\\Local\\Programs\\Python\\Python39\\lib\\site-packages\\ipykernel\\ipkernel.py:283: DeprecationWarning: `should_run_async` will not call `transform_cell` automatically in the future. Please pass the result to `transformed_cell` argument and any exception that happen during thetransform in `preprocessing_exc_tuple` in IPython 7.17 and above.\n",
      "  and should_run_async(code)\n"
     ]
    },
    {
     "data": {
      "text/html": [
       "<div>\n",
       "<style scoped>\n",
       "    .dataframe tbody tr th:only-of-type {\n",
       "        vertical-align: middle;\n",
       "    }\n",
       "\n",
       "    .dataframe tbody tr th {\n",
       "        vertical-align: top;\n",
       "    }\n",
       "\n",
       "    .dataframe thead th {\n",
       "        text-align: right;\n",
       "    }\n",
       "</style>\n",
       "<table border=\"1\" class=\"dataframe\">\n",
       "  <thead>\n",
       "    <tr style=\"text-align: right;\">\n",
       "      <th></th>\n",
       "      <th>dominant_topic</th>\n",
       "      <th>label</th>\n",
       "      <th>period</th>\n",
       "      <th>Topic 0</th>\n",
       "    </tr>\n",
       "  </thead>\n",
       "  <tbody>\n",
       "    <tr>\n",
       "      <th>0</th>\n",
       "      <td>0</td>\n",
       "      <td>fake</td>\n",
       "      <td>2017-01</td>\n",
       "      <td>6.530612</td>\n",
       "    </tr>\n",
       "    <tr>\n",
       "      <th>1</th>\n",
       "      <td>0</td>\n",
       "      <td>fake</td>\n",
       "      <td>2017-02</td>\n",
       "      <td>5.714286</td>\n",
       "    </tr>\n",
       "    <tr>\n",
       "      <th>2</th>\n",
       "      <td>0</td>\n",
       "      <td>fake</td>\n",
       "      <td>2017-03</td>\n",
       "      <td>3.469388</td>\n",
       "    </tr>\n",
       "    <tr>\n",
       "      <th>3</th>\n",
       "      <td>0</td>\n",
       "      <td>fake</td>\n",
       "      <td>2017-04</td>\n",
       "      <td>2.857143</td>\n",
       "    </tr>\n",
       "    <tr>\n",
       "      <th>4</th>\n",
       "      <td>0</td>\n",
       "      <td>fake</td>\n",
       "      <td>2017-05</td>\n",
       "      <td>9.591837</td>\n",
       "    </tr>\n",
       "    <tr>\n",
       "      <th>...</th>\n",
       "      <td>...</td>\n",
       "      <td>...</td>\n",
       "      <td>...</td>\n",
       "      <td>...</td>\n",
       "    </tr>\n",
       "    <tr>\n",
       "      <th>67</th>\n",
       "      <td>2</td>\n",
       "      <td>true</td>\n",
       "      <td>2017-08</td>\n",
       "      <td>4.583333</td>\n",
       "    </tr>\n",
       "    <tr>\n",
       "      <th>68</th>\n",
       "      <td>2</td>\n",
       "      <td>true</td>\n",
       "      <td>2017-09</td>\n",
       "      <td>4.444444</td>\n",
       "    </tr>\n",
       "    <tr>\n",
       "      <th>69</th>\n",
       "      <td>2</td>\n",
       "      <td>true</td>\n",
       "      <td>2017-10</td>\n",
       "      <td>6.388889</td>\n",
       "    </tr>\n",
       "    <tr>\n",
       "      <th>70</th>\n",
       "      <td>2</td>\n",
       "      <td>true</td>\n",
       "      <td>2017-11</td>\n",
       "      <td>5.555556</td>\n",
       "    </tr>\n",
       "    <tr>\n",
       "      <th>71</th>\n",
       "      <td>2</td>\n",
       "      <td>true</td>\n",
       "      <td>2017-12</td>\n",
       "      <td>12.777778</td>\n",
       "    </tr>\n",
       "  </tbody>\n",
       "</table>\n",
       "<p>72 rows × 4 columns</p>\n",
       "</div>"
      ],
      "text/plain": [
       "   dominant_topic label   period    Topic 0\n",
       "0               0  fake  2017-01   6.530612\n",
       "1               0  fake  2017-02   5.714286\n",
       "2               0  fake  2017-03   3.469388\n",
       "3               0  fake  2017-04   2.857143\n",
       "4               0  fake  2017-05   9.591837\n",
       "..            ...   ...      ...        ...\n",
       "67              2  true  2017-08   4.583333\n",
       "68              2  true  2017-09   4.444444\n",
       "69              2  true  2017-10   6.388889\n",
       "70              2  true  2017-11   5.555556\n",
       "71              2  true  2017-12  12.777778\n",
       "\n",
       "[72 rows x 4 columns]"
      ]
     },
     "execution_count": 28,
     "metadata": {},
     "output_type": "execute_result"
    }
   ],
   "source": [
    "print(df_document_topic.groupby(['dominant_topic']).count()['label'])\n",
    "\n",
    "df_2 = df_document_topic.copy()\n",
    "df_3 = pd.DataFrame(columns=['dominant_topic', 'label', 'period', 'Topic 0'])\n",
    "for i in range(0,3):\n",
    "    df_ = df_2[df_2['dominant_topic'] == i].groupby(['dominant_topic', 'label', 'period']).count().reset_index()[['dominant_topic', 'label', 'period', 'Topic 0']]\n",
    "    df_['Topic 0'] = df_['Topic 0'] * 100 / df_['Topic 0'].sum()\n",
    "    df_3 = df_3.append(df_, ignore_index=True)\n",
    "\n",
    "df_3"
   ]
  },
  {
   "cell_type": "code",
   "execution_count": 41,
   "metadata": {
    "scrolled": false
   },
   "outputs": [
    {
     "name": "stderr",
     "output_type": "stream",
     "text": [
      "C:\\Users\\Xinda\\AppData\\Local\\Programs\\Python\\Python39\\lib\\site-packages\\ipykernel\\ipkernel.py:283: DeprecationWarning: `should_run_async` will not call `transform_cell` automatically in the future. Please pass the result to `transformed_cell` argument and any exception that happen during thetransform in `preprocessing_exc_tuple` in IPython 7.17 and above.\n",
      "  and should_run_async(code)\n"
     ]
    },
    {
     "data": {
      "image/png": "[encoded data removed]",
      "text/plain": [
       "<Figure size 1152x360 with 1 Axes>"
      ]
     },
     "metadata": {
      "needs_background": "light"
     },
     "output_type": "display_data"
    }
   ],
   "source": [
    "i = -0.5\n",
    "for l in ['true', 'fake']:\n",
    "    if l == 'true':\n",
    "        d = {0: \"darkgreen\", 1: \"darkred\", 2: \"darkblue\"}\n",
    "        line = '-'\n",
    "    else:\n",
    "        d = {0: \"lightgreen\", 1: \"indianred\", 2: \"royalblue\"}\n",
    "        line = '--'\n",
    "    d = {2: \"royalblue\"} #{0: \"darkgreen\", 1: \"darkred\", 2: \"darkblue\"}\n",
    "    for k, c in d.items():\n",
    "        i += 1\n",
    "        ax = (\n",
    "            df_3[(df_3[\"dominant_topic\"] == k) & (df_3['label'] == l)][['period', 'Topic 0']]\n",
    "            .groupby(\"period\")[\"Topic 0\"]\n",
    "            .sum()\n",
    "            .plot(\n",
    "                figsize=(16, 5),\n",
    "                label='topic ' + str(k) + ' ' + l,\n",
    "                alpha=0.99,\n",
    "                rot=50,\n",
    "                legend=True,\n",
    "                linestyle=line,\n",
    "                color=c\n",
    "                )\n",
    "            )\n",
    "ax.set_ylabel(\"% of documents per topic and label\")\n",
    "plt.show()"
   ]
  },
  {
   "cell_type": "code",
   "execution_count": 32,
   "metadata": {},
   "outputs": [
    {
     "name": "stderr",
     "output_type": "stream",
     "text": [
      "C:\\Users\\Xinda\\AppData\\Local\\Programs\\Python\\Python39\\lib\\site-packages\\ipykernel\\ipkernel.py:283: DeprecationWarning: `should_run_async` will not call `transform_cell` automatically in the future. Please pass the result to `transformed_cell` argument and any exception that happen during thetransform in `preprocessing_exc_tuple` in IPython 7.17 and above.\n",
      "  and should_run_async(code)\n"
     ]
    },
    {
     "data": {
      "image/png": "[encoded data removed]",
      "text/plain": [
       "<Figure size 1152x504 with 1 Axes>"
      ]
     },
     "metadata": {
      "needs_background": "light"
     },
     "output_type": "display_data"
    }
   ],
   "source": [
    "df_document_topic[\"date\"] = pd.to_datetime(df[\"date\"], format=\"%Y-%m-%d\", errors=\"coerce\")\n",
    "df_document_topic[\"period\"] = df_document_topic[\"date\"].dt.to_period(\"m\")\n",
    "\n",
    "i = -0.5\n",
    "\n",
    "d = {0: \"darkgreen\", 1: \"darkred\", 2: \"darkblue\"}\n",
    "line = '-'\n",
    "for k, c in d.items():\n",
    "    i += 1\n",
    "    ax = (\n",
    "        df_3[(df_3[\"dominant_topic\"] == k)][['period', 'Topic 0']]\n",
    "        .groupby(\"period\")[\"Topic 0\"]\n",
    "        .sum()\n",
    "        .plot(\n",
    "            figsize=(16, 7),\n",
    "            label='topic ' + str(k),\n",
    "            alpha=0.99,\n",
    "            rot=50,\n",
    "            legend=True,\n",
    "            linestyle=line,\n",
    "            color=c\n",
    "            )\n",
    "        )\n",
    "ax.set_ylabel(\"% of documents per topic\")\n",
    "plt.show()"
   ]
  },
  {
   "cell_type": "code",
   "execution_count": null,
   "metadata": {},
   "outputs": [],
   "source": []
  },
  {
   "cell_type": "code",
   "execution_count": null,
   "metadata": {},
   "outputs": [],
   "source": []
  }
 ],
 "metadata": {
  "interpreter": {
   "hash": "5fc39119fb53716d71d336af58d9742de59e9604ecf17036cb692bed5894ed0e"
  },
  "kernelspec": {
   "display_name": "Python 3",
   "language": "python",
   "name": "python3"
  },
  "language_info": {
   "codemirror_mode": {
    "name": "ipython",
    "version": 3
   },
   "file_extension": ".py",
   "mimetype": "text/x-python",
   "name": "python",
   "nbconvert_exporter": "python",
   "pygments_lexer": "ipython3",
   "version": "3.9.5"
  }
 },
 "nbformat": 4,
 "nbformat_minor": 2
}

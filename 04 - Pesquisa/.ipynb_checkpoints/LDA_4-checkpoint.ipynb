{
 "cells": [
  {
   "cell_type": "markdown",
   "metadata": {},
   "source": [
    "based on [this](https://www.machinelearningplus.com/nlp/topic-modeling-python-sklearn-examples/)"
   ]
  },
  {
   "cell_type": "markdown",
   "metadata": {},
   "source": [
    "# 1. Load the packages"
   ]
  },
  {
   "cell_type": "code",
   "execution_count": 80,
   "metadata": {},
   "outputs": [
    {
     "name": "stderr",
     "output_type": "stream",
     "text": [
      "C:\\Users\\Xinda\\AppData\\Local\\Programs\\Python\\Python39\\lib\\site-packages\\ipykernel\\ipkernel.py:283: DeprecationWarning: `should_run_async` will not call `transform_cell` automatically in the future. Please pass the result to `transformed_cell` argument and any exception that happen during thetransform in `preprocessing_exc_tuple` in IPython 7.17 and above.\n",
      "  and should_run_async(code)\n"
     ]
    }
   ],
   "source": [
    "import numpy as np\n",
    "import pandas as pd\n",
    "import re, nltk, spacy, gensim\n",
    "import stopwordsiso\n",
    "\n",
    "# Sklearn\n",
    "from sklearn.decomposition import LatentDirichletAllocation, TruncatedSVD\n",
    "from sklearn.feature_extraction.text import CountVectorizer, TfidfVectorizer\n",
    "from sklearn.model_selection import GridSearchCV\n",
    "from pprint import pprint\n",
    "\n",
    "# Plotting tools\n",
    "import pyLDAvis\n",
    "import pyLDAvis.sklearn\n",
    "import matplotlib.pyplot as plt"
   ]
  },
  {
   "cell_type": "markdown",
   "metadata": {},
   "source": [
    "# 2. Import Newsgroups Text Data"
   ]
  },
  {
   "cell_type": "code",
   "execution_count": 81,
   "metadata": {},
   "outputs": [
    {
     "name": "stderr",
     "output_type": "stream",
     "text": [
      "C:\\Users\\Xinda\\AppData\\Local\\Programs\\Python\\Python39\\lib\\site-packages\\ipykernel\\ipkernel.py:283: DeprecationWarning: `should_run_async` will not call `transform_cell` automatically in the future. Please pass the result to `transformed_cell` argument and any exception that happen during thetransform in `preprocessing_exc_tuple` in IPython 7.17 and above.\n",
      "  and should_run_async(code)\n"
     ]
    },
    {
     "data": {
      "text/html": [
       "<div>\n",
       "<style scoped>\n",
       "    .dataframe tbody tr th:only-of-type {\n",
       "        vertical-align: middle;\n",
       "    }\n",
       "\n",
       "    .dataframe tbody tr th {\n",
       "        vertical-align: top;\n",
       "    }\n",
       "\n",
       "    .dataframe thead th {\n",
       "        text-align: right;\n",
       "    }\n",
       "</style>\n",
       "<table border=\"1\" class=\"dataframe\">\n",
       "  <thead>\n",
       "    <tr style=\"text-align: right;\">\n",
       "      <th></th>\n",
       "      <th>label</th>\n",
       "      <th>file</th>\n",
       "      <th>link</th>\n",
       "      <th>category</th>\n",
       "      <th>emotiveness</th>\n",
       "      <th>errors</th>\n",
       "      <th>pausatility</th>\n",
       "      <th>text</th>\n",
       "      <th>tokens</th>\n",
       "      <th>words in upper case</th>\n",
       "      <th>average sentence length</th>\n",
       "      <th>nouns</th>\n",
       "      <th>verbs</th>\n",
       "      <th>adverbs</th>\n",
       "      <th>adjectives</th>\n",
       "      <th>pronouns</th>\n",
       "      <th>date</th>\n",
       "    </tr>\n",
       "  </thead>\n",
       "  <tbody>\n",
       "    <tr>\n",
       "      <th>0</th>\n",
       "      <td>fake</td>\n",
       "      <td>1.txt</td>\n",
       "      <td>ceticismopolitico.com</td>\n",
       "      <td>politica</td>\n",
       "      <td>0.263158</td>\n",
       "      <td>0.000000</td>\n",
       "      <td>2.000000</td>\n",
       "      <td>katia abreu diz vai colocar expulsao moldura, ...</td>\n",
       "      <td>211.0</td>\n",
       "      <td>6.0</td>\n",
       "      <td>14.23080</td>\n",
       "      <td>46.0</td>\n",
       "      <td>30.0</td>\n",
       "      <td>13.0</td>\n",
       "      <td>7.0</td>\n",
       "      <td>26.0</td>\n",
       "      <td>2017-11-30</td>\n",
       "    </tr>\n",
       "    <tr>\n",
       "      <th>1</th>\n",
       "      <td>fake</td>\n",
       "      <td>10.txt</td>\n",
       "      <td>ceticismopolitico.com</td>\n",
       "      <td>politica</td>\n",
       "      <td>0.241667</td>\n",
       "      <td>0.007874</td>\n",
       "      <td>2.500000</td>\n",
       "      <td>dr. ray peita bolsonaro, chama-o conservador f...</td>\n",
       "      <td>289.0</td>\n",
       "      <td>0.0</td>\n",
       "      <td>18.14290</td>\n",
       "      <td>64.0</td>\n",
       "      <td>56.0</td>\n",
       "      <td>18.0</td>\n",
       "      <td>11.0</td>\n",
       "      <td>20.0</td>\n",
       "      <td>2017-11-24</td>\n",
       "    </tr>\n",
       "    <tr>\n",
       "      <th>2</th>\n",
       "      <td>fake</td>\n",
       "      <td>100.txt</td>\n",
       "      <td>afolhabrasil.com.br</td>\n",
       "      <td>politica</td>\n",
       "      <td>0.127820</td>\n",
       "      <td>0.003636</td>\n",
       "      <td>1.812500</td>\n",
       "      <td>reinaldo azevedo desmascarado policia federal....</td>\n",
       "      <td>304.0</td>\n",
       "      <td>0.0</td>\n",
       "      <td>17.18750</td>\n",
       "      <td>88.0</td>\n",
       "      <td>45.0</td>\n",
       "      <td>8.0</td>\n",
       "      <td>9.0</td>\n",
       "      <td>18.0</td>\n",
       "      <td>2017-05-23</td>\n",
       "    </tr>\n",
       "    <tr>\n",
       "      <th>3</th>\n",
       "      <td>fake</td>\n",
       "      <td>1000.txt</td>\n",
       "      <td>diariodobrasil.org</td>\n",
       "      <td>politica</td>\n",
       "      <td>0.229008</td>\n",
       "      <td>0.001748</td>\n",
       "      <td>2.680000</td>\n",
       "      <td>relatorio assustador bndes mostra dinheiro pub...</td>\n",
       "      <td>639.0</td>\n",
       "      <td>14.0</td>\n",
       "      <td>22.88000</td>\n",
       "      <td>175.0</td>\n",
       "      <td>87.0</td>\n",
       "      <td>21.0</td>\n",
       "      <td>39.0</td>\n",
       "      <td>34.0</td>\n",
       "      <td>2017-07-24</td>\n",
       "    </tr>\n",
       "    <tr>\n",
       "      <th>4</th>\n",
       "      <td>fake</td>\n",
       "      <td>1001.txt</td>\n",
       "      <td>diariodobrasil.org</td>\n",
       "      <td>politica</td>\n",
       "      <td>0.269231</td>\n",
       "      <td>0.000000</td>\n",
       "      <td>0.894737</td>\n",
       "      <td>radialista americano fala sobre pt: \"eles vend...</td>\n",
       "      <td>128.0</td>\n",
       "      <td>1.0</td>\n",
       "      <td>5.84211</td>\n",
       "      <td>31.0</td>\n",
       "      <td>21.0</td>\n",
       "      <td>8.0</td>\n",
       "      <td>6.0</td>\n",
       "      <td>12.0</td>\n",
       "      <td>2017-07-25</td>\n",
       "    </tr>\n",
       "  </tbody>\n",
       "</table>\n",
       "</div>"
      ],
      "text/plain": [
       "  label      file                   link  category  emotiveness    errors  \\\n",
       "0  fake     1.txt  ceticismopolitico.com  politica     0.263158  0.000000   \n",
       "1  fake    10.txt  ceticismopolitico.com  politica     0.241667  0.007874   \n",
       "2  fake   100.txt    afolhabrasil.com.br  politica     0.127820  0.003636   \n",
       "3  fake  1000.txt     diariodobrasil.org  politica     0.229008  0.001748   \n",
       "4  fake  1001.txt     diariodobrasil.org  politica     0.269231  0.000000   \n",
       "\n",
       "   pausatility                                               text  tokens  \\\n",
       "0     2.000000  katia abreu diz vai colocar expulsao moldura, ...   211.0   \n",
       "1     2.500000  dr. ray peita bolsonaro, chama-o conservador f...   289.0   \n",
       "2     1.812500  reinaldo azevedo desmascarado policia federal....   304.0   \n",
       "3     2.680000  relatorio assustador bndes mostra dinheiro pub...   639.0   \n",
       "4     0.894737  radialista americano fala sobre pt: \"eles vend...   128.0   \n",
       "\n",
       "   words in upper case  average sentence length  nouns  verbs  adverbs  \\\n",
       "0                  6.0                 14.23080   46.0   30.0     13.0   \n",
       "1                  0.0                 18.14290   64.0   56.0     18.0   \n",
       "2                  0.0                 17.18750   88.0   45.0      8.0   \n",
       "3                 14.0                 22.88000  175.0   87.0     21.0   \n",
       "4                  1.0                  5.84211   31.0   21.0      8.0   \n",
       "\n",
       "   adjectives  pronouns        date  \n",
       "0         7.0      26.0  2017-11-30  \n",
       "1        11.0      20.0  2017-11-24  \n",
       "2         9.0      18.0  2017-05-23  \n",
       "3        39.0      34.0  2017-07-24  \n",
       "4         6.0      12.0  2017-07-25  "
      ]
     },
     "execution_count": 81,
     "metadata": {},
     "output_type": "execute_result"
    }
   ],
   "source": [
    "# Import Dataset\n",
    "df = pd.read_csv(\"../02 - Analise exploratoria/all_together.csv\")\n",
    "df.head()"
   ]
  },
  {
   "cell_type": "code",
   "execution_count": 82,
   "metadata": {},
   "outputs": [
    {
     "name": "stdout",
     "output_type": "stream",
     "text": [
      "All categories: {'religiao', 'economia', 'politica', 'sociedade_cotidiano', 'tv_celebridades', 'ciencia_tecnologia'}\n",
      "Ratio: 4180/7200\n"
     ]
    },
    {
     "name": "stderr",
     "output_type": "stream",
     "text": [
      "C:\\Users\\Xinda\\AppData\\Local\\Programs\\Python\\Python39\\lib\\site-packages\\ipykernel\\ipkernel.py:283: DeprecationWarning: `should_run_async` will not call `transform_cell` automatically in the future. Please pass the result to `transformed_cell` argument and any exception that happen during thetransform in `preprocessing_exc_tuple` in IPython 7.17 and above.\n",
      "  and should_run_async(code)\n"
     ]
    },
    {
     "data": {
      "text/html": [
       "<div>\n",
       "<style scoped>\n",
       "    .dataframe tbody tr th:only-of-type {\n",
       "        vertical-align: middle;\n",
       "    }\n",
       "\n",
       "    .dataframe tbody tr th {\n",
       "        vertical-align: top;\n",
       "    }\n",
       "\n",
       "    .dataframe thead th {\n",
       "        text-align: right;\n",
       "    }\n",
       "</style>\n",
       "<table border=\"1\" class=\"dataframe\">\n",
       "  <thead>\n",
       "    <tr style=\"text-align: right;\">\n",
       "      <th></th>\n",
       "      <th>label</th>\n",
       "      <th>file</th>\n",
       "      <th>link</th>\n",
       "      <th>category</th>\n",
       "      <th>emotiveness</th>\n",
       "      <th>errors</th>\n",
       "      <th>pausatility</th>\n",
       "      <th>text</th>\n",
       "      <th>tokens</th>\n",
       "      <th>words in upper case</th>\n",
       "      <th>average sentence length</th>\n",
       "      <th>nouns</th>\n",
       "      <th>verbs</th>\n",
       "      <th>adverbs</th>\n",
       "      <th>adjectives</th>\n",
       "      <th>pronouns</th>\n",
       "      <th>date</th>\n",
       "    </tr>\n",
       "  </thead>\n",
       "  <tbody>\n",
       "    <tr>\n",
       "      <th>0</th>\n",
       "      <td>fake</td>\n",
       "      <td>1.txt</td>\n",
       "      <td>ceticismopolitico.com</td>\n",
       "      <td>politica</td>\n",
       "      <td>0.263158</td>\n",
       "      <td>0.000000</td>\n",
       "      <td>2.000000</td>\n",
       "      <td>katia abreu diz vai colocar expulsao moldura, ...</td>\n",
       "      <td>211.0</td>\n",
       "      <td>6.0</td>\n",
       "      <td>14.23080</td>\n",
       "      <td>46.0</td>\n",
       "      <td>30.0</td>\n",
       "      <td>13.0</td>\n",
       "      <td>7.0</td>\n",
       "      <td>26.0</td>\n",
       "      <td>2017-11-30</td>\n",
       "    </tr>\n",
       "    <tr>\n",
       "      <th>1</th>\n",
       "      <td>fake</td>\n",
       "      <td>10.txt</td>\n",
       "      <td>ceticismopolitico.com</td>\n",
       "      <td>politica</td>\n",
       "      <td>0.241667</td>\n",
       "      <td>0.007874</td>\n",
       "      <td>2.500000</td>\n",
       "      <td>dr. ray peita bolsonaro, chama-o conservador f...</td>\n",
       "      <td>289.0</td>\n",
       "      <td>0.0</td>\n",
       "      <td>18.14290</td>\n",
       "      <td>64.0</td>\n",
       "      <td>56.0</td>\n",
       "      <td>18.0</td>\n",
       "      <td>11.0</td>\n",
       "      <td>20.0</td>\n",
       "      <td>2017-11-24</td>\n",
       "    </tr>\n",
       "    <tr>\n",
       "      <th>2</th>\n",
       "      <td>fake</td>\n",
       "      <td>100.txt</td>\n",
       "      <td>afolhabrasil.com.br</td>\n",
       "      <td>politica</td>\n",
       "      <td>0.127820</td>\n",
       "      <td>0.003636</td>\n",
       "      <td>1.812500</td>\n",
       "      <td>reinaldo azevedo desmascarado policia federal....</td>\n",
       "      <td>304.0</td>\n",
       "      <td>0.0</td>\n",
       "      <td>17.18750</td>\n",
       "      <td>88.0</td>\n",
       "      <td>45.0</td>\n",
       "      <td>8.0</td>\n",
       "      <td>9.0</td>\n",
       "      <td>18.0</td>\n",
       "      <td>2017-05-23</td>\n",
       "    </tr>\n",
       "    <tr>\n",
       "      <th>3</th>\n",
       "      <td>fake</td>\n",
       "      <td>1000.txt</td>\n",
       "      <td>diariodobrasil.org</td>\n",
       "      <td>politica</td>\n",
       "      <td>0.229008</td>\n",
       "      <td>0.001748</td>\n",
       "      <td>2.680000</td>\n",
       "      <td>relatorio assustador bndes mostra dinheiro pub...</td>\n",
       "      <td>639.0</td>\n",
       "      <td>14.0</td>\n",
       "      <td>22.88000</td>\n",
       "      <td>175.0</td>\n",
       "      <td>87.0</td>\n",
       "      <td>21.0</td>\n",
       "      <td>39.0</td>\n",
       "      <td>34.0</td>\n",
       "      <td>2017-07-24</td>\n",
       "    </tr>\n",
       "    <tr>\n",
       "      <th>4</th>\n",
       "      <td>fake</td>\n",
       "      <td>1001.txt</td>\n",
       "      <td>diariodobrasil.org</td>\n",
       "      <td>politica</td>\n",
       "      <td>0.269231</td>\n",
       "      <td>0.000000</td>\n",
       "      <td>0.894737</td>\n",
       "      <td>radialista americano fala sobre pt: \"eles vend...</td>\n",
       "      <td>128.0</td>\n",
       "      <td>1.0</td>\n",
       "      <td>5.84211</td>\n",
       "      <td>31.0</td>\n",
       "      <td>21.0</td>\n",
       "      <td>8.0</td>\n",
       "      <td>6.0</td>\n",
       "      <td>12.0</td>\n",
       "      <td>2017-07-25</td>\n",
       "    </tr>\n",
       "  </tbody>\n",
       "</table>\n",
       "</div>"
      ],
      "text/plain": [
       "  label      file                   link  category  emotiveness    errors  \\\n",
       "0  fake     1.txt  ceticismopolitico.com  politica     0.263158  0.000000   \n",
       "1  fake    10.txt  ceticismopolitico.com  politica     0.241667  0.007874   \n",
       "2  fake   100.txt    afolhabrasil.com.br  politica     0.127820  0.003636   \n",
       "3  fake  1000.txt     diariodobrasil.org  politica     0.229008  0.001748   \n",
       "4  fake  1001.txt     diariodobrasil.org  politica     0.269231  0.000000   \n",
       "\n",
       "   pausatility                                               text  tokens  \\\n",
       "0     2.000000  katia abreu diz vai colocar expulsao moldura, ...   211.0   \n",
       "1     2.500000  dr. ray peita bolsonaro, chama-o conservador f...   289.0   \n",
       "2     1.812500  reinaldo azevedo desmascarado policia federal....   304.0   \n",
       "3     2.680000  relatorio assustador bndes mostra dinheiro pub...   639.0   \n",
       "4     0.894737  radialista americano fala sobre pt: \"eles vend...   128.0   \n",
       "\n",
       "   words in upper case  average sentence length  nouns  verbs  adverbs  \\\n",
       "0                  6.0                 14.23080   46.0   30.0     13.0   \n",
       "1                  0.0                 18.14290   64.0   56.0     18.0   \n",
       "2                  0.0                 17.18750   88.0   45.0      8.0   \n",
       "3                 14.0                 22.88000  175.0   87.0     21.0   \n",
       "4                  1.0                  5.84211   31.0   21.0      8.0   \n",
       "\n",
       "   adjectives  pronouns        date  \n",
       "0         7.0      26.0  2017-11-30  \n",
       "1        11.0      20.0  2017-11-24  \n",
       "2         9.0      18.0  2017-05-23  \n",
       "3        39.0      34.0  2017-07-24  \n",
       "4         6.0      12.0  2017-07-25  "
      ]
     },
     "execution_count": 82,
     "metadata": {},
     "output_type": "execute_result"
    }
   ],
   "source": [
    "print(\"All categories:\", set(df[\"category\"]))\n",
    "\n",
    "df_politica = df.loc[df[\"category\"] == \"politica\"].copy()\n",
    "print(f\"Ratio: {len(df_politica)}/{len(df)}\")\n",
    "\n",
    "df_politica.head()"
   ]
  },
  {
   "cell_type": "code",
   "execution_count": 83,
   "metadata": {},
   "outputs": [
    {
     "name": "stdout",
     "output_type": "stream",
     "text": [
      "Ratio: 1718/7200 (0.24)\n",
      "True: 936\n",
      "Fake: 782\n",
      "  label      file                   link  category  emotiveness    errors  \\\n",
      "0  fake     1.txt  ceticismopolitico.com  politica     0.263158  0.000000   \n",
      "1  fake    10.txt  ceticismopolitico.com  politica     0.241667  0.007874   \n",
      "2  fake   100.txt    afolhabrasil.com.br  politica     0.127820  0.003636   \n",
      "3  fake  1000.txt     diariodobrasil.org  politica     0.229008  0.001748   \n",
      "4  fake  1001.txt     diariodobrasil.org  politica     0.269231  0.000000   \n",
      "\n",
      "   pausatility                                               text  tokens  \\\n",
      "0     2.000000  katia abreu diz vai colocar expulsao moldura, ...   211.0   \n",
      "1     2.500000  dr. ray peita bolsonaro, chama-o conservador f...   289.0   \n",
      "2     1.812500  reinaldo azevedo desmascarado policia federal....   304.0   \n",
      "3     2.680000  relatorio assustador bndes mostra dinheiro pub...   639.0   \n",
      "4     0.894737  radialista americano fala sobre pt: \"eles vend...   128.0   \n",
      "\n",
      "   words in upper case  average sentence length  nouns  verbs  adverbs  \\\n",
      "0                  6.0                 14.23080   46.0   30.0     13.0   \n",
      "1                  0.0                 18.14290   64.0   56.0     18.0   \n",
      "2                  0.0                 17.18750   88.0   45.0      8.0   \n",
      "3                 14.0                 22.88000  175.0   87.0     21.0   \n",
      "4                  1.0                  5.84211   31.0   21.0      8.0   \n",
      "\n",
      "   adjectives  pronouns        date  \n",
      "0         7.0      26.0  2017-11-30  \n",
      "1        11.0      20.0  2017-11-24  \n",
      "2         9.0      18.0  2017-05-23  \n",
      "3        39.0      34.0  2017-07-24  \n",
      "4         6.0      12.0  2017-07-25  \n"
     ]
    },
    {
     "name": "stderr",
     "output_type": "stream",
     "text": [
      "C:\\Users\\Xinda\\AppData\\Local\\Programs\\Python\\Python39\\lib\\site-packages\\ipykernel\\ipkernel.py:283: DeprecationWarning: `should_run_async` will not call `transform_cell` automatically in the future. Please pass the result to `transformed_cell` argument and any exception that happen during thetransform in `preprocessing_exc_tuple` in IPython 7.17 and above.\n",
      "  and should_run_async(code)\n"
     ]
    }
   ],
   "source": [
    "# Easier to do as a string\n",
    "df_2017 = df_politica.loc[df[\"date\"].str.startswith(\"2017\", na=False)].copy()\n",
    "\n",
    "\n",
    "print(f\"Ratio: {len(df_2017)}/{len(df)} ({len(df_2017)/len(df):.2f})\")\n",
    "print(f\"True: {len(df_2017.loc[df['label'] == 'true'])}\")\n",
    "print(f\"Fake: {len(df_2017.loc[df['label'] == 'fake'])}\")\n",
    "df = df_2017\n",
    "\n",
    "print(df_2017.head())"
   ]
  },
  {
   "cell_type": "markdown",
   "metadata": {},
   "source": [
    "# 3. Tokenize and Clean-up using gensim’s simple_preprocess()"
   ]
  },
  {
   "cell_type": "code",
   "execution_count": 84,
   "metadata": {},
   "outputs": [
    {
     "name": "stderr",
     "output_type": "stream",
     "text": [
      "C:\\Users\\Xinda\\AppData\\Local\\Programs\\Python\\Python39\\lib\\site-packages\\ipykernel\\ipkernel.py:283: DeprecationWarning: `should_run_async` will not call `transform_cell` automatically in the future. Please pass the result to `transformed_cell` argument and any exception that happen during thetransform in `preprocessing_exc_tuple` in IPython 7.17 and above.\n",
      "  and should_run_async(code)\n"
     ]
    },
    {
     "data": {
      "text/plain": [
       "['katia',\n",
       " 'abreu',\n",
       " 'diz',\n",
       " 'vai',\n",
       " 'colocar',\n",
       " 'expulsao',\n",
       " 'moldura',\n",
       " 'reclamar',\n",
       " 'senadora',\n",
       " 'katia',\n",
       " 'abreu',\n",
       " 'sem',\n",
       " 'partido',\n",
       " 'to',\n",
       " 'disse',\n",
       " 'expulsao',\n",
       " 'pmdb',\n",
       " 'resultado',\n",
       " 'acao',\n",
       " 'cupula',\n",
       " 'atual',\n",
       " 'legenda',\n",
       " 'que',\n",
       " 'segundo',\n",
       " 'ela',\n",
       " 'oportunista',\n",
       " 'amanha',\n",
       " 'vou',\n",
       " 'botar',\n",
       " 'moldura',\n",
       " 'dourada',\n",
       " 'expulsao',\n",
       " 'porque',\n",
       " 'maos',\n",
       " 'onde',\n",
       " 'veio',\n",
       " 'atestado',\n",
       " 'boa',\n",
       " 'conduta',\n",
       " 'curriculo',\n",
       " 'essas',\n",
       " 'pessoas',\n",
       " 'expulsaram',\n",
       " 'servem',\n",
       " 'pais',\n",
       " 'eles',\n",
       " 'servem',\n",
       " 'pais',\n",
       " 'beneficios',\n",
       " 'proprios',\n",
       " 'disse',\n",
       " 'katia',\n",
       " 'abreu',\n",
       " 'ue',\n",
       " 'expulsao',\n",
       " 'algo',\n",
       " 'tao',\n",
       " 'bom',\n",
       " 'curriculo',\n",
       " 'tanta',\n",
       " 'choradeira',\n",
       " 'katia',\n",
       " 'sabemos',\n",
       " 'motivo',\n",
       " 'provavelmente',\n",
       " 'katia',\n",
       " 'valor',\n",
       " 'pt',\n",
       " 'partido',\n",
       " 'deveria',\n",
       " 'te',\n",
       " 'la',\n",
       " 'absorvido',\n",
       " 'ao',\n",
       " 'parece',\n",
       " 'pt',\n",
       " 'gostava',\n",
       " 'katia',\n",
       " 'somente',\n",
       " 'ficasse',\n",
       " 'entrincheirada',\n",
       " 'dentro',\n",
       " 'pmdb',\n",
       " 'ou',\n",
       " 'seja',\n",
       " 'rebaixar',\n",
       " 'demais',\n",
       " 'resta',\n",
       " 'katia',\n",
       " 'ficar',\n",
       " 'chorando',\n",
       " 'pitangas',\n",
       " 'todos',\n",
       " 'cantos',\n",
       " 'em',\n",
       " 'tempo',\n",
       " 'momento',\n",
       " 'pt',\n",
       " 'cadastrou',\n",
       " 'katia',\n",
       " 'abreu',\n",
       " 'fileiras',\n",
       " 'que',\n",
       " 'situacao',\n",
       " 'patetica',\n",
       " 'ex',\n",
       " 'ministra',\n",
       " 'agricultura',\n",
       " 'dilma']"
      ]
     },
     "execution_count": 84,
     "metadata": {},
     "output_type": "execute_result"
    }
   ],
   "source": [
    "def sent_to_words(sentences):\n",
    "    for sentence in sentences:\n",
    "        # deacc=True removes punctuations\n",
    "        yield (gensim.utils.simple_preprocess(str(sentence), deacc=True))\n",
    "\n",
    "\n",
    "all_documents = list(df[\"text\"].copy())\n",
    "data_words = list(sent_to_words(all_documents))\n",
    "data_words[0]"
   ]
  },
  {
   "cell_type": "markdown",
   "metadata": {},
   "source": [
    "# 4. Lemmatization\n",
    "\n",
    "Lemmatization is a process where we convert words to its root word.\n",
    "\n",
    "For example: ‘Studying’ becomes ‘Study’, ‘Meeting becomes ‘Meet’, ‘Better’ and ‘Best’ becomes ‘Good’.\n",
    "\n",
    "The advantage of this is, we get to reduce the total number of unique words in the dictionary. As a result, the number of columns in the document-word matrix (created by CountVectorizer in the next step) will be denser with lesser columns."
   ]
  },
  {
   "cell_type": "markdown",
   "metadata": {},
   "source": [
    "## If you're unable to run the cell below, make sure you have pt_core_news_sm from spacy.\n",
    "\n",
    "### To download it, run `python -m spacy download pt_core_news_sm`"
   ]
  },
  {
   "cell_type": "code",
   "execution_count": 85,
   "metadata": {},
   "outputs": [
    {
     "name": "stderr",
     "output_type": "stream",
     "text": [
      "C:\\Users\\Xinda\\AppData\\Local\\Programs\\Python\\Python39\\lib\\site-packages\\ipykernel\\ipkernel.py:283: DeprecationWarning: `should_run_async` will not call `transform_cell` automatically in the future. Please pass the result to `transformed_cell` argument and any exception that happen during thetransform in `preprocessing_exc_tuple` in IPython 7.17 and above.\n",
      "  and should_run_async(code)\n"
     ]
    },
    {
     "data": {
      "text/plain": [
       "'katia abreu dizer colocar expulsao moldurar reclamar abreu partir dizer expulsao pmdb resultar cupula atual legendar oportunista amanhar botar moldurar dourar expulsao maos vir atestar bom conduta curriculo pessoa expulsar servir pai servir pai beneficios proprios dizer katia abreu expulsao bom curriculo tanto choradeira katia saber motivar provavelmente katia valor pt partir dever absorver parecer gostar katia somente ficar entrincheirar dentro pmdb rebaixar demais restar katia ficar chorar pitanga canto momento cadastrar abreu fileira situacao patetica ministro agricultura'"
      ]
     },
     "execution_count": 85,
     "metadata": {},
     "output_type": "execute_result"
    }
   ],
   "source": [
    "def lemmatization(texts, allowed_postags=[\"NOUN\", \"ADJ\", \"VERB\", \"ADV\"]):\n",
    "    \"\"\"https://spacy.io/api/annotation\"\"\"\n",
    "    texts_out = []\n",
    "    for sent in texts:\n",
    "        doc = nlp(\" \".join(sent))\n",
    "        texts_out.append(\n",
    "            \" \".join(\n",
    "                [\n",
    "                    token.lemma_ if token.lemma_ not in [\"-PRON-\"] else \"\"\n",
    "                    for token in doc\n",
    "                    if token.pos_ in allowed_postags\n",
    "                ]\n",
    "            )\n",
    "        )\n",
    "    return texts_out\n",
    "\n",
    "\n",
    "# Initialize spacy 'pt_core_news_sm' model, keeping only tagger component (for efficiency)\n",
    "# Run in terminal: python3 -m spacy download pt_core_news_sm\n",
    "nlp = spacy.load(\"pt_core_news_sm\", disable=[\"parser\", \"ner\"])\n",
    "\n",
    "# Do lemmatization keeping only Noun, Adj, Verb, Adverb\n",
    "data_lemmatized = lemmatization(\n",
    "    data_words, allowed_postags=[\"NOUN\", \"ADJ\", \"VERB\", \"ADV\"]\n",
    ")\n",
    "data_lemmatized[0]"
   ]
  },
  {
   "cell_type": "markdown",
   "metadata": {},
   "source": [
    "## Remove stopwords"
   ]
  },
  {
   "cell_type": "code",
   "execution_count": 86,
   "metadata": {},
   "outputs": [
    {
     "name": "stderr",
     "output_type": "stream",
     "text": [
      "C:\\Users\\Xinda\\AppData\\Local\\Programs\\Python\\Python39\\lib\\site-packages\\ipykernel\\ipkernel.py:283: DeprecationWarning: `should_run_async` will not call `transform_cell` automatically in the future. Please pass the result to `transformed_cell` argument and any exception that happen during thetransform in `preprocessing_exc_tuple` in IPython 7.17 and above.\n",
      "  and should_run_async(code)\n"
     ]
    },
    {
     "data": {
      "text/plain": [
       "'katia abreu colocar expulsao moldurar reclamar abreu expulsao pmdb resultar cupula atual legendar oportunista amanhar botar moldurar dourar expulsao maos vir atestar conduta curriculo pessoa expulsar servir pai servir pai beneficios proprios katia abreu expulsao curriculo choradeira katia motivar provavelmente katia pt dever absorver parecer gostar katia ficar entrincheirar pmdb rebaixar restar katia ficar chorar pitanga canto cadastrar abreu fileira situacao patetica ministro agricultura'"
      ]
     },
     "execution_count": 86,
     "metadata": {},
     "output_type": "execute_result"
    }
   ],
   "source": [
    "stops = set(stopwordsiso.stopwords(\"pt\"))\n",
    "\n",
    "\n",
    "def remove_stopwords(text: str) -> str:\n",
    "    # print(text)\n",
    "    return \" \".join([t for t in text.split(\" \") if t not in stops])\n",
    "\n",
    "\n",
    "data_no_stopwords = [remove_stopwords(text) for text in data_lemmatized]\n",
    "data_no_stopwords[0]"
   ]
  },
  {
   "cell_type": "markdown",
   "metadata": {},
   "source": [
    "# 5. Create the Document-Word matrix\n",
    "\n",
    "The LDA topic model algorithm requires a document word matrix as the main input.\n",
    "\n",
    "You can create one using CountVectorizer. \n",
    "\n",
    "We configured the CountVectorizer to consider words that has occurred at least 10 times (min_df), remove built-in portuguese stopwords, convert all words to lowercase, and a word can contain numbers and alphabets of at least length 2 in order to be qualified as a word.\n",
    "\n",
    "So, to create the doc-word matrix, you need to first initialise the CountVectorizer class with the required configuration and then apply fit_transform to actually create the matrix.\n",
    "\n",
    "Since most cells contain zeros, the result will be in the form of a sparse matrix to save memory.\n",
    "\n",
    "If you want to materialize it in a 2D array format, call the todense() method of the sparse matrix like its done in the next step."
   ]
  },
  {
   "cell_type": "code",
   "execution_count": 87,
   "metadata": {},
   "outputs": [
    {
     "name": "stderr",
     "output_type": "stream",
     "text": [
      "C:\\Users\\Xinda\\AppData\\Local\\Programs\\Python\\Python39\\lib\\site-packages\\ipykernel\\ipkernel.py:283: DeprecationWarning: `should_run_async` will not call `transform_cell` automatically in the future. Please pass the result to `transformed_cell` argument and any exception that happen during thetransform in `preprocessing_exc_tuple` in IPython 7.17 and above.\n",
      "  and should_run_async(code)\n"
     ]
    }
   ],
   "source": [
    "vectorizer = CountVectorizer(\n",
    "    analyzer=\"word\",\n",
    "    min_df=10,  # minimum reqd occurences of a word\n",
    "    #  stop_words='portuguese',             # remove stop words\n",
    "    lowercase=True,  # convert all words to lowercase\n",
    "    token_pattern=\"[a-zA-Z0-9]{2,}\",  # num chars > 2\n",
    "    # max_features=50000,             # max number of uniq words\n",
    ")\n",
    "data_vectorized = vectorizer.fit_transform(data_no_stopwords)"
   ]
  },
  {
   "cell_type": "markdown",
   "metadata": {},
   "source": [
    "# 6. Check Sparsicity\n",
    "\n",
    "Sparsicity is nothing but the percentage of non-zero datapoints in the document-word matrix, that is data_vectorized.\n",
    "\n",
    "Since most cells in this matrix will be zero, we are interested in knowing what percentage of cells contain non-zero values."
   ]
  },
  {
   "cell_type": "code",
   "execution_count": 88,
   "metadata": {},
   "outputs": [
    {
     "name": "stdout",
     "output_type": "stream",
     "text": [
      "Sparsicity: 3.4748787290549727 %\n"
     ]
    },
    {
     "name": "stderr",
     "output_type": "stream",
     "text": [
      "C:\\Users\\Xinda\\AppData\\Local\\Programs\\Python\\Python39\\lib\\site-packages\\ipykernel\\ipkernel.py:283: DeprecationWarning: `should_run_async` will not call `transform_cell` automatically in the future. Please pass the result to `transformed_cell` argument and any exception that happen during thetransform in `preprocessing_exc_tuple` in IPython 7.17 and above.\n",
      "  and should_run_async(code)\n"
     ]
    }
   ],
   "source": [
    "# Materialize the sparse data\n",
    "data_dense = data_vectorized.todense()\n",
    "\n",
    "# Compute Sparsicity = Percentage of Non-Zero cells\n",
    "print(f\"Sparsicity: {((data_dense > 0).sum()/data_dense.size)*100} %\")"
   ]
  },
  {
   "cell_type": "markdown",
   "metadata": {},
   "source": [
    "# 7. Build LDA model with sklearn\n",
    "\n",
    "Everything is ready to build a Latent Dirichlet Allocation (LDA) model. Let’s initialise one and call fit_transform() to build the LDA model.\n",
    "\n",
    "For this example, we have set the n_components based on prior knowledge about the dataset. Later we will find the optimal number using grid search."
   ]
  },
  {
   "cell_type": "code",
   "execution_count": 89,
   "metadata": {},
   "outputs": [
    {
     "name": "stderr",
     "output_type": "stream",
     "text": [
      "C:\\Users\\Xinda\\AppData\\Local\\Programs\\Python\\Python39\\lib\\site-packages\\ipykernel\\ipkernel.py:283: DeprecationWarning: `should_run_async` will not call `transform_cell` automatically in the future. Please pass the result to `transformed_cell` argument and any exception that happen during thetransform in `preprocessing_exc_tuple` in IPython 7.17 and above.\n",
      "  and should_run_async(code)\n"
     ]
    },
    {
     "data": {
      "text/plain": [
       "LatentDirichletAllocation(learning_method='online', n_components=5,\n",
       "                          random_state=100)"
      ]
     },
     "execution_count": 89,
     "metadata": {},
     "output_type": "execute_result"
    }
   ],
   "source": [
    "# Build LDA Model\n",
    "lda_model = LatentDirichletAllocation(\n",
    "    n_components=5,  # Number of topics\n",
    "    max_iter=10,  # Max learning iterations\n",
    "    learning_method=\"online\",\n",
    "    random_state=100,  # Random state\n",
    "    batch_size=128,  # n docs in each learning iter\n",
    "    evaluate_every=-1,  # compute perplexity every n iters, default: Don't\n",
    "    n_jobs=None,  # Use all available CPUs\n",
    ")\n",
    "lda_output = lda_model.fit_transform(data_vectorized)\n",
    "\n",
    "lda_model  # Model attributes"
   ]
  },
  {
   "cell_type": "markdown",
   "metadata": {},
   "source": [
    "# 8. Diagnose model performance with perplexity and log-likelihood\n",
    "\n",
    "A model with higher log-likelihood and lower perplexity (exp(-1. * log-likelihood per word)) is considered to be good. Let’s check for our model."
   ]
  },
  {
   "cell_type": "code",
   "execution_count": 90,
   "metadata": {},
   "outputs": [
    {
     "name": "stderr",
     "output_type": "stream",
     "text": [
      "C:\\Users\\Xinda\\AppData\\Local\\Programs\\Python\\Python39\\lib\\site-packages\\ipykernel\\ipkernel.py:283: DeprecationWarning: `should_run_async` will not call `transform_cell` automatically in the future. Please pass the result to `transformed_cell` argument and any exception that happen during thetransform in `preprocessing_exc_tuple` in IPython 7.17 and above.\n",
      "  and should_run_async(code)\n"
     ]
    },
    {
     "name": "stdout",
     "output_type": "stream",
     "text": [
      "Log Likelihood:  -2980283.447532351\n",
      "Perplexity:  1459.602384458317\n",
      "{'batch_size': 128,\n",
      " 'doc_topic_prior': None,\n",
      " 'evaluate_every': -1,\n",
      " 'learning_decay': 0.7,\n",
      " 'learning_method': 'online',\n",
      " 'learning_offset': 10.0,\n",
      " 'max_doc_update_iter': 100,\n",
      " 'max_iter': 10,\n",
      " 'mean_change_tol': 0.001,\n",
      " 'n_components': 5,\n",
      " 'n_jobs': None,\n",
      " 'perp_tol': 0.1,\n",
      " 'random_state': 100,\n",
      " 'topic_word_prior': None,\n",
      " 'total_samples': 1000000.0,\n",
      " 'verbose': 0}\n"
     ]
    }
   ],
   "source": [
    "# Log Likelyhood: Higher the better\n",
    "print(\"Log Likelihood: \", lda_model.score(data_vectorized))\n",
    "\n",
    "# Perplexity: Lower the better. Perplexity = exp(-1. * log-likelihood per word)\n",
    "print(\"Perplexity: \", lda_model.perplexity(data_vectorized))\n",
    "\n",
    "# See model parameters\n",
    "pprint(lda_model.get_params())"
   ]
  },
  {
   "cell_type": "markdown",
   "metadata": {},
   "source": [
    "# 9. How to GridSearch the best LDA model?\n",
    "\n",
    "The most important tuning parameter for LDA models is n_components (number of topics). In addition, we are going to search learning_decay (which controls the learning rate) as well.\n",
    "\n",
    "Besides these, other possible search params could be learning_offset (downweigh early iterations. Should be > 1) and max_iter. These could be worth experimenting if you have enough computing resources.\n",
    "\n",
    "Be warned, the grid search constructs multiple LDA models for all possible combinations of param values in the param_grid dict. So, this process can consume a lot of time and resources."
   ]
  },
  {
   "cell_type": "code",
   "execution_count": 91,
   "metadata": {},
   "outputs": [
    {
     "name": "stderr",
     "output_type": "stream",
     "text": [
      "C:\\Users\\Xinda\\AppData\\Local\\Programs\\Python\\Python39\\lib\\site-packages\\ipykernel\\ipkernel.py:283: DeprecationWarning: `should_run_async` will not call `transform_cell` automatically in the future. Please pass the result to `transformed_cell` argument and any exception that happen during thetransform in `preprocessing_exc_tuple` in IPython 7.17 and above.\n",
      "  and should_run_async(code)\n"
     ]
    }
   ],
   "source": [
    "_filename_model = \"model_lda_4.obj\"\n",
    "import pickle, os\n",
    "\n",
    "\n",
    "def load_model():\n",
    "    if os.path.exists(_filename_model):\n",
    "        with open(_filename_model, \"rb\") as f:\n",
    "            return pickle.load(f)\n",
    "    return None\n",
    "\n",
    "\n",
    "def save_model(model):\n",
    "    with open(_filename_model, \"wb\") as f:\n",
    "        pickle.dump(model, f)"
   ]
  },
  {
   "cell_type": "code",
   "execution_count": 92,
   "metadata": {},
   "outputs": [
    {
     "name": "stderr",
     "output_type": "stream",
     "text": [
      "C:\\Users\\Xinda\\AppData\\Local\\Programs\\Python\\Python39\\lib\\site-packages\\ipykernel\\ipkernel.py:283: DeprecationWarning: `should_run_async` will not call `transform_cell` automatically in the future. Please pass the result to `transformed_cell` argument and any exception that happen during thetransform in `preprocessing_exc_tuple` in IPython 7.17 and above.\n",
      "  and should_run_async(code)\n"
     ]
    }
   ],
   "source": [
    "# Define Search Param\n",
    "search_params = {\n",
    "    \"n_components\": [4],\n",
    "    \"learning_decay\": [0.5],\n",
    "    \"learning_method\": [\"online\"],\n",
    "}\n",
    "\n",
    "# Init the Model\n",
    "lda = LatentDirichletAllocation()\n",
    "\n",
    "_model = load_model()\n",
    "if _model is None:\n",
    "    # Init Grid Search Class\n",
    "    _model = GridSearchCV(lda, param_grid=search_params)\n",
    "    # Do the Grid Search\n",
    "    _model.fit(data_vectorized)\n",
    "    save_model(_model)"
   ]
  },
  {
   "cell_type": "code",
   "execution_count": 93,
   "metadata": {},
   "outputs": [
    {
     "name": "stdout",
     "output_type": "stream",
     "text": [
      "GridSearchCV(estimator=LatentDirichletAllocation(),\n",
      "             param_grid={'learning_decay': [0.5], 'learning_method': ['online'],\n",
      "                         'n_components': [4]})\n"
     ]
    },
    {
     "name": "stderr",
     "output_type": "stream",
     "text": [
      "C:\\Users\\Xinda\\AppData\\Local\\Programs\\Python\\Python39\\lib\\site-packages\\ipykernel\\ipkernel.py:283: DeprecationWarning: `should_run_async` will not call `transform_cell` automatically in the future. Please pass the result to `transformed_cell` argument and any exception that happen during thetransform in `preprocessing_exc_tuple` in IPython 7.17 and above.\n",
      "  and should_run_async(code)\n"
     ]
    }
   ],
   "source": [
    "model = load_model()\n",
    "print(model)"
   ]
  },
  {
   "cell_type": "markdown",
   "metadata": {},
   "source": [
    "# 10. How to see the best topic model and its parameters?"
   ]
  },
  {
   "cell_type": "code",
   "execution_count": 94,
   "metadata": {},
   "outputs": [
    {
     "name": "stdout",
     "output_type": "stream",
     "text": [
      "Best Model's Params:  {'learning_decay': 0.5, 'learning_method': 'online', 'n_components': 4}\n",
      "Best Log Likelihood Score:  -624739.5108893393\n"
     ]
    },
    {
     "name": "stderr",
     "output_type": "stream",
     "text": [
      "C:\\Users\\Xinda\\AppData\\Local\\Programs\\Python\\Python39\\lib\\site-packages\\ipykernel\\ipkernel.py:283: DeprecationWarning: `should_run_async` will not call `transform_cell` automatically in the future. Please pass the result to `transformed_cell` argument and any exception that happen during thetransform in `preprocessing_exc_tuple` in IPython 7.17 and above.\n",
      "  and should_run_async(code)\n"
     ]
    },
    {
     "name": "stdout",
     "output_type": "stream",
     "text": [
      "Model Perplexity:  1505.529390001227\n"
     ]
    }
   ],
   "source": [
    "# Best Model\n",
    "best_lda_model = model.best_estimator_\n",
    "\n",
    "# Model Parameters\n",
    "print(\"Best Model's Params: \", model.best_params_)\n",
    "\n",
    "# Log Likelihood Score\n",
    "print(\"Best Log Likelihood Score: \", model.best_score_)\n",
    "\n",
    "# Perplexity\n",
    "print(\"Model Perplexity: \", best_lda_model.perplexity(data_vectorized))"
   ]
  },
  {
   "cell_type": "markdown",
   "metadata": {},
   "source": [
    "# 11. Compare LDA Model Performance Scores"
   ]
  },
  {
   "cell_type": "code",
   "execution_count": 95,
   "metadata": {},
   "outputs": [
    {
     "name": "stderr",
     "output_type": "stream",
     "text": [
      "C:\\Users\\Xinda\\AppData\\Local\\Programs\\Python\\Python39\\lib\\site-packages\\ipykernel\\ipkernel.py:283: DeprecationWarning: `should_run_async` will not call `transform_cell` automatically in the future. Please pass the result to `transformed_cell` argument and any exception that happen during thetransform in `preprocessing_exc_tuple` in IPython 7.17 and above.\n",
      "  and should_run_async(code)\n"
     ]
    },
    {
     "data": {
      "text/plain": [
       "dict_keys(['mean_fit_time', 'std_fit_time', 'mean_score_time', 'std_score_time', 'param_learning_decay', 'param_learning_method', 'param_n_components', 'params', 'split0_test_score', 'split1_test_score', 'split2_test_score', 'split3_test_score', 'split4_test_score', 'mean_test_score', 'std_test_score', 'rank_test_score'])"
      ]
     },
     "execution_count": 95,
     "metadata": {},
     "output_type": "execute_result"
    }
   ],
   "source": [
    "model.cv_results_.keys()"
   ]
  },
  {
   "cell_type": "markdown",
   "metadata": {},
   "source": [
    "# Get Log Likelyhoods from Grid Search Output\n",
    "n_topics = [3, 5, 7]\n",
    "log_likelyhoods_5 = [\n",
    "    round(model.cv_results_[\"mean_test_score\"][i])\n",
    "    for i, learning_decay in enumerate(model.cv_results_[\"param_learning_decay\"])\n",
    "    if learning_decay == 0.5\n",
    "]\n",
    "log_likelyhoods_7 = [\n",
    "    round(model.cv_results_[\"mean_test_score\"][i])\n",
    "    for i, learning_decay in enumerate(model.cv_results_[\"param_learning_decay\"])\n",
    "    if learning_decay == 0.7\n",
    "]\n",
    "log_likelyhoods_9 = [\n",
    "    round(model.cv_results_[\"mean_test_score\"][i])\n",
    "    for i, learning_decay in enumerate(model.cv_results_[\"param_learning_decay\"])\n",
    "    if learning_decay == 0.9\n",
    "]\n",
    "\n",
    "# Show graph\n",
    "plt.figure(figsize=(12, 8))\n",
    "plt.plot(n_topics, log_likelyhoods_5, label=\"0.5\")\n",
    "plt.plot(n_topics, log_likelyhoods_7, label=\"0.7\")\n",
    "plt.plot(n_topics, log_likelyhoods_9, label=\"0.9\")\n",
    "plt.title(\"Choosing Optimal LDA Model\")\n",
    "plt.xlabel(\"Num Topics\")\n",
    "plt.ylabel(\"Log Likelyhood Scores\")\n",
    "plt.legend(title=\"Learning decay\", loc=\"best\")\n",
    "plt.show()"
   ]
  },
  {
   "cell_type": "markdown",
   "metadata": {},
   "source": [
    "# 12. How to see the dominant topic in each document?\n",
    "\n",
    "To classify a document as belonging to a particular topic, a logical approach is to see which topic has the highest contribution to that document and assign it.\n",
    "\n",
    "In the table below, we’ve greened out all major topics in a document and assigned the most dominant topic in its own column."
   ]
  },
  {
   "cell_type": "code",
   "execution_count": 96,
   "metadata": {},
   "outputs": [
    {
     "name": "stderr",
     "output_type": "stream",
     "text": [
      "C:\\Users\\Xinda\\AppData\\Local\\Programs\\Python\\Python39\\lib\\site-packages\\ipykernel\\ipkernel.py:283: DeprecationWarning: `should_run_async` will not call `transform_cell` automatically in the future. Please pass the result to `transformed_cell` argument and any exception that happen during thetransform in `preprocessing_exc_tuple` in IPython 7.17 and above.\n",
      "  and should_run_async(code)\n"
     ]
    },
    {
     "data": {
      "text/html": [
       "<style  type=\"text/css\" >\n",
       "#T_e7745_row0_col0,#T_e7745_row0_col2,#T_e7745_row1_col2,#T_e7745_row1_col4,#T_e7745_row2_col1,#T_e7745_row2_col2,#T_e7745_row2_col3,#T_e7745_row2_col4,#T_e7745_row3_col0,#T_e7745_row3_col1,#T_e7745_row3_col2,#T_e7745_row3_col3,#T_e7745_row3_col4,#T_e7745_row4_col2,#T_e7745_row4_col4,#T_e7745_row5_col0,#T_e7745_row5_col1,#T_e7745_row5_col2,#T_e7745_row5_col4,#T_e7745_row6_col1,#T_e7745_row6_col2,#T_e7745_row6_col4,#T_e7745_row7_col1,#T_e7745_row7_col2,#T_e7745_row7_col4,#T_e7745_row8_col1,#T_e7745_row8_col2,#T_e7745_row8_col4,#T_e7745_row9_col1,#T_e7745_row9_col3,#T_e7745_row9_col4,#T_e7745_row10_col1,#T_e7745_row10_col3,#T_e7745_row10_col4,#T_e7745_row11_col1,#T_e7745_row11_col2,#T_e7745_row11_col4,#T_e7745_row12_col1,#T_e7745_row12_col2,#T_e7745_row12_col3,#T_e7745_row12_col4,#T_e7745_row13_col2,#T_e7745_row13_col3,#T_e7745_row13_col4,#T_e7745_row14_col0,#T_e7745_row14_col1,#T_e7745_row14_col2,#T_e7745_row14_col4{\n",
       "            color:  green;\n",
       "            font-weight:  700;\n",
       "        }#T_e7745_row0_col1,#T_e7745_row0_col3,#T_e7745_row0_col4,#T_e7745_row1_col0,#T_e7745_row1_col1,#T_e7745_row1_col3,#T_e7745_row2_col0,#T_e7745_row4_col0,#T_e7745_row4_col1,#T_e7745_row4_col3,#T_e7745_row5_col3,#T_e7745_row6_col0,#T_e7745_row6_col3,#T_e7745_row7_col0,#T_e7745_row7_col3,#T_e7745_row8_col0,#T_e7745_row8_col3,#T_e7745_row9_col0,#T_e7745_row9_col2,#T_e7745_row10_col0,#T_e7745_row10_col2,#T_e7745_row11_col0,#T_e7745_row11_col3,#T_e7745_row12_col0,#T_e7745_row13_col0,#T_e7745_row13_col1,#T_e7745_row14_col3{\n",
       "            color:  black;\n",
       "            font-weight:  400;\n",
       "        }</style><table id=\"T_e7745_\" ><thead>    <tr>        <th class=\"blank level0\" ></th>        <th class=\"col_heading level0 col0\" >Topic 0</th>        <th class=\"col_heading level0 col1\" >Topic 1</th>        <th class=\"col_heading level0 col2\" >Topic 2</th>        <th class=\"col_heading level0 col3\" >Topic 3</th>        <th class=\"col_heading level0 col4\" >dominant_topic</th>    </tr></thead><tbody>\n",
       "                <tr>\n",
       "                        <th id=\"T_e7745_level0_row0\" class=\"row_heading level0 row0\" >Doc 0</th>\n",
       "                        <td id=\"T_e7745_row0_col0\" class=\"data row0 col0\" >0.670000</td>\n",
       "                        <td id=\"T_e7745_row0_col1\" class=\"data row0 col1\" >0.010000</td>\n",
       "                        <td id=\"T_e7745_row0_col2\" class=\"data row0 col2\" >0.320000</td>\n",
       "                        <td id=\"T_e7745_row0_col3\" class=\"data row0 col3\" >0.010000</td>\n",
       "                        <td id=\"T_e7745_row0_col4\" class=\"data row0 col4\" >0</td>\n",
       "            </tr>\n",
       "            <tr>\n",
       "                        <th id=\"T_e7745_level0_row1\" class=\"row_heading level0 row1\" >Doc 1</th>\n",
       "                        <td id=\"T_e7745_row1_col0\" class=\"data row1 col0\" >0.000000</td>\n",
       "                        <td id=\"T_e7745_row1_col1\" class=\"data row1 col1\" >0.040000</td>\n",
       "                        <td id=\"T_e7745_row1_col2\" class=\"data row1 col2\" >0.960000</td>\n",
       "                        <td id=\"T_e7745_row1_col3\" class=\"data row1 col3\" >0.000000</td>\n",
       "                        <td id=\"T_e7745_row1_col4\" class=\"data row1 col4\" >2</td>\n",
       "            </tr>\n",
       "            <tr>\n",
       "                        <th id=\"T_e7745_level0_row2\" class=\"row_heading level0 row2\" >Doc 2</th>\n",
       "                        <td id=\"T_e7745_row2_col0\" class=\"data row2 col0\" >0.030000</td>\n",
       "                        <td id=\"T_e7745_row2_col1\" class=\"data row2 col1\" >0.160000</td>\n",
       "                        <td id=\"T_e7745_row2_col2\" class=\"data row2 col2\" >0.170000</td>\n",
       "                        <td id=\"T_e7745_row2_col3\" class=\"data row2 col3\" >0.640000</td>\n",
       "                        <td id=\"T_e7745_row2_col4\" class=\"data row2 col4\" >3</td>\n",
       "            </tr>\n",
       "            <tr>\n",
       "                        <th id=\"T_e7745_level0_row3\" class=\"row_heading level0 row3\" >Doc 3</th>\n",
       "                        <td id=\"T_e7745_row3_col0\" class=\"data row3 col0\" >0.180000</td>\n",
       "                        <td id=\"T_e7745_row3_col1\" class=\"data row3 col1\" >0.120000</td>\n",
       "                        <td id=\"T_e7745_row3_col2\" class=\"data row3 col2\" >0.270000</td>\n",
       "                        <td id=\"T_e7745_row3_col3\" class=\"data row3 col3\" >0.430000</td>\n",
       "                        <td id=\"T_e7745_row3_col4\" class=\"data row3 col4\" >3</td>\n",
       "            </tr>\n",
       "            <tr>\n",
       "                        <th id=\"T_e7745_level0_row4\" class=\"row_heading level0 row4\" >Doc 4</th>\n",
       "                        <td id=\"T_e7745_row4_col0\" class=\"data row4 col0\" >0.010000</td>\n",
       "                        <td id=\"T_e7745_row4_col1\" class=\"data row4 col1\" >0.010000</td>\n",
       "                        <td id=\"T_e7745_row4_col2\" class=\"data row4 col2\" >0.940000</td>\n",
       "                        <td id=\"T_e7745_row4_col3\" class=\"data row4 col3\" >0.050000</td>\n",
       "                        <td id=\"T_e7745_row4_col4\" class=\"data row4 col4\" >2</td>\n",
       "            </tr>\n",
       "            <tr>\n",
       "                        <th id=\"T_e7745_level0_row5\" class=\"row_heading level0 row5\" >Doc 5</th>\n",
       "                        <td id=\"T_e7745_row5_col0\" class=\"data row5 col0\" >0.380000</td>\n",
       "                        <td id=\"T_e7745_row5_col1\" class=\"data row5 col1\" >0.220000</td>\n",
       "                        <td id=\"T_e7745_row5_col2\" class=\"data row5 col2\" >0.390000</td>\n",
       "                        <td id=\"T_e7745_row5_col3\" class=\"data row5 col3\" >0.000000</td>\n",
       "                        <td id=\"T_e7745_row5_col4\" class=\"data row5 col4\" >2</td>\n",
       "            </tr>\n",
       "            <tr>\n",
       "                        <th id=\"T_e7745_level0_row6\" class=\"row_heading level0 row6\" >Doc 6</th>\n",
       "                        <td id=\"T_e7745_row6_col0\" class=\"data row6 col0\" >0.020000</td>\n",
       "                        <td id=\"T_e7745_row6_col1\" class=\"data row6 col1\" >0.430000</td>\n",
       "                        <td id=\"T_e7745_row6_col2\" class=\"data row6 col2\" >0.530000</td>\n",
       "                        <td id=\"T_e7745_row6_col3\" class=\"data row6 col3\" >0.020000</td>\n",
       "                        <td id=\"T_e7745_row6_col4\" class=\"data row6 col4\" >2</td>\n",
       "            </tr>\n",
       "            <tr>\n",
       "                        <th id=\"T_e7745_level0_row7\" class=\"row_heading level0 row7\" >Doc 7</th>\n",
       "                        <td id=\"T_e7745_row7_col0\" class=\"data row7 col0\" >0.100000</td>\n",
       "                        <td id=\"T_e7745_row7_col1\" class=\"data row7 col1\" >0.790000</td>\n",
       "                        <td id=\"T_e7745_row7_col2\" class=\"data row7 col2\" >0.110000</td>\n",
       "                        <td id=\"T_e7745_row7_col3\" class=\"data row7 col3\" >0.000000</td>\n",
       "                        <td id=\"T_e7745_row7_col4\" class=\"data row7 col4\" >1</td>\n",
       "            </tr>\n",
       "            <tr>\n",
       "                        <th id=\"T_e7745_level0_row8\" class=\"row_heading level0 row8\" >Doc 8</th>\n",
       "                        <td id=\"T_e7745_row8_col0\" class=\"data row8 col0\" >0.040000</td>\n",
       "                        <td id=\"T_e7745_row8_col1\" class=\"data row8 col1\" >0.440000</td>\n",
       "                        <td id=\"T_e7745_row8_col2\" class=\"data row8 col2\" >0.510000</td>\n",
       "                        <td id=\"T_e7745_row8_col3\" class=\"data row8 col3\" >0.000000</td>\n",
       "                        <td id=\"T_e7745_row8_col4\" class=\"data row8 col4\" >2</td>\n",
       "            </tr>\n",
       "            <tr>\n",
       "                        <th id=\"T_e7745_level0_row9\" class=\"row_heading level0 row9\" >Doc 9</th>\n",
       "                        <td id=\"T_e7745_row9_col0\" class=\"data row9 col0\" >0.000000</td>\n",
       "                        <td id=\"T_e7745_row9_col1\" class=\"data row9 col1\" >0.190000</td>\n",
       "                        <td id=\"T_e7745_row9_col2\" class=\"data row9 col2\" >0.000000</td>\n",
       "                        <td id=\"T_e7745_row9_col3\" class=\"data row9 col3\" >0.810000</td>\n",
       "                        <td id=\"T_e7745_row9_col4\" class=\"data row9 col4\" >3</td>\n",
       "            </tr>\n",
       "            <tr>\n",
       "                        <th id=\"T_e7745_level0_row10\" class=\"row_heading level0 row10\" >Doc 10</th>\n",
       "                        <td id=\"T_e7745_row10_col0\" class=\"data row10 col0\" >0.010000</td>\n",
       "                        <td id=\"T_e7745_row10_col1\" class=\"data row10 col1\" >0.810000</td>\n",
       "                        <td id=\"T_e7745_row10_col2\" class=\"data row10 col2\" >0.010000</td>\n",
       "                        <td id=\"T_e7745_row10_col3\" class=\"data row10 col3\" >0.170000</td>\n",
       "                        <td id=\"T_e7745_row10_col4\" class=\"data row10 col4\" >1</td>\n",
       "            </tr>\n",
       "            <tr>\n",
       "                        <th id=\"T_e7745_level0_row11\" class=\"row_heading level0 row11\" >Doc 11</th>\n",
       "                        <td id=\"T_e7745_row11_col0\" class=\"data row11 col0\" >0.000000</td>\n",
       "                        <td id=\"T_e7745_row11_col1\" class=\"data row11 col1\" >0.720000</td>\n",
       "                        <td id=\"T_e7745_row11_col2\" class=\"data row11 col2\" >0.270000</td>\n",
       "                        <td id=\"T_e7745_row11_col3\" class=\"data row11 col3\" >0.000000</td>\n",
       "                        <td id=\"T_e7745_row11_col4\" class=\"data row11 col4\" >1</td>\n",
       "            </tr>\n",
       "            <tr>\n",
       "                        <th id=\"T_e7745_level0_row12\" class=\"row_heading level0 row12\" >Doc 12</th>\n",
       "                        <td id=\"T_e7745_row12_col0\" class=\"data row12 col0\" >0.010000</td>\n",
       "                        <td id=\"T_e7745_row12_col1\" class=\"data row12 col1\" >0.430000</td>\n",
       "                        <td id=\"T_e7745_row12_col2\" class=\"data row12 col2\" >0.440000</td>\n",
       "                        <td id=\"T_e7745_row12_col3\" class=\"data row12 col3\" >0.120000</td>\n",
       "                        <td id=\"T_e7745_row12_col4\" class=\"data row12 col4\" >2</td>\n",
       "            </tr>\n",
       "            <tr>\n",
       "                        <th id=\"T_e7745_level0_row13\" class=\"row_heading level0 row13\" >Doc 13</th>\n",
       "                        <td id=\"T_e7745_row13_col0\" class=\"data row13 col0\" >0.000000</td>\n",
       "                        <td id=\"T_e7745_row13_col1\" class=\"data row13 col1\" >0.000000</td>\n",
       "                        <td id=\"T_e7745_row13_col2\" class=\"data row13 col2\" >0.820000</td>\n",
       "                        <td id=\"T_e7745_row13_col3\" class=\"data row13 col3\" >0.170000</td>\n",
       "                        <td id=\"T_e7745_row13_col4\" class=\"data row13 col4\" >2</td>\n",
       "            </tr>\n",
       "            <tr>\n",
       "                        <th id=\"T_e7745_level0_row14\" class=\"row_heading level0 row14\" >Doc 14</th>\n",
       "                        <td id=\"T_e7745_row14_col0\" class=\"data row14 col0\" >0.270000</td>\n",
       "                        <td id=\"T_e7745_row14_col1\" class=\"data row14 col1\" >0.530000</td>\n",
       "                        <td id=\"T_e7745_row14_col2\" class=\"data row14 col2\" >0.200000</td>\n",
       "                        <td id=\"T_e7745_row14_col3\" class=\"data row14 col3\" >0.010000</td>\n",
       "                        <td id=\"T_e7745_row14_col4\" class=\"data row14 col4\" >1</td>\n",
       "            </tr>\n",
       "    </tbody></table>"
      ],
      "text/plain": [
       "<pandas.io.formats.style.Styler at 0x24ded30d2e0>"
      ]
     },
     "execution_count": 96,
     "metadata": {},
     "output_type": "execute_result"
    }
   ],
   "source": [
    "# Create Document - Topic Matrix\n",
    "lda_output = best_lda_model.transform(data_vectorized)\n",
    "\n",
    "# column names\n",
    "topicnames = [f\"Topic {i}\" for i in range(best_lda_model.n_components)]\n",
    "\n",
    "# index names\n",
    "docnames = [f\"Doc {i}\" for i in range(len(all_documents))]\n",
    "\n",
    "# Make the pandas dataframe\n",
    "df_document_topic = pd.DataFrame(\n",
    "    np.round(lda_output, 2), columns=topicnames, index=docnames\n",
    ")\n",
    "\n",
    "# Get dominant topic for each document\n",
    "dominant_topic = np.argmax(df_document_topic.values, axis=1)\n",
    "df_document_topic[\"dominant_topic\"] = dominant_topic\n",
    "\n",
    "# Styling\n",
    "def color_green(val):\n",
    "    color = \"green\" if val > 0.1 else \"black\"\n",
    "    return \"color: {col}\".format(col=color)\n",
    "\n",
    "\n",
    "def make_bold(val):\n",
    "    weight = 700 if val > 0.1 else 400\n",
    "    return \"font-weight: {weight}\".format(weight=weight)\n",
    "\n",
    "\n",
    "# Apply Style\n",
    "df_document_topics = (\n",
    "    df_document_topic.head(15).style.applymap(color_green).applymap(make_bold)\n",
    ")\n",
    "df_document_topics"
   ]
  },
  {
   "cell_type": "markdown",
   "metadata": {},
   "source": [
    "# 13. Review topics distribution across documents"
   ]
  },
  {
   "cell_type": "code",
   "execution_count": 97,
   "metadata": {},
   "outputs": [
    {
     "name": "stderr",
     "output_type": "stream",
     "text": [
      "C:\\Users\\Xinda\\AppData\\Local\\Programs\\Python\\Python39\\lib\\site-packages\\ipykernel\\ipkernel.py:283: DeprecationWarning: `should_run_async` will not call `transform_cell` automatically in the future. Please pass the result to `transformed_cell` argument and any exception that happen during thetransform in `preprocessing_exc_tuple` in IPython 7.17 and above.\n",
      "  and should_run_async(code)\n"
     ]
    },
    {
     "data": {
      "text/html": [
       "<div>\n",
       "<style scoped>\n",
       "    .dataframe tbody tr th:only-of-type {\n",
       "        vertical-align: middle;\n",
       "    }\n",
       "\n",
       "    .dataframe tbody tr th {\n",
       "        vertical-align: top;\n",
       "    }\n",
       "\n",
       "    .dataframe thead th {\n",
       "        text-align: right;\n",
       "    }\n",
       "</style>\n",
       "<table border=\"1\" class=\"dataframe\">\n",
       "  <thead>\n",
       "    <tr style=\"text-align: right;\">\n",
       "      <th></th>\n",
       "      <th>Topic Num</th>\n",
       "      <th>Num Documents</th>\n",
       "    </tr>\n",
       "  </thead>\n",
       "  <tbody>\n",
       "    <tr>\n",
       "      <th>0</th>\n",
       "      <td>3</td>\n",
       "      <td>508</td>\n",
       "    </tr>\n",
       "    <tr>\n",
       "      <th>1</th>\n",
       "      <td>2</td>\n",
       "      <td>455</td>\n",
       "    </tr>\n",
       "    <tr>\n",
       "      <th>2</th>\n",
       "      <td>1</td>\n",
       "      <td>384</td>\n",
       "    </tr>\n",
       "    <tr>\n",
       "      <th>3</th>\n",
       "      <td>0</td>\n",
       "      <td>371</td>\n",
       "    </tr>\n",
       "  </tbody>\n",
       "</table>\n",
       "</div>"
      ],
      "text/plain": [
       "   Topic Num  Num Documents\n",
       "0          3            508\n",
       "1          2            455\n",
       "2          1            384\n",
       "3          0            371"
      ]
     },
     "execution_count": 97,
     "metadata": {},
     "output_type": "execute_result"
    }
   ],
   "source": [
    "df_topic_distribution = (\n",
    "    df_document_topic[\"dominant_topic\"].value_counts().reset_index(name=\"Num Documents\")\n",
    ")\n",
    "df_topic_distribution.columns = [\"Topic Num\", \"Num Documents\"]\n",
    "df_topic_distribution"
   ]
  },
  {
   "cell_type": "markdown",
   "metadata": {},
   "source": [
    "# 14. How to visualize the LDA model with pyLDAvis?\n",
    "\n",
    "The pyLDAvis offers the best visualization to view the topics-keywords distribution.\n",
    "\n",
    "A good topic model will have non-overlapping, fairly big sized blobs for each topic."
   ]
  },
  {
   "cell_type": "code",
   "execution_count": 98,
   "metadata": {},
   "outputs": [
    {
     "name": "stderr",
     "output_type": "stream",
     "text": [
      "C:\\Users\\Xinda\\AppData\\Local\\Programs\\Python\\Python39\\lib\\site-packages\\ipykernel\\ipkernel.py:283: DeprecationWarning: `should_run_async` will not call `transform_cell` automatically in the future. Please pass the result to `transformed_cell` argument and any exception that happen during thetransform in `preprocessing_exc_tuple` in IPython 7.17 and above.\n",
      "  and should_run_async(code)\n",
      "C:\\Users\\Xinda\\AppData\\Local\\Programs\\Python\\Python39\\lib\\site-packages\\sklearn\\manifold\\_t_sne.py:691: FutureWarning: 'square_distances' has been introduced in 0.24 to help phase out legacy squaring behavior. The 'legacy' setting will be removed in 1.1 (renaming of 0.26), and the default setting will be changed to True. In 1.3, 'square_distances' will be removed altogether, and distances will be squared by default. Set 'square_distances'=True to silence this warning.\n",
      "  warnings.warn(\n"
     ]
    },
    {
     "data": {
      "text/html": [
       "\n",
       "<link rel=\"stylesheet\" type=\"text/css\" href=\"https://cdn.jsdelivr.net/gh/bmabey/pyLDAvis@3.3.1/pyLDAvis/js/ldavis.v1.0.0.css\">\n",
       "\n",
       "\n",
       "<div id=\"ldavis_el735225335662731208262508692\"></div>\n",
       "<script type=\"text/javascript\">\n",
       "\n",
       "var ldavis_el735225335662731208262508692_data = {\"mdsDat\": {\"x\": [269.5624084472656, 1.782994270324707, 220.81143188476562, 50.533992767333984], \"y\": [-124.80339813232422, -295.0796813964844, -343.8321228027344, -76.05093383789062], \"topics\": [1, 2, 3, 4], \"cluster\": [1, 1, 1, 1], \"Freq\": [31.579292127137098, 27.32697732653752, 22.78374421240877, 18.309986333916616]}, \"tinfo\": {\"Term\": [\"presidente\", \"deputar\", \"temer\", \"camara\", \"odebrecht\", \"propinar\", \"lavar\", \"jato\", \"depoimento\", \"delacao\", \"juiz\", \"senador\", \"ministrar\", \"governar\", \"milhoes\", \"campanha\", \"condenar\", \"policiar\", \"julgamento\", \"senado\", \"pmdb\", \"decisao\", \"defeso\", \"parlamentar\", \"morar\", \"delator\", \"aecio\", \"palocci\", \"federal\", \"pedir\", \"odebrecht\", \"delator\", \"palocci\", \"propinar\", \"empreiteiro\", \"saud\", \"delcidio\", \"indevido\", \"mantega\", \"fachin\", \"repasse\", \"funaro\", \"andrea\", \"miller\", \"cervero\", \"glauco\", \"recibo\", \"homologar\", \"guido\", \"ilicito\", \"depoimento\", \"doleiro\", \"costamarques\", \"joesley\", \"premiar\", \"perrella\", \"imovel\", \"machadar\", \"planilha\", \"delatar\", \"delacao\", \"bndes\", \"sitiar\", \"empresario\", \"janot\", \"doacoes\", \"inqueritos\", \"aecio\", \"caixa\", \"investigador\", \"jbs\", \"delacoes\", \"petrobras\", \"pgr\", \"contrato\", \"milhoes\", \"marcelo\", \"campanha\", \"pagamento\", \"mpf\", \"esquema\", \"dinheiro\", \"apartamento\", \"inquerito\", \"procurador\", \"empresar\", \"pedir\", \"operacao\", \"lavar\", \"jato\", \"advogar\", \"defeso\", \"receber\", \"investigar\", \"afirmar\", \"federal\", \"acordar\", \"presidente\", \"denunciar\", \"ministrar\", \"contar\", \"publicar\", \"senador\", \"temer\", \"bolsonaro\", \"pesquisar\", \"escola\", \"jovem\", \"criancas\", \"crianca\", \"doria\", \"menino\", \"artista\", \"musicar\", \"crescer\", \"sexual\", \"universidade\", \"adolescente\", \"ensinar\", \"jair\", \"negro\", \"consumir\", \"estudante\", \"abortar\", \"bbc\", \"cultural\", \"nascer\", \"amazona\", \"facil\", \"teatro\", \"beber\", \"dor\", \"arte\", \"professorar\", \"ambientar\", \"especialista\", \"educacao\", \"idear\", \"fundacao\", \"programar\", \"saude\", \"violencia\", \"filho\", \"populacao\", \"mulher\", \"gente\", \"problema\", \"mundo\", \"vidar\", \"pensar\", \"pessoa\", \"pai\", \"cidade\", \"brasileiro\", \"viver\", \"social\", \"aguar\", \"candidatar\", \"aumentar\", \"politicar\", \"criar\", \"conseguir\", \"direito\", \"ficar\", \"vir\", \"querer\", \"achar\", \"precisar\", \"passar\", \"contar\", \"publicar\", \"chegar\", \"formar\", \"mostrar\", \"governar\", \"familia\", \"casar\", \"falar\", \"afirmar\", \"grupar\", \"empresar\", \"previdencia\", \"vereador\", \"votacao\", \"servidor\", \"ccj\", \"emendar\", \"dem\", \"pm\", \"aposentadoria\", \"pec\", \"goiania\", \"aeronave\", \"rs\", \"corporacao\", \"pr\", \"marco\", \"osmar\", \"abreu\", \"motorista\", \"serraglio\", \"tiro\", \"andrada\", \"camara\", \"coletivos\", \"torquato\", \"recife\", \"agricultura\", \"hospital\", \"fab\", \"pb\", \"secretariar\", \"bancada\", \"comissao\", \"aprovar\", \"senado\", \"trabalhista\", \"deputar\", \"planalto\", \"parlamentar\", \"eunicio\", \"legislativo\", \"proposto\", \"peemedebista\", \"policiar\", \"reformar\", \"temer\", \"governar\", \"voto\", \"plenario\", \"pmdb\", \"congresso\", \"senador\", \"cargo\", \"psdb\", \"feirar\", \"presidente\", \"informar\", \"apo\", \"federal\", \"casar\", \"votar\", \"projeto\", \"denunciar\", \"semana\", \"passar\", \"publicar\", \"ministrar\", \"justica\", \"ministerio\", \"afirmar\", \"sentenca\", \"sirio\", \"desembargador\", \"coreia\", \"coreano\", \"kim\", \"absolver\", \"diplomata\", \"trf\", \"excelencia\", \"claudia\", \"jong\", \"impunidade\", \"corpus\", \"russia\", \"republicano\", \"pyongyang\", \"reclusao\", \"embaixador\", \"secreto\", \"constituir\", \"deltan\", \"putin\", \"indagar\", \"apelacao\", \"sentencas\", \"barroso\", \"absolvido\", \"dallagnol\", \"peninsula\", \"inocentar\", \"dirceu\", \"condenacao\", \"peno\", \"juizes\", \"julgamento\", \"triplex\", \"instancia\", \"condenar\", \"gilmar\", \"mendes\", \"julgar\", \"carmen\", \"turma\", \"magistrado\", \"judiciario\", \"atacar\", \"juiz\", \"decisao\", \"trump\", \"teori\", \"morar\", \"tribunal\", \"presidente\", \"crime\", \"processar\", \"prisao\", \"ministrar\", \"ministro\", \"corrupcao\", \"jato\", \"lavar\", \"dever\", \"defeso\", \"temer\", \"pedir\", \"pai\", \"afirmar\", \"federal\", \"politicar\", \"publicar\", \"brasileiro\", \"provar\", \"casar\", \"apo\"], \"Freq\": [5416.0, 1887.0, 3038.0, 1137.0, 1203.0, 1032.0, 1650.0, 1638.0, 981.0, 927.0, 913.0, 1346.0, 2176.0, 2170.0, 1199.0, 1060.0, 576.0, 1292.0, 536.0, 666.0, 1035.0, 976.0, 1395.0, 704.0, 848.0, 598.0, 761.0, 572.0, 2543.0, 2213.0, 1203.216106167498, 598.1804378320802, 571.4879331086213, 1031.647758476721, 295.10222755800936, 217.45691190319016, 148.6103665708335, 132.6248007765319, 122.39146539849801, 133.64991806057685, 108.53235960265494, 175.60009909745887, 97.71876904436701, 91.69555538961835, 86.5629277713605, 80.38248912993687, 78.95847478222424, 84.9247696816439, 76.34668192078043, 81.75567574610743, 972.7896535462755, 77.63073176946806, 70.0218552967143, 176.89489516820666, 443.0227314098201, 65.45398390123655, 304.7431868697466, 59.64008664543181, 55.50462700130535, 57.67725083020945, 914.7282920085681, 105.1728343856214, 82.26670840653595, 504.7406899565594, 540.2697800812097, 216.78761120655403, 141.7903617309543, 716.1234642304756, 445.1977482080977, 137.7166336439462, 269.0653876909855, 369.65725783758825, 621.1789752800199, 437.0272627189038, 322.9646802110084, 1053.5058132285992, 255.04146620553436, 929.1813530511492, 642.2269111322599, 452.74061867773946, 326.75238152304144, 1151.2193214844242, 429.2687079111518, 304.03870221772013, 634.7608187276642, 1119.4736775803233, 1417.949377927179, 717.5795065057127, 1097.239899101535, 1081.2346245176805, 734.4558010864605, 907.7664453524752, 861.299050532675, 577.7181157174155, 1327.3956668551893, 1262.2926245033916, 823.9518206997689, 1947.5212502825725, 886.2967210355597, 1015.4872493498758, 716.5910384521933, 772.0999547000498, 652.9154860975007, 596.4686622951044, 222.33283619538975, 230.43392932946404, 233.50577071066914, 206.10230801920198, 179.76872455004494, 154.21246049989054, 144.80272219977863, 129.56606606931422, 119.04373323038037, 119.25681318620008, 117.1093312352512, 106.587561164481, 108.24083874653456, 97.4725281094248, 98.36891242082953, 93.19560204249193, 89.17787867647674, 88.07205672716292, 98.77945354219752, 85.99849000505874, 81.81526014919108, 83.67593996784652, 122.13347803704829, 97.79470383797481, 79.81722101372684, 81.11527165967827, 72.50783354761272, 71.42126319984916, 86.46457437201212, 70.18085911664517, 123.48592119487816, 151.85152155735912, 93.51619670578313, 157.19371972043203, 104.6441292614937, 294.39997776575956, 333.49438493835623, 141.58129634251208, 238.91333524639978, 228.23269725681646, 414.8172183590001, 398.33061639671604, 330.96558797584424, 311.7064673210916, 327.3628717468329, 166.1906552070577, 872.1711655737807, 915.65631518556, 389.90036026974764, 599.6714833763998, 265.57077835909814, 390.13045943910674, 166.7813107687713, 268.3179379984367, 266.4612755894624, 688.3485375795655, 277.29031554123037, 328.60217774822064, 431.0597416947925, 550.5333607829693, 384.3300929104118, 489.20856154970187, 291.30766764725183, 319.6312679757352, 498.9715014732925, 451.7740922140334, 545.1346793435354, 388.41369842319455, 344.660864413467, 299.1488166414969, 458.2946548101351, 292.2602481358507, 378.17489041737264, 322.44353902808297, 387.99213084478293, 302.00962113009666, 303.69112519084405, 207.6728664341163, 180.45088597116785, 319.4509016075744, 175.902893834534, 110.26701247243258, 144.27647020487947, 144.36251057329687, 87.48913824505973, 89.6472712542008, 77.57937926275109, 72.21407669944189, 80.26724010294319, 59.19016826880023, 59.850652722510176, 66.52697002166332, 61.90871979591755, 51.3337591587124, 58.742129596941155, 62.270629657885515, 50.257165298886314, 53.6010526444399, 44.33242175112216, 1121.1990380958102, 48.94888697990151, 40.568346497453724, 47.54715349150032, 39.831402858219555, 195.01178617655043, 33.185043154045246, 33.2841366008856, 213.71715219773048, 162.2723039530791, 221.9231905026005, 476.93525151065563, 611.4008716550014, 107.24543189340672, 1631.0523166724256, 315.5628176066374, 608.196346226747, 108.04875167278145, 194.1668256576976, 392.9325131731276, 149.59550155013054, 884.3330173952663, 435.0491354357427, 1810.8616158519405, 1275.510395503931, 269.67579831587665, 260.6316855330542, 643.6293556164834, 305.35348156675036, 688.5736156637961, 360.49377306048405, 395.42355568995504, 608.0209703892265, 1486.3219964614468, 429.22776188563495, 582.9087247154988, 788.5919642608452, 635.1943428455197, 396.63286999824794, 311.05955822680676, 506.32425991955347, 313.57647407464617, 421.5440717745203, 464.6685325219864, 438.1678022193595, 367.05443146088226, 352.7598477684984, 394.370293862937, 224.97611293401232, 178.32005853340587, 132.86123874160586, 191.38140961650575, 98.72336863570222, 91.5848602394621, 95.33414225970714, 77.49845913464384, 61.30644814573179, 61.774842293506566, 54.44568463366576, 45.62534576561403, 51.6898750189772, 63.14057558042976, 40.23572617530998, 50.036548114154535, 36.07443029993976, 30.988377694202125, 34.33010525649262, 32.11262849400248, 29.81714180221406, 32.32498860218514, 26.10615345893558, 29.230433748993185, 24.680214315894215, 23.438014264004522, 71.3135881071566, 22.107972303968168, 34.43885684420332, 23.171971293149085, 67.03595435505027, 173.65933073659096, 231.08770805669548, 393.7334437058504, 117.41971961779609, 492.2474005884407, 222.7029402579772, 295.81118075418675, 506.155746998825, 303.3709121368852, 359.94781445219246, 224.78164074756543, 70.42758626146629, 155.60120457764938, 164.68604238569876, 165.5556404299452, 186.98692170425568, 600.7414158922769, 623.49839002974, 248.18726847320988, 126.33742074399441, 496.54792833362217, 389.1273604201191, 1962.0270142681402, 545.808999460158, 576.1271197588309, 437.9390184658954, 721.5516823699379, 325.5932917432987, 383.04923046784785, 553.3029721258498, 550.7953195564185, 398.42654969768114, 427.25747640404916, 619.4174655720248, 445.31395682808454, 387.0737621504397, 456.8238543403063, 448.89259541078167, 353.15010873162, 380.36321795019194, 313.5570858924819, 289.2118153621162, 331.2511733176231, 316.68565983976765], \"Total\": [5416.0, 1887.0, 3038.0, 1137.0, 1203.0, 1032.0, 1650.0, 1638.0, 981.0, 927.0, 913.0, 1346.0, 2176.0, 2170.0, 1199.0, 1060.0, 576.0, 1292.0, 536.0, 666.0, 1035.0, 976.0, 1395.0, 704.0, 848.0, 598.0, 761.0, 572.0, 2543.0, 2213.0, 1203.854751347602, 598.8264152996674, 572.1246472617735, 1032.8906240532156, 295.76294810661943, 218.09795486625418, 149.26579257240954, 133.2871740818255, 123.02252225954908, 134.4346739701997, 109.18404578020773, 176.71789190480186, 98.36568314962837, 92.34636055686305, 87.19584888844008, 81.01154913657194, 79.59396368456994, 85.61270779229332, 76.99200023944567, 82.44920363579291, 981.262992238255, 78.3241523116155, 70.65004974865194, 178.5079445479662, 447.1094634928201, 66.09599825607312, 307.7672642293203, 60.327320756345095, 56.16012254759702, 58.39059464351443, 927.5363094511041, 106.60978660320608, 83.40962441405132, 525.2560935501025, 564.1222915727994, 222.5383627066633, 144.64622222081263, 761.6327124124387, 470.32938627558434, 140.94916143181823, 281.3012669772387, 393.8579729073085, 677.4871091308511, 473.1382750388782, 344.8602907916596, 1199.0945175467054, 269.47594648475996, 1060.4878268234077, 724.5905717880097, 499.1274287105307, 357.295173722568, 1444.9592562520138, 485.299359201566, 336.5512951296432, 800.9762126637303, 1566.7877782485466, 2213.104576019342, 966.8384688959832, 1650.585949843547, 1638.261927516241, 1033.597242844452, 1395.6821071902482, 1310.8894175839841, 761.7469140055891, 2566.5819459032155, 2543.615940803607, 1322.6673522516248, 5416.480924578161, 1527.2823397503548, 2176.819649251287, 1346.1191040057033, 2162.2663845157635, 1346.1589024241218, 3038.1542139442417, 222.9815179671863, 231.12259447353065, 234.21576112566896, 206.78068302709616, 180.4124284598615, 154.85378958336563, 145.4406185890119, 130.25146387684273, 119.68146798976619, 119.89766443583844, 117.76625225836202, 107.23352492119844, 108.92416125990516, 98.1217857159084, 99.02737610532108, 93.84634452846265, 89.82420787204204, 88.71687805284172, 99.52641522612925, 86.66447370717962, 82.4604843935639, 84.34423077676654, 123.10958338064492, 98.61712259866333, 80.49937861498086, 81.81659278165806, 73.15909488469184, 72.06807245554654, 87.2580056552225, 70.8280546071136, 125.07554211437332, 154.13455186592714, 94.56805754518203, 162.0097414527945, 107.1029414524316, 324.13239240881006, 379.63277894725934, 149.59690687111006, 267.14459566457793, 255.05519506477998, 497.793713889358, 486.9037443738936, 406.39324906188546, 386.9440762900946, 419.68292752626513, 186.68845283043004, 1436.8131369633056, 1534.4486626664132, 549.8822737289171, 974.0010887816334, 348.5608262059627, 593.1481851489804, 189.8255036772092, 374.3546179345136, 376.39658050903364, 1524.6497884074352, 409.3747775885152, 550.1094149169611, 859.1086815966881, 1275.1978595648359, 715.394152241194, 1072.4617851364267, 467.3852424957299, 552.5367250970069, 1411.2929133399018, 1346.1191040057033, 2162.2663845157635, 972.1186822026023, 751.3691009584282, 515.8659963453662, 2170.3599504255335, 517.8900165279454, 1745.8283702046235, 911.8636540800953, 2566.5819459032155, 835.2579341412227, 1566.7877782485466, 208.32387983528884, 181.11552107362468, 320.6472768979977, 176.57604033302823, 110.90588701428015, 145.25822070030054, 145.42677270947613, 88.16893813259952, 90.37259727868896, 78.21180615935927, 72.91209405447292, 81.06728845349522, 59.86007797504173, 60.531226361986604, 67.28984717699129, 62.6193614584596, 51.966222376088, 59.508926009858044, 63.088251606809386, 50.95397551493989, 54.352008526466875, 44.96372486106341, 1137.431487865205, 49.67470375881952, 41.25322220143951, 48.36293499959576, 40.565272442612674, 198.77390004967998, 33.836618882852044, 33.93830929370463, 218.51217344897552, 168.401700719171, 233.50138564902707, 511.6806497525683, 666.2452927903861, 111.55968712535466, 1887.6995673063566, 343.0556735879288, 704.9938350765349, 115.44089499547376, 220.80133677224973, 483.22658385990746, 167.03061487517402, 1292.2755860487948, 586.7420639756141, 3038.1542139442417, 2170.3599504255335, 348.4152304567503, 339.40654119499595, 1035.367819649624, 416.5371802285806, 1346.1589024241218, 574.4208906751412, 657.4317039175037, 1258.0616070599197, 5416.480924578161, 789.240991223364, 1324.1106356606115, 2543.615940803607, 1745.8283702046235, 772.4240621253946, 504.2101964345868, 1527.2823397503548, 567.767823560555, 1411.2929133399018, 2162.2663845157635, 2176.819649251287, 1208.2731254075659, 1126.5520385176192, 2566.5819459032155, 225.6090451514175, 178.98791179279146, 133.5068336938577, 192.51943024399242, 99.3751806836594, 92.22206118585187, 96.03285100077247, 78.15182469242968, 61.92242334743604, 62.4219172869912, 55.141220600904774, 46.25223478676693, 52.42105535302223, 64.12220835893218, 40.89027052731095, 50.853961488607396, 36.69936600989716, 31.61189294166205, 35.02388027486258, 32.80802342931354, 30.487845177952465, 33.08957061700276, 26.7335393132563, 29.9506827842042, 25.299164475407476, 24.060744279237092, 73.25824783672665, 22.737992914304098, 35.45453206006173, 23.874503235987845, 69.33676829206831, 181.92091233503925, 244.30959953536268, 423.5625253207955, 123.78577626336158, 536.5583799554789, 242.0178250899592, 326.09784041794643, 576.806718807306, 351.51677322334945, 430.5568110380535, 267.2951264440616, 76.09495372011972, 184.13335701343942, 197.21086949005087, 199.2730255080417, 231.94775560349385, 913.2499055338812, 976.149427903899, 329.9223217647721, 152.30585388273053, 848.9570034178249, 640.4444254184134, 5416.480924578161, 1106.6209461935837, 1254.628331013737, 945.5221034597301, 2176.819649251287, 646.3295807070458, 859.1507226713952, 1638.261927516241, 1650.585949843547, 1067.2214854029266, 1395.6821071902482, 3038.1542139442417, 2213.104576019342, 1534.4486626664132, 2566.5819459032155, 2543.615940803607, 1524.6497884074352, 2162.2663845157635, 974.0010887816334, 722.4382970882709, 1745.8283702046235, 1324.1106356606115], \"Category\": [\"Default\", \"Default\", \"Default\", \"Default\", \"Default\", \"Default\", \"Default\", \"Default\", \"Default\", \"Default\", \"Default\", \"Default\", \"Default\", \"Default\", \"Default\", \"Default\", \"Default\", \"Default\", \"Default\", \"Default\", \"Default\", \"Default\", \"Default\", \"Default\", \"Default\", \"Default\", \"Default\", \"Default\", \"Default\", \"Default\", \"Topic1\", \"Topic1\", \"Topic1\", \"Topic1\", \"Topic1\", \"Topic1\", \"Topic1\", \"Topic1\", \"Topic1\", \"Topic1\", \"Topic1\", \"Topic1\", \"Topic1\", \"Topic1\", \"Topic1\", \"Topic1\", \"Topic1\", \"Topic1\", \"Topic1\", \"Topic1\", \"Topic1\", \"Topic1\", \"Topic1\", \"Topic1\", \"Topic1\", \"Topic1\", \"Topic1\", \"Topic1\", \"Topic1\", \"Topic1\", \"Topic1\", \"Topic1\", \"Topic1\", \"Topic1\", \"Topic1\", \"Topic1\", \"Topic1\", \"Topic1\", \"Topic1\", \"Topic1\", \"Topic1\", \"Topic1\", \"Topic1\", \"Topic1\", \"Topic1\", \"Topic1\", \"Topic1\", \"Topic1\", \"Topic1\", \"Topic1\", \"Topic1\", \"Topic1\", \"Topic1\", \"Topic1\", \"Topic1\", \"Topic1\", \"Topic1\", \"Topic1\", \"Topic1\", \"Topic1\", \"Topic1\", \"Topic1\", \"Topic1\", \"Topic1\", \"Topic1\", \"Topic1\", \"Topic1\", \"Topic1\", \"Topic1\", \"Topic1\", \"Topic1\", \"Topic1\", \"Topic1\", \"Topic1\", \"Topic2\", \"Topic2\", \"Topic2\", \"Topic2\", \"Topic2\", \"Topic2\", \"Topic2\", \"Topic2\", \"Topic2\", \"Topic2\", \"Topic2\", \"Topic2\", \"Topic2\", \"Topic2\", \"Topic2\", \"Topic2\", \"Topic2\", \"Topic2\", \"Topic2\", \"Topic2\", \"Topic2\", \"Topic2\", \"Topic2\", \"Topic2\", \"Topic2\", \"Topic2\", \"Topic2\", \"Topic2\", \"Topic2\", \"Topic2\", \"Topic2\", \"Topic2\", \"Topic2\", \"Topic2\", \"Topic2\", \"Topic2\", \"Topic2\", \"Topic2\", \"Topic2\", \"Topic2\", \"Topic2\", \"Topic2\", \"Topic2\", \"Topic2\", \"Topic2\", \"Topic2\", \"Topic2\", \"Topic2\", \"Topic2\", \"Topic2\", \"Topic2\", \"Topic2\", \"Topic2\", \"Topic2\", \"Topic2\", \"Topic2\", \"Topic2\", \"Topic2\", \"Topic2\", \"Topic2\", \"Topic2\", \"Topic2\", \"Topic2\", \"Topic2\", \"Topic2\", \"Topic2\", \"Topic2\", \"Topic2\", \"Topic2\", \"Topic2\", \"Topic2\", \"Topic2\", \"Topic2\", \"Topic2\", \"Topic2\", \"Topic2\", \"Topic2\", \"Topic3\", \"Topic3\", \"Topic3\", \"Topic3\", \"Topic3\", \"Topic3\", \"Topic3\", \"Topic3\", \"Topic3\", \"Topic3\", \"Topic3\", \"Topic3\", \"Topic3\", \"Topic3\", \"Topic3\", \"Topic3\", \"Topic3\", \"Topic3\", \"Topic3\", \"Topic3\", \"Topic3\", \"Topic3\", \"Topic3\", \"Topic3\", \"Topic3\", \"Topic3\", \"Topic3\", \"Topic3\", \"Topic3\", \"Topic3\", \"Topic3\", \"Topic3\", \"Topic3\", \"Topic3\", \"Topic3\", \"Topic3\", \"Topic3\", \"Topic3\", \"Topic3\", \"Topic3\", \"Topic3\", \"Topic3\", \"Topic3\", \"Topic3\", \"Topic3\", \"Topic3\", \"Topic3\", \"Topic3\", \"Topic3\", \"Topic3\", \"Topic3\", \"Topic3\", \"Topic3\", \"Topic3\", \"Topic3\", \"Topic3\", \"Topic3\", \"Topic3\", \"Topic3\", \"Topic3\", \"Topic3\", \"Topic3\", \"Topic3\", \"Topic3\", \"Topic3\", \"Topic3\", \"Topic3\", \"Topic3\", \"Topic3\", \"Topic3\", \"Topic4\", \"Topic4\", \"Topic4\", \"Topic4\", \"Topic4\", \"Topic4\", \"Topic4\", \"Topic4\", \"Topic4\", \"Topic4\", \"Topic4\", \"Topic4\", \"Topic4\", \"Topic4\", \"Topic4\", \"Topic4\", \"Topic4\", \"Topic4\", \"Topic4\", \"Topic4\", \"Topic4\", \"Topic4\", \"Topic4\", \"Topic4\", \"Topic4\", \"Topic4\", \"Topic4\", \"Topic4\", \"Topic4\", \"Topic4\", \"Topic4\", \"Topic4\", \"Topic4\", \"Topic4\", \"Topic4\", \"Topic4\", \"Topic4\", \"Topic4\", \"Topic4\", \"Topic4\", \"Topic4\", \"Topic4\", \"Topic4\", \"Topic4\", \"Topic4\", \"Topic4\", \"Topic4\", \"Topic4\", \"Topic4\", \"Topic4\", \"Topic4\", \"Topic4\", \"Topic4\", \"Topic4\", \"Topic4\", \"Topic4\", \"Topic4\", \"Topic4\", \"Topic4\", \"Topic4\", \"Topic4\", \"Topic4\", \"Topic4\", \"Topic4\", \"Topic4\", \"Topic4\", \"Topic4\", \"Topic4\", \"Topic4\", \"Topic4\", \"Topic4\", \"Topic4\", \"Topic4\", \"Topic4\", \"Topic4\"], \"logprob\": [30.0, 29.0, 28.0, 27.0, 26.0, 25.0, 24.0, 23.0, 22.0, 21.0, 20.0, 19.0, 18.0, 17.0, 16.0, 15.0, 14.0, 13.0, 12.0, 11.0, 10.0, 9.0, 8.0, 7.0, 6.0, 5.0, 4.0, 3.0, 2.0, 1.0, -4.6762, -5.375, -5.4207, -4.83, -6.0816, -6.3869, -6.7676, -6.8814, -6.9617, -6.8737, -7.0819, -6.6007, -7.1868, -7.2504, -7.308, -7.3821, -7.4, -7.3272, -7.4336, -7.3652, -4.8887, -7.417, -7.5201, -6.5934, -5.6753, -7.5876, -6.0494, -7.6806, -7.7525, -7.7141, -4.9503, -7.1133, -7.359, -5.5449, -5.4768, -6.39, -6.8146, -5.1951, -5.6704, -6.8437, -6.174, -5.8563, -5.3373, -5.6889, -5.9914, -4.809, -6.2275, -4.9346, -5.304, -5.6536, -5.9797, -4.7203, -5.7068, -6.0518, -5.3157, -4.7483, -4.5119, -5.193, -4.7684, -4.7831, -5.1698, -4.9579, -5.0105, -5.4098, -4.5779, -4.6282, -5.0548, -4.1946, -4.9819, -4.8458, -5.1944, -5.1198, -5.2875, -5.3779, -6.2201, -6.1843, -6.1711, -6.2959, -6.4326, -6.586, -6.6489, -6.7601, -6.8448, -6.843, -6.8612, -6.9553, -6.9399, -7.0447, -7.0356, -7.0896, -7.1337, -7.1461, -7.0314, -7.17, -7.2198, -7.1973, -6.8192, -7.0414, -7.2446, -7.2284, -7.3406, -7.3557, -7.1646, -7.3732, -6.8082, -6.6014, -7.0862, -6.5668, -6.9737, -5.9394, -5.8147, -6.6714, -6.1482, -6.1939, -5.5965, -5.637, -5.8223, -5.8822, -5.8332, -6.5112, -4.8533, -4.8046, -5.6584, -5.2279, -6.0424, -5.6578, -6.5076, -6.0321, -6.0391, -5.09, -5.9992, -5.8294, -5.558, -5.3134, -5.6728, -5.4315, -5.9499, -5.8571, -5.4117, -5.5111, -5.3233, -5.6622, -5.7817, -5.9233, -5.4968, -5.9466, -5.6889, -5.8484, -5.6633, -5.9138, -5.9083, -6.1065, -6.247, -5.6759, -6.2725, -6.7396, -6.4707, -6.4701, -6.9709, -6.9466, -7.0912, -7.1628, -7.0571, -7.3617, -7.3506, -7.2449, -7.3168, -7.5041, -7.3693, -7.311, -7.5253, -7.4609, -7.6507, -4.4203, -7.5517, -7.7395, -7.5807, -7.7578, -6.1694, -7.9404, -7.9374, -6.0778, -6.3532, -6.0401, -5.2751, -5.0267, -6.7673, -4.0455, -5.6881, -5.032, -6.7599, -6.1737, -5.4688, -6.4345, -4.6576, -5.367, -3.9409, -4.2914, -5.8452, -5.8794, -4.9753, -5.721, -4.9078, -5.555, -5.4625, -5.0323, -4.1384, -5.3805, -5.0744, -4.7722, -4.9885, -5.4595, -5.7025, -5.2153, -5.6944, -5.3985, -5.3011, -5.3599, -5.537, -5.5767, -5.4652, -5.8079, -6.0403, -6.3346, -5.9696, -6.6315, -6.7066, -6.6665, -6.8736, -7.108, -7.1004, -7.2267, -7.4034, -7.2786, -7.0785, -7.5291, -7.3111, -7.6383, -7.7902, -7.6878, -7.7546, -7.8288, -7.748, -7.9617, -7.8487, -8.0179, -8.0695, -6.9568, -8.1279, -7.6847, -8.0809, -7.0186, -6.0668, -5.7811, -5.2482, -6.4581, -5.0249, -5.818, -5.5341, -4.997, -5.5089, -5.3379, -5.8087, -6.9693, -6.1766, -6.1198, -6.1146, -5.9928, -4.8257, -4.7885, -5.7097, -6.3849, -5.0162, -5.26, -3.6421, -4.9216, -4.8675, -5.1418, -4.6425, -5.4382, -5.2757, -4.908, -4.9125, -5.2363, -5.1665, -4.7951, -5.1251, -5.2652, -5.0996, -5.1171, -5.357, -5.2827, -5.4759, -5.5567, -5.421, -5.466], \"loglift\": [30.0, 29.0, 28.0, 27.0, 26.0, 25.0, 24.0, 23.0, 22.0, 21.0, 20.0, 19.0, 18.0, 17.0, 16.0, 15.0, 14.0, 13.0, 12.0, 11.0, 10.0, 9.0, 8.0, 7.0, 6.0, 5.0, 4.0, 3.0, 2.0, 1.0, 1.1521, 1.1516, 1.1516, 1.1515, 1.1504, 1.1497, 1.1483, 1.1477, 1.1475, 1.1468, 1.1467, 1.1463, 1.1461, 1.1456, 1.1454, 1.1449, 1.1447, 1.1446, 1.1443, 1.1442, 1.144, 1.1438, 1.1437, 1.1436, 1.1435, 1.1429, 1.1428, 1.1412, 1.1409, 1.1404, 1.1388, 1.1391, 1.1389, 1.1128, 1.1095, 1.1265, 1.1327, 1.0911, 1.0978, 1.1295, 1.1082, 1.0893, 1.0659, 1.0733, 1.0871, 1.0232, 1.0976, 1.0205, 1.032, 1.0551, 1.0633, 0.9254, 1.03, 1.0511, 0.9201, 0.8165, 0.7075, 0.8545, 0.7443, 0.7371, 0.811, 0.7225, 0.7326, 0.8761, 0.4933, 0.452, 0.6794, 0.1298, 0.6085, 0.3902, 0.5222, 0.1229, 0.4291, -0.4753, 1.2944, 1.2943, 1.2943, 1.294, 1.2937, 1.2931, 1.2929, 1.292, 1.292, 1.2919, 1.2917, 1.2913, 1.291, 1.2907, 1.2906, 1.2903, 1.2901, 1.29, 1.2898, 1.2896, 1.2894, 1.2893, 1.2893, 1.2889, 1.2888, 1.2887, 1.2884, 1.2883, 1.2882, 1.2881, 1.2845, 1.2824, 1.2861, 1.2671, 1.2741, 1.2011, 1.1677, 1.2422, 1.1856, 1.1862, 1.1149, 1.0965, 1.092, 1.0811, 1.0489, 1.181, 0.7981, 0.781, 0.9535, 0.8123, 1.0254, 0.8783, 1.1679, 0.9643, 0.9519, 0.5021, 0.9077, 0.782, 0.6076, 0.4573, 0.676, 0.5124, 0.8245, 0.7499, 0.2576, 0.2055, -0.0806, 0.3799, 0.518, 0.7524, -0.2578, 0.7252, -0.2323, 0.2577, -0.592, 0.28, -0.3435, 1.476, 1.4754, 1.4754, 1.4753, 1.4733, 1.4723, 1.4718, 1.4714, 1.4711, 1.471, 1.4695, 1.4692, 1.4679, 1.4678, 1.4677, 1.4677, 1.4669, 1.4662, 1.4661, 1.4654, 1.4652, 1.465, 1.4647, 1.4644, 1.4624, 1.4621, 1.4609, 1.46, 1.4597, 1.4597, 1.4569, 1.442, 1.4283, 1.4088, 1.3932, 1.4397, 1.333, 1.3956, 1.3314, 1.4129, 1.3506, 1.2723, 1.3689, 1.0998, 1.18, 0.9617, 0.9476, 1.2229, 1.215, 1.0037, 1.1686, 0.8087, 1.0132, 0.9707, 0.752, 0.186, 0.87, 0.6587, 0.308, 0.4681, 0.8126, 0.9961, 0.3751, 0.8855, 0.2708, -0.0585, -0.1239, 0.2877, 0.318, -0.3939, 1.6949, 1.694, 1.6929, 1.6918, 1.6911, 1.6908, 1.6904, 1.6893, 1.6877, 1.6873, 1.685, 1.6841, 1.6837, 1.6823, 1.6816, 1.6815, 1.6805, 1.6778, 1.6777, 1.6763, 1.6755, 1.6743, 1.674, 1.6734, 1.673, 1.6715, 1.6708, 1.6696, 1.6687, 1.6679, 1.664, 1.6512, 1.6421, 1.6247, 1.6449, 1.6115, 1.6146, 1.6002, 1.5671, 1.5504, 1.5186, 1.5245, 1.6203, 1.5294, 1.5175, 1.5124, 1.4823, 1.2789, 1.2495, 1.413, 1.5108, 1.1614, 1.1995, 0.6823, 0.9909, 0.9195, 0.9281, 0.5935, 1.0121, 0.8899, 0.6122, 0.6002, 0.7124, 0.514, 0.1075, 0.0944, 0.3204, -0.0283, -0.0368, 0.2351, -0.0401, 0.5643, 0.7823, 0.0356, 0.2671]}, \"token.table\": {\"Topic\": [2, 3, 4, 4, 1, 2, 3, 4, 1, 2, 3, 4, 2, 1, 3, 4, 1, 3, 3, 1, 2, 3, 4, 3, 2, 3, 2, 2, 3, 3, 1, 1, 3, 4, 4, 1, 2, 3, 4, 3, 1, 2, 3, 4, 2, 2, 2, 4, 2, 3, 4, 3, 4, 1, 4, 2, 2, 1, 4, 2, 1, 2, 3, 4, 1, 2, 3, 1, 3, 4, 1, 2, 1, 2, 4, 1, 2, 3, 4, 1, 3, 4, 1, 2, 3, 4, 3, 1, 1, 2, 3, 4, 1, 2, 3, 4, 4, 3, 1, 3, 1, 4, 1, 4, 1, 2, 3, 4, 1, 2, 3, 4, 4, 2, 1, 2, 3, 4, 1, 3, 4, 4, 2, 4, 3, 1, 4, 1, 2, 3, 4, 1, 2, 2, 2, 1, 2, 3, 4, 1, 2, 3, 4, 2, 3, 4, 1, 2, 3, 4, 1, 2, 3, 4, 1, 3, 4, 1, 3, 4, 1, 1, 1, 4, 2, 3, 1, 3, 4, 1, 4, 1, 2, 3, 4, 4, 1, 2, 3, 4, 1, 2, 3, 4, 4, 1, 4, 1, 2, 3, 4, 1, 2, 1, 2, 2, 2, 3, 4, 2, 3, 1, 1, 2, 3, 1, 3, 4, 2, 2, 2, 3, 1, 4, 2, 1, 3, 4, 3, 1, 2, 1, 2, 3, 4, 1, 2, 3, 4, 1, 2, 3, 4, 1, 2, 3, 4, 1, 2, 3, 4, 1, 2, 3, 4, 1, 2, 3, 4, 1, 1, 2, 1, 2, 4, 1, 4, 1, 3, 1, 2, 3, 4, 1, 2, 3, 4, 1, 1, 2, 3, 2, 4, 1, 1, 3, 4, 4, 4, 1, 1, 2, 3, 4, 1, 3, 4, 1, 3, 1, 2, 1, 4, 1, 3, 1, 3, 4, 2, 1, 3, 4, 1, 3, 4, 1, 3, 4, 1, 4, 4, 2, 1, 3, 4, 1, 3, 4, 3, 4, 1, 4, 1, 3, 4, 1, 2, 3, 4, 4, 1, 3, 4, 1, 2, 3, 1, 1, 4, 1, 1, 2, 3, 3, 1, 2, 3, 4, 2, 1, 2, 3, 1, 1, 2, 3, 4, 1, 2, 3, 4, 1, 3, 4, 1, 2, 3, 4, 1, 2, 3, 4, 3, 1, 4, 1, 2, 3, 4, 1, 2, 3, 4, 2, 2, 4, 2, 1, 1, 3, 4, 3, 1, 2, 3, 1, 2, 3, 4, 1, 1, 2, 3, 4, 1, 2, 3, 4, 3, 3, 1, 2, 3, 4, 1, 3, 4, 4, 1, 2, 3, 4, 1, 2, 3, 4, 1, 2, 1, 2, 3, 4, 1, 2, 4, 1, 3, 4, 1, 3, 4, 1, 1, 3, 4, 3, 1, 3, 4, 1, 2, 3, 4, 1, 2, 3, 4, 2, 3, 3, 1, 2, 3, 4, 1, 2, 3, 1, 2, 3, 4, 3, 1, 3, 4, 1, 2, 3, 4, 1, 2, 3, 4, 1, 3, 4, 2, 1, 2, 3, 1, 2, 3, 1, 4, 1, 2, 3, 1, 4, 1, 2, 3, 4, 1, 2, 3, 4, 4, 4, 1, 2, 3, 4, 1, 2, 3, 4, 1, 3, 4, 1, 2, 3, 4, 1, 4, 3, 4, 1, 2, 3, 1, 3, 4, 1, 2, 3, 4, 1, 2, 3, 4, 1, 3, 4, 4, 4, 3, 3, 2, 4, 1, 3, 1, 2, 3, 4, 2, 1, 2, 3, 4, 1, 3, 4, 3, 3, 2, 3, 4, 1, 3, 4, 1, 4, 2, 4, 1, 3, 4, 2, 3, 1, 2, 4, 1, 2, 3, 4, 1, 2, 3, 4, 1, 2, 4, 1, 3, 1, 2, 3, 4, 1, 2, 3, 4], \"Freq\": [0.9923328016803663, 0.9914479046425113, 0.9892448158103297, 0.9675436210625328, 0.15832763483257833, 0.62261272616595, 0.0042791252657453606, 0.2160958259201407, 0.6229835480533142, 0.1383567831234909, 0.15120959904206654, 0.08694551944918827, 0.9885674143848513, 0.7101412132060622, 0.03773229879432755, 0.25154865862885034, 0.9400856716514985, 0.05908359668200759, 0.9868345361753714, 0.5170300531873376, 0.15117382112787264, 0.15351156062985005, 0.17805782540061288, 0.9860651141093072, 0.8797553372173684, 0.12116390871855973, 0.9937422368205286, 0.9834056916381352, 0.007995168224700287, 0.9785666142197673, 0.9962824113255828, 0.8839904522145012, 0.002060583804695807, 0.11333210925826939, 0.9881749266582189, 0.17068060169099575, 0.15028955635623076, 0.440295534450666, 0.23940597670816657, 0.9958770989225866, 0.054721631575358316, 0.011726063909005354, 0.9322220807659256, 0.0019543439848342258, 0.985582919919197, 0.9943059857034469, 0.19400920643925457, 0.8062160356475689, 0.7067014255024985, 0.06110576235547919, 0.22848241576396566, 0.961985534042518, 0.035629093853426594, 0.02730068025183285, 0.9691741489400661, 0.9944156962337728, 0.9978253573948311, 0.984900198616872, 0.009380001891589256, 0.9955982093218563, 0.01950716505231722, 0.616015738494228, 0.04312110169459596, 0.3223815698119793, 0.9461454312345627, 0.006378508525176828, 0.04677572918463007, 0.0017583476643096207, 0.9855538658455424, 0.012308433650167344, 0.8760119413937384, 0.12352805632139907, 0.12287814226468777, 0.7158987418899201, 0.16027583773654927, 0.14623423584276546, 0.0034817675200658443, 0.626718153611852, 0.22109223752418114, 0.05256590357768216, 0.01314147589442054, 0.9199033126094379, 0.22969039044370665, 0.21651612864768358, 0.36372418436846315, 0.18959481106450599, 0.9918319303089518, 0.9977539195852012, 0.27774386496537723, 0.3991282207650606, 0.20265015332659003, 0.12035567481833012, 0.0654685588532854, 0.7092427209105918, 0.22004710059020927, 0.005455713237773783, 0.9793036753907829, 0.9864175584801604, 0.047108928152289245, 0.9507438227098376, 0.05321117150011254, 0.9455215858866153, 0.12135780967451755, 0.8772435956472269, 0.02160671466364929, 0.04321342932729858, 0.7322275524903371, 0.20166267019406003, 0.15451471597305916, 0.5980628418251349, 0.1945067601072627, 0.05453460563755029, 0.9839986993142679, 0.9919194851241865, 0.532642318102754, 0.33578009453618524, 0.06685886838109882, 0.0646302394350622, 0.9366111687098644, 0.060894224591043815, 0.002899724980525896, 0.9962246037584203, 0.00519428090314123, 0.992107652499975, 0.9912239286412308, 0.01559522083834626, 0.9824989128158145, 0.48187121197166843, 0.001163940125535431, 0.07100034765766129, 0.44578906808007007, 0.9907990192368641, 0.9934934478794403, 0.9944864792417237, 0.9977139686917231, 0.1441222157054925, 0.6766415889901936, 0.10503822500569791, 0.07328248256211482, 0.3361584662567242, 0.04156798238658418, 0.12922220611481602, 0.4933938778929339, 0.9959187395083653, 0.028205138860835918, 0.9589747212684212, 0.18644686438101127, 0.007171033245423511, 0.16698263128629032, 0.6382219588426925, 0.6505779470283262, 0.0007164955363748087, 0.04298973218248851, 0.3059435940320433, 0.986484292503306, 0.0064687494590380725, 0.0075468743688777516, 0.9394249334824984, 0.045701753520770196, 0.015233917840256732, 0.993310658233589, 0.9986199418085894, 0.9982193336609216, 0.9670720835391291, 0.0068763129468446165, 0.9901890643456247, 0.5801153964399425, 0.3313074385988836, 0.08773754302816286, 0.9915792276855289, 0.008152758295461696, 0.08264026898231662, 0.009535415651805764, 0.8640146071164, 0.043968861061104356, 0.9962036872582875, 0.1311817667793142, 0.2726706723770031, 0.2239460161446864, 0.3729310227011932, 0.7965622525478707, 0.06643785946533065, 0.050520455635095184, 0.0865076295121493, 0.9852617044200471, 0.043975153253775455, 0.9564595832696161, 0.05354386585234728, 0.5016827430948191, 0.11523571129092132, 0.32941117470031045, 0.975112773189746, 0.02246803624861166, 0.995861400320991, 0.9851796722299552, 0.9969704571302944, 0.9939931351036725, 0.010574395054294389, 0.9707662238784708, 0.006884291953866202, 0.9913380413567331, 0.9974204067429555, 0.7142001077203246, 0.1940275538400167, 0.09126954012869205, 0.9614357761883436, 0.028557498302624065, 0.00951916610087469, 0.9896253324512162, 0.9990787933116372, 0.9861513733287792, 0.012975675964852358, 0.9152096754990272, 0.08396419041275478, 0.9947107988875797, 0.06063709052389501, 0.9355436823686658, 0.9932408790801571, 0.9752747493551718, 0.9967666528480885, 0.9937964910590263, 0.5395543487215076, 0.3531229680657022, 0.0076765862622978735, 0.09869896622954409, 0.2568112837773217, 0.5638262771652476, 0.07144374059970604, 0.10620015494550897, 0.49614408360772233, 0.017298208937194755, 0.31018833753287867, 0.1765203593818283, 0.27741089787773615, 0.08584635235184958, 0.48328316879559763, 0.15341061114728677, 0.22035796083902767, 0.43208980933204355, 0.1960480078639036, 0.1521332541023892, 0.059892658356784874, 0.8946465842044741, 0.02245974688379433, 0.02245974688379433, 0.31409329941697645, 0.4591618148256647, 0.09050145915404406, 0.1357521887310661, 0.9959376388148146, 0.018673623458682266, 0.980365231580819, 0.15198075770634323, 0.8174100211773595, 0.02875311632282169, 0.13655109416215933, 0.8619787818986309, 0.9875135194012074, 0.9874904970663511, 0.14375495637893035, 0.2110249039152247, 0.5879209113445998, 0.057594133164635554, 0.4561465200468024, 0.3615649581473342, 0.171204599387645, 0.01077511464677486, 0.9871155414022166, 0.992843261145532, 0.0150925247190411, 0.9810141067376715, 0.9690775294876068, 0.024689873362741574, 0.9945517528856045, 0.9910085816428534, 0.006498416928805597, 0.0032492084644027983, 0.9919678199878523, 0.9682583936047834, 0.9978454484926719, 0.34843603292035796, 0.04307936407015335, 0.5435602113557585, 0.06461904610523002, 0.0144223624006773, 0.0144223624006773, 0.966298280845379, 0.9032798399509825, 0.0950820884158929, 0.9817055559406661, 0.01382683881606572, 0.09199692939257191, 0.9077030366733762, 0.9790764173276417, 0.021284269941905253, 0.7587822009814654, 0.19166470820639092, 0.049885335012622295, 0.9909815930208559, 0.9572392512525159, 0.01063599168058351, 0.03190797504175053, 0.6598456460737616, 0.002441612011373771, 0.33755286057242384, 0.9562701330519281, 0.03554907557813859, 0.007109815115627719, 0.9915525073587915, 0.005601991566998823, 0.9945465383904197, 0.9962245843486557, 0.03512768465352333, 0.13549249794930426, 0.8330279503549818, 0.33616209335442454, 0.005474952660495514, 0.6580893097915608, 0.048470835512107985, 0.9451812924861056, 0.08200412414330555, 0.9169552063296893, 0.07856484433282322, 0.07856484433282322, 0.8417661892802487, 0.44526356556885743, 0.001655254890590548, 0.30373927242336557, 0.24994348847917275, 0.9975921034186781, 0.6646124669266575, 0.0012116909150896218, 0.3338208471071908, 0.022644790439640124, 0.09963707793441655, 0.8786178690580368, 0.9945742533856741, 0.1622628614880397, 0.8366678795477047, 0.9916883328290751, 0.9462811183202259, 0.03339815711718444, 0.018554531731769134, 0.9901091061289331, 0.14864472784833857, 0.00464514774526058, 0.011612869363151451, 0.8361265941469044, 0.9980693969237804, 0.8789965966623194, 0.09173588769720602, 0.029188691540020097, 0.9962493318115144, 0.49354133763018726, 0.03550657105253146, 0.3133454895385901, 0.158004241183765, 0.4662765702014438, 0.0009187715668993967, 0.20121097315096786, 0.33167653565068217, 0.20113577326568868, 0.29396766861908347, 0.5043866314201116, 0.3722214419903626, 0.03769331058130254, 0.004711663822662818, 0.5854242299658551, 0.1899718157317548, 0.5796078867734151, 0.13181717826285028, 0.09886288369713771, 0.9827503286413484, 0.9075838632437042, 0.09216083379516643, 0.062274792017341964, 0.8336786673289327, 0.07834570608633344, 0.026115235362111144, 0.03359658616469893, 0.8063180679527744, 0.028427880600899097, 0.1318019918768958, 0.9925130782149738, 0.9909870267596131, 0.008122844481636174, 0.9908242121854706, 0.9992899879768343, 0.7426266362982767, 0.09929269788946318, 0.15824773726133196, 0.9814067228305478, 0.8860176008304828, 0.00828053832551853, 0.10626690851082113, 0.07103528625753473, 0.5969570845128607, 0.0795073846185251, 0.2522078512079444, 0.9980342618218667, 0.03687975512179821, 0.001418452120069162, 0.8624188890020504, 0.09929164840484134, 0.17359968131647038, 0.3535764937833417, 0.2990165939410224, 0.1743082514442927, 0.972352503314634, 0.9972918901920292, 0.6407288726276652, 0.026207527935405206, 0.1319413475368676, 0.20107499881474686, 0.08980389619717236, 0.8980389619717235, 0.011973852826289646, 0.9633708300715702, 0.014165559135468258, 0.04721853045156086, 0.009443706090312172, 0.9302050498957489, 0.021426070757751783, 0.889181936446699, 0.005356517689437946, 0.08570428303100713, 0.9834180845287043, 0.9951428614061391, 0.23385086853404863, 0.6068986826240786, 0.07029445750577057, 0.08908604515582805, 0.9166226067337009, 0.025092728364690686, 0.057565670954290396, 0.9236200558158, 0.0739741463468032, 0.0021135470384800914, 0.034979745049819946, 0.9211332863119253, 0.04372468131227493, 0.9971488212572664, 0.08249693686343373, 0.7689893043341501, 0.15026227785839716, 0.9867420640720258, 0.37667772998003635, 0.6220011746337011, 0.0009658403332821444, 0.2360177684177681, 0.049525039930285765, 0.6840646140370721, 0.030179321207517887, 0.14823076205327593, 0.4512511694365214, 0.16856330021102617, 0.23152857966728496, 0.8939241560717538, 0.1019387195520421, 0.995692557062451, 0.14297692155418312, 0.5791470240169443, 0.16831460385492444, 0.11220973590328297, 0.99080882014727, 0.002236588758797449, 0.006709766276392348, 0.3596431016973833, 0.0038770560244584438, 0.2743478691592975, 0.3622278057136889, 0.9984453062436005, 0.48227323119307813, 0.05499607022377207, 0.46323612996177244, 0.05167408673366551, 0.8144820337544422, 0.022146037171570935, 0.11319085665469589, 0.3706276898946487, 0.056590464478537765, 0.1139779777525479, 0.459100106192081, 0.7927825944895929, 0.022472577481594758, 0.18477452595977914, 0.98830894605666, 0.012340636399447, 0.9070367753593546, 0.0802141365964055, 0.003966599672403626, 0.3788102687145463, 0.6168062490587639, 0.9991377363367666, 0.0009681567212565568, 0.06208267715812862, 0.12416535431625723, 0.8132830707714849, 0.5993591449196027, 0.4000341636992268, 0.3133405322142016, 0.08061673887064409, 0.6008228651680079, 0.0045632116341874016, 0.35703279000606963, 0.2520503504576528, 0.21505213387671293, 0.17574152875946433, 0.9725610849853853, 0.9809433762504629, 0.21352742183803702, 0.45596030252751135, 0.09790558643228772, 0.2321761049679966, 0.6568059734488159, 0.15256817037138581, 0.13807419418610414, 0.0526360187781281, 0.9925375787676084, 0.9924955960675507, 0.9806435842740812, 0.013634611341470981, 0.006817305670735491, 0.7413819916924846, 0.23860569847574217, 0.9983143528077516, 0.9832075719646992, 0.9856318600954657, 0.978227815178764, 0.9949657718389542, 0.877163454966733, 0.12116972651192107, 0.018305616281529664, 0.979350471061837, 0.9753711639759565, 0.11800598276216712, 0.23601196552433423, 0.5530429639898579, 0.09334801621484862, 0.07054458847004136, 0.004502846072555832, 0.9170796501105377, 0.007504743454259719, 0.4850838922686598, 0.5118266489634098, 0.002971417410527778, 0.9973004400111319, 0.955913904120063, 0.9812777019791089, 0.9967377208598528, 0.9978222769290663, 0.9944805669673652, 0.9830999788818873, 0.011989024132705943, 0.010115516072080683, 0.6575085446852444, 0.2882922080542995, 0.04551982232436308, 0.9900192277153697, 0.19617174048128755, 0.0036206193712989315, 0.5960856074020332, 0.20374212643945805, 0.06565735817153558, 0.09848603725730336, 0.8272827129613481, 0.9935235415210928, 0.9938617594474675, 0.03585524577086146, 0.959127824370544, 0.9851035651130693, 0.2670020898195542, 0.12491325839511308, 0.6073907189462373, 0.07850661410141013, 0.9214197339270768, 0.24551233625759747, 0.7516920912578293, 0.11404777678857647, 0.03801592559619216, 0.8472120561437109, 0.9915155531223232, 0.9938408311611725, 0.04288952163505269, 0.7791596430367906, 0.17394083774215816, 0.020053890569975117, 0.9492174869788222, 0.013369260379983412, 0.020053890569975117, 0.2068789625080721, 0.5367670378587817, 0.06430021807683323, 0.19150282340274244, 0.11475758889888624, 0.7631379661775934, 0.1233644080663027, 0.003118691696602537, 0.9948626512162094, 0.05437427710943288, 0.06084740533674631, 0.513966381248687, 0.3715575602477913, 0.02870138594943348, 0.04018194032920687, 0.7749374206347039, 0.15785762272188414], \"Term\": [\"abortar\", \"abreu\", \"absolver\", \"absolvido\", \"achar\", \"achar\", \"achar\", \"achar\", \"acordar\", \"acordar\", \"acordar\", \"acordar\", \"adolescente\", \"advogar\", \"advogar\", \"advogar\", \"aecio\", \"aecio\", \"aeronave\", \"afirmar\", \"afirmar\", \"afirmar\", \"afirmar\", \"agricultura\", \"aguar\", \"aguar\", \"amazona\", \"ambientar\", \"ambientar\", \"andrada\", \"andrea\", \"apartamento\", \"apartamento\", \"apartamento\", \"apelacao\", \"apo\", \"apo\", \"apo\", \"apo\", \"aposentadoria\", \"aprovar\", \"aprovar\", \"aprovar\", \"aprovar\", \"arte\", \"artista\", \"atacar\", \"atacar\", \"aumentar\", \"aumentar\", \"aumentar\", \"bancada\", \"bancada\", \"barroso\", \"barroso\", \"bbc\", \"beber\", \"bndes\", \"bndes\", \"bolsonaro\", \"brasileiro\", \"brasileiro\", \"brasileiro\", \"brasileiro\", \"caixa\", \"caixa\", \"caixa\", \"camara\", \"camara\", \"camara\", \"campanha\", \"campanha\", \"candidatar\", \"candidatar\", \"candidatar\", \"cargo\", \"cargo\", \"cargo\", \"cargo\", \"carmen\", \"carmen\", \"carmen\", \"casar\", \"casar\", \"casar\", \"casar\", \"ccj\", \"cervero\", \"chegar\", \"chegar\", \"chegar\", \"chegar\", \"cidade\", \"cidade\", \"cidade\", \"cidade\", \"claudia\", \"coletivos\", \"comissao\", \"comissao\", \"condenacao\", \"condenacao\", \"condenar\", \"condenar\", \"congresso\", \"congresso\", \"congresso\", \"congresso\", \"conseguir\", \"conseguir\", \"conseguir\", \"conseguir\", \"constituir\", \"consumir\", \"contar\", \"contar\", \"contar\", \"contar\", \"contrato\", \"contrato\", \"contrato\", \"coreano\", \"coreia\", \"coreia\", \"corporacao\", \"corpus\", \"corpus\", \"corrupcao\", \"corrupcao\", \"corrupcao\", \"corrupcao\", \"costamarques\", \"crescer\", \"crianca\", \"criancas\", \"criar\", \"criar\", \"criar\", \"criar\", \"crime\", \"crime\", \"crime\", \"crime\", \"cultural\", \"dallagnol\", \"dallagnol\", \"decisao\", \"decisao\", \"decisao\", \"decisao\", \"defeso\", \"defeso\", \"defeso\", \"defeso\", \"delacao\", \"delacao\", \"delacao\", \"delacoes\", \"delacoes\", \"delacoes\", \"delatar\", \"delator\", \"delcidio\", \"deltan\", \"dem\", \"dem\", \"denunciar\", \"denunciar\", \"denunciar\", \"depoimento\", \"depoimento\", \"deputar\", \"deputar\", \"deputar\", \"deputar\", \"desembargador\", \"dever\", \"dever\", \"dever\", \"dever\", \"dinheiro\", \"dinheiro\", \"dinheiro\", \"dinheiro\", \"diplomata\", \"dirceu\", \"dirceu\", \"direito\", \"direito\", \"direito\", \"direito\", \"doacoes\", \"doacoes\", \"doleiro\", \"dor\", \"doria\", \"educacao\", \"educacao\", \"embaixador\", \"emendar\", \"emendar\", \"empreiteiro\", \"empresar\", \"empresar\", \"empresar\", \"empresario\", \"empresario\", \"empresario\", \"ensinar\", \"escola\", \"especialista\", \"especialista\", \"esquema\", \"esquema\", \"estudante\", \"eunicio\", \"eunicio\", \"excelencia\", \"fab\", \"fachin\", \"facil\", \"falar\", \"falar\", \"falar\", \"falar\", \"familia\", \"familia\", \"familia\", \"familia\", \"federal\", \"federal\", \"federal\", \"federal\", \"feirar\", \"feirar\", \"feirar\", \"feirar\", \"ficar\", \"ficar\", \"ficar\", \"ficar\", \"filho\", \"filho\", \"filho\", \"filho\", \"formar\", \"formar\", \"formar\", \"formar\", \"funaro\", \"fundacao\", \"fundacao\", \"gente\", \"gente\", \"gente\", \"gilmar\", \"gilmar\", \"glauco\", \"goiania\", \"governar\", \"governar\", \"governar\", \"governar\", \"grupar\", \"grupar\", \"grupar\", \"grupar\", \"guido\", \"homologar\", \"hospital\", \"hospital\", \"idear\", \"idear\", \"ilicito\", \"imovel\", \"imovel\", \"imovel\", \"impunidade\", \"indagar\", \"indevido\", \"informar\", \"informar\", \"informar\", \"informar\", \"inocentar\", \"inocentar\", \"inocentar\", \"inquerito\", \"inquerito\", \"inqueritos\", \"inqueritos\", \"instancia\", \"instancia\", \"investigador\", \"investigador\", \"investigar\", \"investigar\", \"investigar\", \"jair\", \"janot\", \"janot\", \"janot\", \"jato\", \"jato\", \"jato\", \"jbs\", \"jbs\", \"jbs\", \"joesley\", \"joesley\", \"jong\", \"jovem\", \"judiciario\", \"judiciario\", \"judiciario\", \"juiz\", \"juiz\", \"juiz\", \"juizes\", \"juizes\", \"julgamento\", \"julgamento\", \"julgar\", \"julgar\", \"julgar\", \"justica\", \"justica\", \"justica\", \"justica\", \"kim\", \"lavar\", \"lavar\", \"lavar\", \"legislativo\", \"legislativo\", \"legislativo\", \"machadar\", \"magistrado\", \"magistrado\", \"mantega\", \"marcelo\", \"marcelo\", \"marcelo\", \"marco\", \"mendes\", \"mendes\", \"mendes\", \"mendes\", \"menino\", \"milhoes\", \"milhoes\", \"milhoes\", \"miller\", \"ministerio\", \"ministerio\", \"ministerio\", \"ministerio\", \"ministrar\", \"ministrar\", \"ministrar\", \"ministrar\", \"ministro\", \"ministro\", \"ministro\", \"morar\", \"morar\", \"morar\", \"morar\", \"mostrar\", \"mostrar\", \"mostrar\", \"mostrar\", \"motorista\", \"mpf\", \"mpf\", \"mulher\", \"mulher\", \"mulher\", \"mulher\", \"mundo\", \"mundo\", \"mundo\", \"mundo\", \"musicar\", \"nascer\", \"nascer\", \"negro\", \"odebrecht\", \"operacao\", \"operacao\", \"operacao\", \"osmar\", \"pagamento\", \"pagamento\", \"pagamento\", \"pai\", \"pai\", \"pai\", \"pai\", \"palocci\", \"parlamentar\", \"parlamentar\", \"parlamentar\", \"parlamentar\", \"passar\", \"passar\", \"passar\", \"passar\", \"pb\", \"pec\", \"pedir\", \"pedir\", \"pedir\", \"pedir\", \"peemedebista\", \"peemedebista\", \"peemedebista\", \"peninsula\", \"peno\", \"peno\", \"peno\", \"peno\", \"pensar\", \"pensar\", \"pensar\", \"pensar\", \"perrella\", \"pesquisar\", \"pessoa\", \"pessoa\", \"pessoa\", \"pessoa\", \"petrobras\", \"petrobras\", \"petrobras\", \"pgr\", \"pgr\", \"pgr\", \"planalto\", \"planalto\", \"planalto\", \"planilha\", \"plenario\", \"plenario\", \"plenario\", \"pm\", \"pmdb\", \"pmdb\", \"pmdb\", \"policiar\", \"policiar\", \"policiar\", \"policiar\", \"politicar\", \"politicar\", \"politicar\", \"politicar\", \"populacao\", \"populacao\", \"pr\", \"precisar\", \"precisar\", \"precisar\", \"precisar\", \"premiar\", \"premiar\", \"premiar\", \"presidente\", \"presidente\", \"presidente\", \"presidente\", \"previdencia\", \"prisao\", \"prisao\", \"prisao\", \"problema\", \"problema\", \"problema\", \"problema\", \"processar\", \"processar\", \"processar\", \"processar\", \"procurador\", \"procurador\", \"procurador\", \"professorar\", \"programar\", \"programar\", \"programar\", \"projeto\", \"projeto\", \"projeto\", \"propinar\", \"propinar\", \"proposto\", \"proposto\", \"proposto\", \"provar\", \"provar\", \"psdb\", \"psdb\", \"psdb\", \"psdb\", \"publicar\", \"publicar\", \"publicar\", \"publicar\", \"putin\", \"pyongyang\", \"querer\", \"querer\", \"querer\", \"querer\", \"receber\", \"receber\", \"receber\", \"receber\", \"recibo\", \"recife\", \"reclusao\", \"reformar\", \"reformar\", \"reformar\", \"reformar\", \"repasse\", \"republicano\", \"rs\", \"russia\", \"saud\", \"saude\", \"saude\", \"secretariar\", \"secretariar\", \"secreto\", \"semana\", \"semana\", \"semana\", \"semana\", \"senado\", \"senado\", \"senado\", \"senado\", \"senador\", \"senador\", \"senador\", \"sentenca\", \"sentencas\", \"serraglio\", \"servidor\", \"sexual\", \"sirio\", \"sitiar\", \"sitiar\", \"social\", \"social\", \"social\", \"social\", \"teatro\", \"temer\", \"temer\", \"temer\", \"temer\", \"teori\", \"teori\", \"teori\", \"tiro\", \"torquato\", \"trabalhista\", \"trabalhista\", \"trf\", \"tribunal\", \"tribunal\", \"tribunal\", \"triplex\", \"triplex\", \"trump\", \"trump\", \"turma\", \"turma\", \"turma\", \"universidade\", \"vereador\", \"vidar\", \"vidar\", \"vidar\", \"violencia\", \"violencia\", \"violencia\", \"violencia\", \"vir\", \"vir\", \"vir\", \"vir\", \"viver\", \"viver\", \"viver\", \"votacao\", \"votacao\", \"votar\", \"votar\", \"votar\", \"votar\", \"voto\", \"voto\", \"voto\", \"voto\"]}, \"R\": 30, \"lambda.step\": 0.01, \"plot.opts\": {\"xlab\": \"PC1\", \"ylab\": \"PC2\"}, \"topic.order\": [4, 3, 1, 2]};\n",
       "\n",
       "function LDAvis_load_lib(url, callback){\n",
       "  var s = document.createElement('script');\n",
       "  s.src = url;\n",
       "  s.async = true;\n",
       "  s.onreadystatechange = s.onload = callback;\n",
       "  s.onerror = function(){console.warn(\"failed to load library \" + url);};\n",
       "  document.getElementsByTagName(\"head\")[0].appendChild(s);\n",
       "}\n",
       "\n",
       "if(typeof(LDAvis) !== \"undefined\"){\n",
       "   // already loaded: just create the visualization\n",
       "   !function(LDAvis){\n",
       "       new LDAvis(\"#\" + \"ldavis_el735225335662731208262508692\", ldavis_el735225335662731208262508692_data);\n",
       "   }(LDAvis);\n",
       "}else if(typeof define === \"function\" && define.amd){\n",
       "   // require.js is available: use it to load d3/LDAvis\n",
       "   require.config({paths: {d3: \"https://d3js.org/d3.v5\"}});\n",
       "   require([\"d3\"], function(d3){\n",
       "      window.d3 = d3;\n",
       "      LDAvis_load_lib(\"https://cdn.jsdelivr.net/gh/bmabey/pyLDAvis@3.3.1/pyLDAvis/js/ldavis.v3.0.0.js\", function(){\n",
       "        new LDAvis(\"#\" + \"ldavis_el735225335662731208262508692\", ldavis_el735225335662731208262508692_data);\n",
       "      });\n",
       "    });\n",
       "}else{\n",
       "    // require.js not available: dynamically load d3 & LDAvis\n",
       "    LDAvis_load_lib(\"https://d3js.org/d3.v5.js\", function(){\n",
       "         LDAvis_load_lib(\"https://cdn.jsdelivr.net/gh/bmabey/pyLDAvis@3.3.1/pyLDAvis/js/ldavis.v3.0.0.js\", function(){\n",
       "                 new LDAvis(\"#\" + \"ldavis_el735225335662731208262508692\", ldavis_el735225335662731208262508692_data);\n",
       "            })\n",
       "         });\n",
       "}\n",
       "</script>"
      ],
      "text/plain": [
       "PreparedData(topic_coordinates=                x           y  topics  cluster       Freq\n",
       "topic                                                    \n",
       "3      269.562408 -124.803398       1        1  31.579292\n",
       "2        1.782994 -295.079681       2        1  27.326977\n",
       "0      220.811432 -343.832123       3        1  22.783744\n",
       "1       50.533993  -76.050934       4        1  18.309986, topic_info=            Term         Freq        Total Category  logprob  loglift\n",
       "3123  presidente  5416.000000  5416.000000  Default  30.0000  30.0000\n",
       "1142     deputar  1887.000000  1887.000000  Default  29.0000  29.0000\n",
       "3835       temer  3038.000000  3038.000000  Default  28.0000  28.0000\n",
       "567       camara  1137.000000  1137.000000  Default  27.0000  27.0000\n",
       "2757   odebrecht  1203.000000  1203.000000  Default  26.0000  26.0000\n",
       "...          ...          ...          ...      ...      ...      ...\n",
       "3264    publicar   380.363218  2162.266385   Topic4  -5.2827  -0.0401\n",
       "522   brasileiro   313.557086   974.001089   Topic4  -5.4759   0.5643\n",
       "3241      provar   289.211815   722.438297   Topic4  -5.5567   0.7823\n",
       "623        casar   331.251173  1745.828370   Topic4  -5.4210   0.0356\n",
       "269          apo   316.685660  1324.110636   Topic4  -5.4660   0.2671\n",
       "\n",
       "[326 rows x 6 columns], token_table=      Topic      Freq       Term\n",
       "term                            \n",
       "12        2  0.992333    abortar\n",
       "14        3  0.991448      abreu\n",
       "20        4  0.989245   absolver\n",
       "22        4  0.967544  absolvido\n",
       "43        1  0.158328      achar\n",
       "...     ...       ...        ...\n",
       "4091      4  0.371558      votar\n",
       "4092      1  0.028701       voto\n",
       "4092      2  0.040182       voto\n",
       "4092      3  0.774937       voto\n",
       "4092      4  0.157858       voto\n",
       "\n",
       "[607 rows x 3 columns], R=30, lambda_step=0.01, plot_opts={'xlab': 'PC1', 'ylab': 'PC2'}, topic_order=[4, 3, 1, 2])"
      ]
     },
     "execution_count": 98,
     "metadata": {},
     "output_type": "execute_result"
    }
   ],
   "source": [
    "pyLDAvis.enable_notebook()\n",
    "panel = pyLDAvis.sklearn.prepare(\n",
    "    best_lda_model, data_vectorized, vectorizer, mds=\"tsne\"\n",
    ")\n",
    "panel"
   ]
  },
  {
   "cell_type": "markdown",
   "metadata": {},
   "source": [
    "# 15. How to see the Topic’s keywords?\n",
    "\n",
    "The weights of each keyword in each topic is contained in lda_model.components_ as a 2d array. The names of the keywords itself can be obtained from vectorizer object using get_feature_names().\n",
    "\n",
    "Let’s use this info to construct a weight matrix for all keywords in each topic."
   ]
  },
  {
   "cell_type": "code",
   "execution_count": 99,
   "metadata": {},
   "outputs": [
    {
     "name": "stderr",
     "output_type": "stream",
     "text": [
      "C:\\Users\\Xinda\\AppData\\Local\\Programs\\Python\\Python39\\lib\\site-packages\\ipykernel\\ipkernel.py:283: DeprecationWarning: `should_run_async` will not call `transform_cell` automatically in the future. Please pass the result to `transformed_cell` argument and any exception that happen during thetransform in `preprocessing_exc_tuple` in IPython 7.17 and above.\n",
      "  and should_run_async(code)\n"
     ]
    },
    {
     "data": {
      "text/html": [
       "<div>\n",
       "<style scoped>\n",
       "    .dataframe tbody tr th:only-of-type {\n",
       "        vertical-align: middle;\n",
       "    }\n",
       "\n",
       "    .dataframe tbody tr th {\n",
       "        vertical-align: top;\n",
       "    }\n",
       "\n",
       "    .dataframe thead th {\n",
       "        text-align: right;\n",
       "    }\n",
       "</style>\n",
       "<table border=\"1\" class=\"dataframe\">\n",
       "  <thead>\n",
       "    <tr style=\"text-align: right;\">\n",
       "      <th></th>\n",
       "      <th>abaixar</th>\n",
       "      <th>abalar</th>\n",
       "      <th>abandonar</th>\n",
       "      <th>abastecer</th>\n",
       "      <th>abastecido</th>\n",
       "      <th>abastecimento</th>\n",
       "      <th>abater</th>\n",
       "      <th>abertamente</th>\n",
       "      <th>aberto</th>\n",
       "      <th>abertura</th>\n",
       "      <th>...</th>\n",
       "      <th>wagner</th>\n",
       "      <th>weber</th>\n",
       "      <th>wesley</th>\n",
       "      <th>whatsapp</th>\n",
       "      <th>zanin</th>\n",
       "      <th>zavascki</th>\n",
       "      <th>zelar</th>\n",
       "      <th>zelote</th>\n",
       "      <th>zeze</th>\n",
       "      <th>zonar</th>\n",
       "    </tr>\n",
       "  </thead>\n",
       "  <tbody>\n",
       "    <tr>\n",
       "      <th>Topic 0</th>\n",
       "      <td>141.341422</td>\n",
       "      <td>0.261953</td>\n",
       "      <td>0.262176</td>\n",
       "      <td>6.265419</td>\n",
       "      <td>0.269735</td>\n",
       "      <td>0.908912</td>\n",
       "      <td>0.269851</td>\n",
       "      <td>2.878145</td>\n",
       "      <td>46.511902</td>\n",
       "      <td>2.972467</td>\n",
       "      <td>...</td>\n",
       "      <td>3.487653</td>\n",
       "      <td>0.268870</td>\n",
       "      <td>0.303027</td>\n",
       "      <td>6.363033</td>\n",
       "      <td>0.251414</td>\n",
       "      <td>12.430033</td>\n",
       "      <td>0.268013</td>\n",
       "      <td>0.254519</td>\n",
       "      <td>0.258047</td>\n",
       "      <td>28.372667</td>\n",
       "    </tr>\n",
       "    <tr>\n",
       "      <th>Topic 1</th>\n",
       "      <td>76.060887</td>\n",
       "      <td>8.828995</td>\n",
       "      <td>0.264397</td>\n",
       "      <td>0.260393</td>\n",
       "      <td>0.271270</td>\n",
       "      <td>0.263527</td>\n",
       "      <td>1.255992</td>\n",
       "      <td>9.647616</td>\n",
       "      <td>32.533944</td>\n",
       "      <td>38.268083</td>\n",
       "      <td>...</td>\n",
       "      <td>0.340253</td>\n",
       "      <td>30.778297</td>\n",
       "      <td>0.255295</td>\n",
       "      <td>0.261309</td>\n",
       "      <td>9.019102</td>\n",
       "      <td>61.081524</td>\n",
       "      <td>11.470978</td>\n",
       "      <td>3.868647</td>\n",
       "      <td>0.257356</td>\n",
       "      <td>0.272191</td>\n",
       "    </tr>\n",
       "    <tr>\n",
       "      <th>Topic 2</th>\n",
       "      <td>101.131354</td>\n",
       "      <td>8.582024</td>\n",
       "      <td>80.995898</td>\n",
       "      <td>11.611850</td>\n",
       "      <td>0.303896</td>\n",
       "      <td>17.082851</td>\n",
       "      <td>0.267713</td>\n",
       "      <td>4.145656</td>\n",
       "      <td>112.864493</td>\n",
       "      <td>43.351749</td>\n",
       "      <td>...</td>\n",
       "      <td>2.215317</td>\n",
       "      <td>0.260268</td>\n",
       "      <td>3.139747</td>\n",
       "      <td>26.673764</td>\n",
       "      <td>0.250855</td>\n",
       "      <td>0.254570</td>\n",
       "      <td>0.298942</td>\n",
       "      <td>0.253709</td>\n",
       "      <td>3.587666</td>\n",
       "      <td>114.462680</td>\n",
       "    </tr>\n",
       "    <tr>\n",
       "      <th>Topic 3</th>\n",
       "      <td>197.064205</td>\n",
       "      <td>0.254510</td>\n",
       "      <td>0.254245</td>\n",
       "      <td>14.495557</td>\n",
       "      <td>16.865704</td>\n",
       "      <td>25.199765</td>\n",
       "      <td>13.328698</td>\n",
       "      <td>0.273501</td>\n",
       "      <td>87.691316</td>\n",
       "      <td>154.765835</td>\n",
       "      <td>...</td>\n",
       "      <td>7.027354</td>\n",
       "      <td>5.370789</td>\n",
       "      <td>10.979963</td>\n",
       "      <td>4.422453</td>\n",
       "      <td>9.155738</td>\n",
       "      <td>9.499161</td>\n",
       "      <td>5.242850</td>\n",
       "      <td>34.585526</td>\n",
       "      <td>52.789595</td>\n",
       "      <td>42.206378</td>\n",
       "    </tr>\n",
       "  </tbody>\n",
       "</table>\n",
       "<p>4 rows × 4105 columns</p>\n",
       "</div>"
      ],
      "text/plain": [
       "            abaixar    abalar  abandonar  abastecer  abastecido  \\\n",
       "Topic 0  141.341422  0.261953   0.262176   6.265419    0.269735   \n",
       "Topic 1   76.060887  8.828995   0.264397   0.260393    0.271270   \n",
       "Topic 2  101.131354  8.582024  80.995898  11.611850    0.303896   \n",
       "Topic 3  197.064205  0.254510   0.254245  14.495557   16.865704   \n",
       "\n",
       "         abastecimento     abater  abertamente      aberto    abertura  ...  \\\n",
       "Topic 0       0.908912   0.269851     2.878145   46.511902    2.972467  ...   \n",
       "Topic 1       0.263527   1.255992     9.647616   32.533944   38.268083  ...   \n",
       "Topic 2      17.082851   0.267713     4.145656  112.864493   43.351749  ...   \n",
       "Topic 3      25.199765  13.328698     0.273501   87.691316  154.765835  ...   \n",
       "\n",
       "           wagner      weber     wesley   whatsapp     zanin   zavascki  \\\n",
       "Topic 0  3.487653   0.268870   0.303027   6.363033  0.251414  12.430033   \n",
       "Topic 1  0.340253  30.778297   0.255295   0.261309  9.019102  61.081524   \n",
       "Topic 2  2.215317   0.260268   3.139747  26.673764  0.250855   0.254570   \n",
       "Topic 3  7.027354   5.370789  10.979963   4.422453  9.155738   9.499161   \n",
       "\n",
       "             zelar     zelote       zeze       zonar  \n",
       "Topic 0   0.268013   0.254519   0.258047   28.372667  \n",
       "Topic 1  11.470978   3.868647   0.257356    0.272191  \n",
       "Topic 2   0.298942   0.253709   3.587666  114.462680  \n",
       "Topic 3   5.242850  34.585526  52.789595   42.206378  \n",
       "\n",
       "[4 rows x 4105 columns]"
      ]
     },
     "execution_count": 99,
     "metadata": {},
     "output_type": "execute_result"
    }
   ],
   "source": [
    "# Topic-Keyword Matrix\n",
    "df_topic_keywords = pd.DataFrame(best_lda_model.components_)\n",
    "\n",
    "# Assign Column and Index\n",
    "df_topic_keywords.columns = vectorizer.get_feature_names()\n",
    "df_topic_keywords.index = topicnames\n",
    "\n",
    "# View\n",
    "df_topic_keywords.head()"
   ]
  },
  {
   "cell_type": "markdown",
   "metadata": {},
   "source": [
    "# 16. Get the top 15 keywords each topic\n",
    "\n",
    "From the above output, we want to see the top 15 keywords that are representative of the topic.\n",
    "\n",
    "The show_topics() defined below creates that."
   ]
  },
  {
   "cell_type": "code",
   "execution_count": 100,
   "metadata": {},
   "outputs": [
    {
     "name": "stderr",
     "output_type": "stream",
     "text": [
      "C:\\Users\\Xinda\\AppData\\Local\\Programs\\Python\\Python39\\lib\\site-packages\\ipykernel\\ipkernel.py:283: DeprecationWarning: `should_run_async` will not call `transform_cell` automatically in the future. Please pass the result to `transformed_cell` argument and any exception that happen during thetransform in `preprocessing_exc_tuple` in IPython 7.17 and above.\n",
      "  and should_run_async(code)\n"
     ]
    },
    {
     "data": {
      "text/html": [
       "<div>\n",
       "<style scoped>\n",
       "    .dataframe tbody tr th:only-of-type {\n",
       "        vertical-align: middle;\n",
       "    }\n",
       "\n",
       "    .dataframe tbody tr th {\n",
       "        vertical-align: top;\n",
       "    }\n",
       "\n",
       "    .dataframe thead th {\n",
       "        text-align: right;\n",
       "    }\n",
       "</style>\n",
       "<table border=\"1\" class=\"dataframe\">\n",
       "  <thead>\n",
       "    <tr style=\"text-align: right;\">\n",
       "      <th></th>\n",
       "      <th>Word 0</th>\n",
       "      <th>Word 1</th>\n",
       "      <th>Word 2</th>\n",
       "      <th>Word 3</th>\n",
       "      <th>Word 4</th>\n",
       "      <th>Word 5</th>\n",
       "      <th>Word 6</th>\n",
       "      <th>Word 7</th>\n",
       "      <th>Word 8</th>\n",
       "      <th>Word 9</th>\n",
       "      <th>Word 10</th>\n",
       "      <th>Word 11</th>\n",
       "      <th>Word 12</th>\n",
       "      <th>Word 13</th>\n",
       "      <th>Word 14</th>\n",
       "    </tr>\n",
       "  </thead>\n",
       "  <tbody>\n",
       "    <tr>\n",
       "      <th>Topic 0</th>\n",
       "      <td>temer</td>\n",
       "      <td>deputar</td>\n",
       "      <td>presidente</td>\n",
       "      <td>governar</td>\n",
       "      <td>camara</td>\n",
       "      <td>policiar</td>\n",
       "      <td>federal</td>\n",
       "      <td>senador</td>\n",
       "      <td>pmdb</td>\n",
       "      <td>casar</td>\n",
       "      <td>senado</td>\n",
       "      <td>parlamentar</td>\n",
       "      <td>feirar</td>\n",
       "      <td>apo</td>\n",
       "      <td>denunciar</td>\n",
       "    </tr>\n",
       "    <tr>\n",
       "      <th>Topic 1</th>\n",
       "      <td>presidente</td>\n",
       "      <td>ministrar</td>\n",
       "      <td>decisao</td>\n",
       "      <td>temer</td>\n",
       "      <td>juiz</td>\n",
       "      <td>processar</td>\n",
       "      <td>jato</td>\n",
       "      <td>lavar</td>\n",
       "      <td>crime</td>\n",
       "      <td>condenar</td>\n",
       "      <td>morar</td>\n",
       "      <td>julgamento</td>\n",
       "      <td>afirmar</td>\n",
       "      <td>federal</td>\n",
       "      <td>pedir</td>\n",
       "    </tr>\n",
       "    <tr>\n",
       "      <th>Topic 2</th>\n",
       "      <td>pai</td>\n",
       "      <td>pessoa</td>\n",
       "      <td>politicar</td>\n",
       "      <td>brasileiro</td>\n",
       "      <td>ficar</td>\n",
       "      <td>publicar</td>\n",
       "      <td>passar</td>\n",
       "      <td>querer</td>\n",
       "      <td>governar</td>\n",
       "      <td>contar</td>\n",
       "      <td>direito</td>\n",
       "      <td>mulher</td>\n",
       "      <td>gente</td>\n",
       "      <td>social</td>\n",
       "      <td>cidade</td>\n",
       "    </tr>\n",
       "    <tr>\n",
       "      <th>Topic 3</th>\n",
       "      <td>presidente</td>\n",
       "      <td>pedir</td>\n",
       "      <td>afirmar</td>\n",
       "      <td>federal</td>\n",
       "      <td>odebrecht</td>\n",
       "      <td>dinheiro</td>\n",
       "      <td>empresar</td>\n",
       "      <td>lavar</td>\n",
       "      <td>jato</td>\n",
       "      <td>milhoes</td>\n",
       "      <td>propinar</td>\n",
       "      <td>ministrar</td>\n",
       "      <td>depoimento</td>\n",
       "      <td>campanha</td>\n",
       "      <td>delacao</td>\n",
       "    </tr>\n",
       "  </tbody>\n",
       "</table>\n",
       "</div>"
      ],
      "text/plain": [
       "             Word 0     Word 1      Word 2      Word 3     Word 4     Word 5  \\\n",
       "Topic 0       temer    deputar  presidente    governar     camara   policiar   \n",
       "Topic 1  presidente  ministrar     decisao       temer       juiz  processar   \n",
       "Topic 2         pai     pessoa   politicar  brasileiro      ficar   publicar   \n",
       "Topic 3  presidente      pedir     afirmar     federal  odebrecht   dinheiro   \n",
       "\n",
       "           Word 6   Word 7    Word 8    Word 9   Word 10      Word 11  \\\n",
       "Topic 0   federal  senador      pmdb     casar    senado  parlamentar   \n",
       "Topic 1      jato    lavar     crime  condenar     morar   julgamento   \n",
       "Topic 2    passar   querer  governar    contar   direito       mulher   \n",
       "Topic 3  empresar    lavar      jato   milhoes  propinar    ministrar   \n",
       "\n",
       "            Word 12   Word 13    Word 14  \n",
       "Topic 0      feirar       apo  denunciar  \n",
       "Topic 1     afirmar   federal      pedir  \n",
       "Topic 2       gente    social     cidade  \n",
       "Topic 3  depoimento  campanha    delacao  "
      ]
     },
     "execution_count": 100,
     "metadata": {},
     "output_type": "execute_result"
    }
   ],
   "source": [
    "# Show top n keywords for each topic\n",
    "def show_topics(vectorizer=vectorizer, lda_model=lda_model, n_words=20):\n",
    "    keywords = np.array(vectorizer.get_feature_names())\n",
    "    topic_keywords = []\n",
    "    for topic_weights in lda_model.components_:\n",
    "        top_keyword_locs = (-topic_weights).argsort()[:n_words]\n",
    "        topic_keywords.append(keywords.take(top_keyword_locs))\n",
    "    return topic_keywords\n",
    "\n",
    "\n",
    "topic_keywords = show_topics(\n",
    "    vectorizer=vectorizer, lda_model=best_lda_model, n_words=15\n",
    ")\n",
    "\n",
    "# Topic - Keywords Dataframe\n",
    "df_topic_keywords = pd.DataFrame(topic_keywords)\n",
    "df_topic_keywords.columns = [\n",
    "    \"Word \" + str(i) for i in range(df_topic_keywords.shape[1])\n",
    "]\n",
    "df_topic_keywords.index = [\"Topic \" + str(i) for i in range(df_topic_keywords.shape[0])]\n",
    "df_topic_keywords"
   ]
  },
  {
   "cell_type": "markdown",
   "metadata": {},
   "source": [
    "# 17. How to cluster documents that share similar topics and plot?\n",
    "\n",
    "We can use k-means clustering on the document-topic probabilioty matrix, which is nothing but lda_output object. Since out best model has N clusters, I’ve set n_clusters=N in KMeans().\n",
    "\n",
    "Alternately, you could avoid k-means and instead, assign the cluster as the topic column number with the highest probability score.\n",
    "\n",
    "We now have the cluster number. But we also need the X and Y columns to draw the plot.\n",
    "\n",
    "For the X and Y, you can use SVD on the lda_output object with n_components as 2. SVD ensures that these two columns captures the maximum possible amount of information from lda_output in the first 2 components."
   ]
  },
  {
   "cell_type": "code",
   "execution_count": 101,
   "metadata": {},
   "outputs": [
    {
     "name": "stdout",
     "output_type": "stream",
     "text": [
      "Component's weights: \n",
      " [[ 0.46  0.44  0.5   0.59]\n",
      " [-0.27 -0.06 -0.58  0.76]]\n",
      "Perc of Variance Explained: \n",
      " [0.   0.45]\n"
     ]
    },
    {
     "name": "stderr",
     "output_type": "stream",
     "text": [
      "C:\\Users\\Xinda\\AppData\\Local\\Programs\\Python\\Python39\\lib\\site-packages\\ipykernel\\ipkernel.py:283: DeprecationWarning: `should_run_async` will not call `transform_cell` automatically in the future. Please pass the result to `transformed_cell` argument and any exception that happen during thetransform in `preprocessing_exc_tuple` in IPython 7.17 and above.\n",
      "  and should_run_async(code)\n"
     ]
    }
   ],
   "source": [
    "# Construct the k-means clusters\n",
    "from sklearn.cluster import KMeans\n",
    "\n",
    "clusters = KMeans(n_clusters=4, random_state=100).fit_predict(lda_output)\n",
    "\n",
    "# Build the Singular Value Decomposition(SVD) model\n",
    "svd_model = TruncatedSVD(n_components=2)  # 2 components\n",
    "lda_output_svd = svd_model.fit_transform(lda_output)\n",
    "\n",
    "# X and Y axes of the plot using SVD decomposition\n",
    "x = lda_output_svd[:, 0]\n",
    "y = lda_output_svd[:, 1]\n",
    "\n",
    "# Weights for the 15 columns of lda_output, for each component\n",
    "print(\"Component's weights: \\n\", np.round(svd_model.components_, 2))\n",
    "\n",
    "# Percentage of total information in 'lda_output' explained by the two components\n",
    "print(\n",
    "    \"Perc of Variance Explained: \\n\", np.round(svd_model.explained_variance_ratio_, 2)\n",
    ")"
   ]
  },
  {
   "cell_type": "code",
   "execution_count": 102,
   "metadata": {},
   "outputs": [
    {
     "name": "stderr",
     "output_type": "stream",
     "text": [
      "C:\\Users\\Xinda\\AppData\\Local\\Programs\\Python\\Python39\\lib\\site-packages\\ipykernel\\ipkernel.py:283: DeprecationWarning: `should_run_async` will not call `transform_cell` automatically in the future. Please pass the result to `transformed_cell` argument and any exception that happen during thetransform in `preprocessing_exc_tuple` in IPython 7.17 and above.\n",
      "  and should_run_async(code)\n"
     ]
    },
    {
     "data": {
      "text/plain": [
       "array([1, 2, 3, ..., 0, 1, 1])"
      ]
     },
     "execution_count": 102,
     "metadata": {},
     "output_type": "execute_result"
    }
   ],
   "source": [
    "clusters"
   ]
  },
  {
   "cell_type": "code",
   "execution_count": 103,
   "metadata": {},
   "outputs": [
    {
     "name": "stderr",
     "output_type": "stream",
     "text": [
      "C:\\Users\\Xinda\\AppData\\Local\\Programs\\Python\\Python39\\lib\\site-packages\\ipykernel\\ipkernel.py:283: DeprecationWarning: `should_run_async` will not call `transform_cell` automatically in the future. Please pass the result to `transformed_cell` argument and any exception that happen during thetransform in `preprocessing_exc_tuple` in IPython 7.17 and above.\n",
      "  and should_run_async(code)\n"
     ]
    },
    {
     "data": {
      "image/png": "[encoded data removed]",
      "text/plain": [
       "<Figure size 864x864 with 1 Axes>"
      ]
     },
     "metadata": {
      "needs_background": "light"
     },
     "output_type": "display_data"
    }
   ],
   "source": [
    "# Plot\n",
    "import matplotlib.cm as cm\n",
    "\n",
    "plt.figure(figsize=(12, 12))\n",
    "ax = plt.scatter(x, y, c=clusters, cmap=cm.nipy_spectral)\n",
    "plt.xlabel(\"Component 2\")\n",
    "plt.xlabel(\"Component 1\")\n",
    "plt.title(\n",
    "    \"Segregation of Topic Clusters\",\n",
    ")\n",
    "plt.legend(*ax.legend_elements())\n",
    "\n",
    "plt.show()"
   ]
  },
  {
   "cell_type": "code",
   "execution_count": null,
   "metadata": {},
   "outputs": [],
   "source": []
  },
  {
   "cell_type": "markdown",
   "metadata": {},
   "source": [
    "# Fazendo uns gráficos da evolução dos tópicos pelo tempo"
   ]
  },
  {
   "cell_type": "code",
   "execution_count": 104,
   "metadata": {},
   "outputs": [
    {
     "name": "stderr",
     "output_type": "stream",
     "text": [
      "C:\\Users\\Xinda\\AppData\\Local\\Programs\\Python\\Python39\\lib\\site-packages\\ipykernel\\ipkernel.py:283: DeprecationWarning: `should_run_async` will not call `transform_cell` automatically in the future. Please pass the result to `transformed_cell` argument and any exception that happen during thetransform in `preprocessing_exc_tuple` in IPython 7.17 and above.\n",
      "  and should_run_async(code)\n"
     ]
    },
    {
     "data": {
      "text/html": [
       "<div>\n",
       "<style scoped>\n",
       "    .dataframe tbody tr th:only-of-type {\n",
       "        vertical-align: middle;\n",
       "    }\n",
       "\n",
       "    .dataframe tbody tr th {\n",
       "        vertical-align: top;\n",
       "    }\n",
       "\n",
       "    .dataframe thead th {\n",
       "        text-align: right;\n",
       "    }\n",
       "</style>\n",
       "<table border=\"1\" class=\"dataframe\">\n",
       "  <thead>\n",
       "    <tr style=\"text-align: right;\">\n",
       "      <th></th>\n",
       "      <th>Topic 0</th>\n",
       "      <th>Topic 1</th>\n",
       "      <th>Topic 2</th>\n",
       "      <th>Topic 3</th>\n",
       "      <th>dominant_topic</th>\n",
       "      <th>date</th>\n",
       "      <th>label</th>\n",
       "      <th>period</th>\n",
       "    </tr>\n",
       "  </thead>\n",
       "  <tbody>\n",
       "    <tr>\n",
       "      <th>Doc 0</th>\n",
       "      <td>0.67</td>\n",
       "      <td>0.01</td>\n",
       "      <td>0.32</td>\n",
       "      <td>0.01</td>\n",
       "      <td>0</td>\n",
       "      <td>2017-11-30</td>\n",
       "      <td>fake</td>\n",
       "      <td>2017-11</td>\n",
       "    </tr>\n",
       "    <tr>\n",
       "      <th>Doc 1</th>\n",
       "      <td>0.00</td>\n",
       "      <td>0.04</td>\n",
       "      <td>0.96</td>\n",
       "      <td>0.00</td>\n",
       "      <td>2</td>\n",
       "      <td>2017-11-24</td>\n",
       "      <td>fake</td>\n",
       "      <td>2017-11</td>\n",
       "    </tr>\n",
       "    <tr>\n",
       "      <th>Doc 2</th>\n",
       "      <td>0.03</td>\n",
       "      <td>0.16</td>\n",
       "      <td>0.17</td>\n",
       "      <td>0.64</td>\n",
       "      <td>3</td>\n",
       "      <td>2017-05-23</td>\n",
       "      <td>fake</td>\n",
       "      <td>2017-05</td>\n",
       "    </tr>\n",
       "    <tr>\n",
       "      <th>Doc 3</th>\n",
       "      <td>0.18</td>\n",
       "      <td>0.12</td>\n",
       "      <td>0.27</td>\n",
       "      <td>0.43</td>\n",
       "      <td>3</td>\n",
       "      <td>2017-07-24</td>\n",
       "      <td>fake</td>\n",
       "      <td>2017-07</td>\n",
       "    </tr>\n",
       "    <tr>\n",
       "      <th>Doc 4</th>\n",
       "      <td>0.01</td>\n",
       "      <td>0.01</td>\n",
       "      <td>0.94</td>\n",
       "      <td>0.05</td>\n",
       "      <td>2</td>\n",
       "      <td>2017-07-25</td>\n",
       "      <td>fake</td>\n",
       "      <td>2017-07</td>\n",
       "    </tr>\n",
       "    <tr>\n",
       "      <th>...</th>\n",
       "      <td>...</td>\n",
       "      <td>...</td>\n",
       "      <td>...</td>\n",
       "      <td>...</td>\n",
       "      <td>...</td>\n",
       "      <td>...</td>\n",
       "      <td>...</td>\n",
       "      <td>...</td>\n",
       "    </tr>\n",
       "    <tr>\n",
       "      <th>Doc 1713</th>\n",
       "      <td>0.00</td>\n",
       "      <td>0.13</td>\n",
       "      <td>0.87</td>\n",
       "      <td>0.00</td>\n",
       "      <td>2</td>\n",
       "      <td>2017-01-27</td>\n",
       "      <td>true</td>\n",
       "      <td>2017-01</td>\n",
       "    </tr>\n",
       "    <tr>\n",
       "      <th>Doc 1714</th>\n",
       "      <td>0.00</td>\n",
       "      <td>0.00</td>\n",
       "      <td>0.13</td>\n",
       "      <td>0.87</td>\n",
       "      <td>3</td>\n",
       "      <td>2017-06-30</td>\n",
       "      <td>true</td>\n",
       "      <td>2017-06</td>\n",
       "    </tr>\n",
       "    <tr>\n",
       "      <th>Doc 1715</th>\n",
       "      <td>0.11</td>\n",
       "      <td>0.46</td>\n",
       "      <td>0.43</td>\n",
       "      <td>0.00</td>\n",
       "      <td>1</td>\n",
       "      <td>2017-09-19</td>\n",
       "      <td>true</td>\n",
       "      <td>2017-09</td>\n",
       "    </tr>\n",
       "    <tr>\n",
       "      <th>Doc 1716</th>\n",
       "      <td>0.48</td>\n",
       "      <td>0.05</td>\n",
       "      <td>0.19</td>\n",
       "      <td>0.28</td>\n",
       "      <td>0</td>\n",
       "      <td>2017-07-28</td>\n",
       "      <td>true</td>\n",
       "      <td>2017-07</td>\n",
       "    </tr>\n",
       "    <tr>\n",
       "      <th>Doc 1717</th>\n",
       "      <td>0.66</td>\n",
       "      <td>0.34</td>\n",
       "      <td>0.00</td>\n",
       "      <td>0.00</td>\n",
       "      <td>0</td>\n",
       "      <td>2017-04-26</td>\n",
       "      <td>true</td>\n",
       "      <td>2017-04</td>\n",
       "    </tr>\n",
       "  </tbody>\n",
       "</table>\n",
       "<p>1718 rows × 8 columns</p>\n",
       "</div>"
      ],
      "text/plain": [
       "          Topic 0  Topic 1  Topic 2  Topic 3  dominant_topic       date label  \\\n",
       "Doc 0        0.67     0.01     0.32     0.01               0 2017-11-30  fake   \n",
       "Doc 1        0.00     0.04     0.96     0.00               2 2017-11-24  fake   \n",
       "Doc 2        0.03     0.16     0.17     0.64               3 2017-05-23  fake   \n",
       "Doc 3        0.18     0.12     0.27     0.43               3 2017-07-24  fake   \n",
       "Doc 4        0.01     0.01     0.94     0.05               2 2017-07-25  fake   \n",
       "...           ...      ...      ...      ...             ...        ...   ...   \n",
       "Doc 1713     0.00     0.13     0.87     0.00               2 2017-01-27  true   \n",
       "Doc 1714     0.00     0.00     0.13     0.87               3 2017-06-30  true   \n",
       "Doc 1715     0.11     0.46     0.43     0.00               1 2017-09-19  true   \n",
       "Doc 1716     0.48     0.05     0.19     0.28               0 2017-07-28  true   \n",
       "Doc 1717     0.66     0.34     0.00     0.00               0 2017-04-26  true   \n",
       "\n",
       "           period  \n",
       "Doc 0     2017-11  \n",
       "Doc 1     2017-11  \n",
       "Doc 2     2017-05  \n",
       "Doc 3     2017-07  \n",
       "Doc 4     2017-07  \n",
       "...           ...  \n",
       "Doc 1713  2017-01  \n",
       "Doc 1714  2017-06  \n",
       "Doc 1715  2017-09  \n",
       "Doc 1716  2017-07  \n",
       "Doc 1717  2017-04  \n",
       "\n",
       "[1718 rows x 8 columns]"
      ]
     },
     "execution_count": 104,
     "metadata": {},
     "output_type": "execute_result"
    }
   ],
   "source": [
    "#len(y)\n",
    "df_2017.index = df_document_topic.index\n",
    "df_document_topic.loc[:, 'date'] = df_2017['date']\n",
    "df_document_topic.loc[:, 'label'] = df_2017['label']\n",
    "df_document_topic[\"date\"] = pd.to_datetime(df[\"date\"], format=\"%Y-%m-%d\", errors=\"coerce\")\n",
    "df_document_topic[\"period\"] = df_document_topic[\"date\"].dt.to_period(\"m\")\n",
    "\n",
    "df_document_topic"
   ]
  },
  {
   "cell_type": "code",
   "execution_count": 108,
   "metadata": {},
   "outputs": [
    {
     "name": "stderr",
     "output_type": "stream",
     "text": [
      "C:\\Users\\Xinda\\AppData\\Local\\Programs\\Python\\Python39\\lib\\site-packages\\ipykernel\\ipkernel.py:283: DeprecationWarning: `should_run_async` will not call `transform_cell` automatically in the future. Please pass the result to `transformed_cell` argument and any exception that happen during thetransform in `preprocessing_exc_tuple` in IPython 7.17 and above.\n",
      "  and should_run_async(code)\n"
     ]
    },
    {
     "data": {
      "text/html": [
       "<div>\n",
       "<style scoped>\n",
       "    .dataframe tbody tr th:only-of-type {\n",
       "        vertical-align: middle;\n",
       "    }\n",
       "\n",
       "    .dataframe tbody tr th {\n",
       "        vertical-align: top;\n",
       "    }\n",
       "\n",
       "    .dataframe thead th {\n",
       "        text-align: right;\n",
       "    }\n",
       "</style>\n",
       "<table border=\"1\" class=\"dataframe\">\n",
       "  <thead>\n",
       "    <tr style=\"text-align: right;\">\n",
       "      <th></th>\n",
       "      <th></th>\n",
       "      <th>Topic 0</th>\n",
       "      <th>Topic 1</th>\n",
       "      <th>Topic 2</th>\n",
       "      <th>Topic 3</th>\n",
       "      <th>date</th>\n",
       "      <th>period</th>\n",
       "    </tr>\n",
       "    <tr>\n",
       "      <th>dominant_topic</th>\n",
       "      <th>label</th>\n",
       "      <th></th>\n",
       "      <th></th>\n",
       "      <th></th>\n",
       "      <th></th>\n",
       "      <th></th>\n",
       "      <th></th>\n",
       "    </tr>\n",
       "  </thead>\n",
       "  <tbody>\n",
       "    <tr>\n",
       "      <th rowspan=\"2\" valign=\"top\">0</th>\n",
       "      <th>fake</th>\n",
       "      <td>144</td>\n",
       "      <td>144</td>\n",
       "      <td>144</td>\n",
       "      <td>144</td>\n",
       "      <td>144</td>\n",
       "      <td>144</td>\n",
       "    </tr>\n",
       "    <tr>\n",
       "      <th>true</th>\n",
       "      <td>227</td>\n",
       "      <td>227</td>\n",
       "      <td>227</td>\n",
       "      <td>227</td>\n",
       "      <td>227</td>\n",
       "      <td>227</td>\n",
       "    </tr>\n",
       "    <tr>\n",
       "      <th rowspan=\"2\" valign=\"top\">1</th>\n",
       "      <th>fake</th>\n",
       "      <td>249</td>\n",
       "      <td>249</td>\n",
       "      <td>249</td>\n",
       "      <td>249</td>\n",
       "      <td>249</td>\n",
       "      <td>249</td>\n",
       "    </tr>\n",
       "    <tr>\n",
       "      <th>true</th>\n",
       "      <td>135</td>\n",
       "      <td>135</td>\n",
       "      <td>135</td>\n",
       "      <td>135</td>\n",
       "      <td>135</td>\n",
       "      <td>135</td>\n",
       "    </tr>\n",
       "    <tr>\n",
       "      <th rowspan=\"2\" valign=\"top\">2</th>\n",
       "      <th>fake</th>\n",
       "      <td>200</td>\n",
       "      <td>200</td>\n",
       "      <td>200</td>\n",
       "      <td>200</td>\n",
       "      <td>200</td>\n",
       "      <td>200</td>\n",
       "    </tr>\n",
       "    <tr>\n",
       "      <th>true</th>\n",
       "      <td>255</td>\n",
       "      <td>255</td>\n",
       "      <td>255</td>\n",
       "      <td>255</td>\n",
       "      <td>255</td>\n",
       "      <td>255</td>\n",
       "    </tr>\n",
       "    <tr>\n",
       "      <th rowspan=\"2\" valign=\"top\">3</th>\n",
       "      <th>fake</th>\n",
       "      <td>189</td>\n",
       "      <td>189</td>\n",
       "      <td>189</td>\n",
       "      <td>189</td>\n",
       "      <td>189</td>\n",
       "      <td>189</td>\n",
       "    </tr>\n",
       "    <tr>\n",
       "      <th>true</th>\n",
       "      <td>319</td>\n",
       "      <td>319</td>\n",
       "      <td>319</td>\n",
       "      <td>319</td>\n",
       "      <td>319</td>\n",
       "      <td>319</td>\n",
       "    </tr>\n",
       "  </tbody>\n",
       "</table>\n",
       "</div>"
      ],
      "text/plain": [
       "                      Topic 0  Topic 1  Topic 2  Topic 3  date  period\n",
       "dominant_topic label                                                  \n",
       "0              fake       144      144      144      144   144     144\n",
       "               true       227      227      227      227   227     227\n",
       "1              fake       249      249      249      249   249     249\n",
       "               true       135      135      135      135   135     135\n",
       "2              fake       200      200      200      200   200     200\n",
       "               true       255      255      255      255   255     255\n",
       "3              fake       189      189      189      189   189     189\n",
       "               true       319      319      319      319   319     319"
      ]
     },
     "execution_count": 108,
     "metadata": {},
     "output_type": "execute_result"
    }
   ],
   "source": [
    "df_document_topic.groupby(['dominant_topic', 'label']).count()"
   ]
  },
  {
   "cell_type": "code",
   "execution_count": 146,
   "metadata": {
    "scrolled": false
   },
   "outputs": [
    {
     "name": "stdout",
     "output_type": "stream",
     "text": [
      "dominant_topic\n",
      "0    371\n",
      "1    384\n",
      "2    455\n",
      "3    508\n",
      "Name: label, dtype: int64\n"
     ]
    },
    {
     "name": "stderr",
     "output_type": "stream",
     "text": [
      "C:\\Users\\Xinda\\AppData\\Local\\Programs\\Python\\Python39\\lib\\site-packages\\ipykernel\\ipkernel.py:283: DeprecationWarning: `should_run_async` will not call `transform_cell` automatically in the future. Please pass the result to `transformed_cell` argument and any exception that happen during thetransform in `preprocessing_exc_tuple` in IPython 7.17 and above.\n",
      "  and should_run_async(code)\n"
     ]
    },
    {
     "data": {
      "text/html": [
       "<div>\n",
       "<style scoped>\n",
       "    .dataframe tbody tr th:only-of-type {\n",
       "        vertical-align: middle;\n",
       "    }\n",
       "\n",
       "    .dataframe tbody tr th {\n",
       "        vertical-align: top;\n",
       "    }\n",
       "\n",
       "    .dataframe thead th {\n",
       "        text-align: right;\n",
       "    }\n",
       "</style>\n",
       "<table border=\"1\" class=\"dataframe\">\n",
       "  <thead>\n",
       "    <tr style=\"text-align: right;\">\n",
       "      <th></th>\n",
       "      <th>dominant_topic</th>\n",
       "      <th>label</th>\n",
       "      <th>period</th>\n",
       "      <th>Topic 0</th>\n",
       "    </tr>\n",
       "  </thead>\n",
       "  <tbody>\n",
       "    <tr>\n",
       "      <th>0</th>\n",
       "      <td>0</td>\n",
       "      <td>fake</td>\n",
       "      <td>2017-01</td>\n",
       "      <td>5.660377</td>\n",
       "    </tr>\n",
       "    <tr>\n",
       "      <th>1</th>\n",
       "      <td>0</td>\n",
       "      <td>fake</td>\n",
       "      <td>2017-02</td>\n",
       "      <td>4.582210</td>\n",
       "    </tr>\n",
       "    <tr>\n",
       "      <th>2</th>\n",
       "      <td>0</td>\n",
       "      <td>fake</td>\n",
       "      <td>2017-03</td>\n",
       "      <td>3.234501</td>\n",
       "    </tr>\n",
       "    <tr>\n",
       "      <th>3</th>\n",
       "      <td>0</td>\n",
       "      <td>fake</td>\n",
       "      <td>2017-04</td>\n",
       "      <td>3.773585</td>\n",
       "    </tr>\n",
       "    <tr>\n",
       "      <th>4</th>\n",
       "      <td>0</td>\n",
       "      <td>fake</td>\n",
       "      <td>2017-05</td>\n",
       "      <td>5.121294</td>\n",
       "    </tr>\n",
       "    <tr>\n",
       "      <th>...</th>\n",
       "      <td>...</td>\n",
       "      <td>...</td>\n",
       "      <td>...</td>\n",
       "      <td>...</td>\n",
       "    </tr>\n",
       "    <tr>\n",
       "      <th>91</th>\n",
       "      <td>3</td>\n",
       "      <td>true</td>\n",
       "      <td>2017-08</td>\n",
       "      <td>3.543307</td>\n",
       "    </tr>\n",
       "    <tr>\n",
       "      <th>92</th>\n",
       "      <td>3</td>\n",
       "      <td>true</td>\n",
       "      <td>2017-09</td>\n",
       "      <td>9.448819</td>\n",
       "    </tr>\n",
       "    <tr>\n",
       "      <th>93</th>\n",
       "      <td>3</td>\n",
       "      <td>true</td>\n",
       "      <td>2017-10</td>\n",
       "      <td>2.952756</td>\n",
       "    </tr>\n",
       "    <tr>\n",
       "      <th>94</th>\n",
       "      <td>3</td>\n",
       "      <td>true</td>\n",
       "      <td>2017-11</td>\n",
       "      <td>3.149606</td>\n",
       "    </tr>\n",
       "    <tr>\n",
       "      <th>95</th>\n",
       "      <td>3</td>\n",
       "      <td>true</td>\n",
       "      <td>2017-12</td>\n",
       "      <td>4.527559</td>\n",
       "    </tr>\n",
       "  </tbody>\n",
       "</table>\n",
       "<p>96 rows × 4 columns</p>\n",
       "</div>"
      ],
      "text/plain": [
       "   dominant_topic label   period   Topic 0\n",
       "0               0  fake  2017-01  5.660377\n",
       "1               0  fake  2017-02  4.582210\n",
       "2               0  fake  2017-03  3.234501\n",
       "3               0  fake  2017-04  3.773585\n",
       "4               0  fake  2017-05  5.121294\n",
       "..            ...   ...      ...       ...\n",
       "91              3  true  2017-08  3.543307\n",
       "92              3  true  2017-09  9.448819\n",
       "93              3  true  2017-10  2.952756\n",
       "94              3  true  2017-11  3.149606\n",
       "95              3  true  2017-12  4.527559\n",
       "\n",
       "[96 rows x 4 columns]"
      ]
     },
     "execution_count": 146,
     "metadata": {},
     "output_type": "execute_result"
    }
   ],
   "source": [
    "print(df_document_topic.groupby(['dominant_topic']).count()['label'])\n",
    "\n",
    "df_2 = df_document_topic.copy()\n",
    "df_3 = pd.DataFrame(columns=['dominant_topic', 'label', 'period', 'Topic 0'])\n",
    "for i in range(0,4):\n",
    "    df_ = df_2[df_2['dominant_topic'] == i].groupby(['dominant_topic', 'label', 'period']).count().reset_index()[['dominant_topic', 'label', 'period', 'Topic 0']]\n",
    "    df_['Topic 0'] = df_['Topic 0'] * 100 / df_['Topic 0'].sum()\n",
    "    df_3 = df_3.append(df_, ignore_index=True)\n",
    "\n",
    "df_3"
   ]
  },
  {
   "cell_type": "code",
   "execution_count": 150,
   "metadata": {
    "scrolled": false
   },
   "outputs": [
    {
     "name": "stderr",
     "output_type": "stream",
     "text": [
      "C:\\Users\\Xinda\\AppData\\Local\\Programs\\Python\\Python39\\lib\\site-packages\\ipykernel\\ipkernel.py:283: DeprecationWarning: `should_run_async` will not call `transform_cell` automatically in the future. Please pass the result to `transformed_cell` argument and any exception that happen during thetransform in `preprocessing_exc_tuple` in IPython 7.17 and above.\n",
      "  and should_run_async(code)\n"
     ]
    },
    {
     "data": {
      "image/png": "[encoded data removed]",
      "text/plain": [
       "<Figure size 1152x504 with 1 Axes>"
      ]
     },
     "metadata": {
      "needs_background": "light"
     },
     "output_type": "display_data"
    }
   ],
   "source": [
    "i = -0.5\n",
    "for l in ['true', 'fake']:\n",
    "    if l == 'true':\n",
    "        d = {0: \"darkgreen\", 1: \"darkred\", 2: \"darkblue\"}\n",
    "        line = '-'\n",
    "    else:\n",
    "        d = {0: \"lightgreen\", 1: \"indianred\", 2: \"royalblue\"}\n",
    "        line = '--'\n",
    "    d = {0: \"darkgreen\", 1: \"darkred\", 2: \"darkblue\", 3:'cyan'}\n",
    "    for k, c in d.items():\n",
    "        i += 1\n",
    "        ax = (\n",
    "            df_3[(df_3[\"dominant_topic\"] == k) & (df_3['label'] == l)][['period', 'Topic 0']]\n",
    "            .groupby('period')['Topic 0']\n",
    "            .sum()\n",
    "            .plot(\n",
    "                figsize=(16, 7),\n",
    "                label='topic ' + str(k) + ' ' + l,\n",
    "                alpha=0.99,\n",
    "                rot=50,\n",
    "                legend=True,\n",
    "                linestyle=line,\n",
    "                color=c\n",
    "                )\n",
    "            )\n",
    "plt.show()"
   ]
  },
  {
   "cell_type": "code",
   "execution_count": 158,
   "metadata": {},
   "outputs": [
    {
     "name": "stderr",
     "output_type": "stream",
     "text": [
      "C:\\Users\\Xinda\\AppData\\Local\\Programs\\Python\\Python39\\lib\\site-packages\\ipykernel\\ipkernel.py:283: DeprecationWarning: `should_run_async` will not call `transform_cell` automatically in the future. Please pass the result to `transformed_cell` argument and any exception that happen during thetransform in `preprocessing_exc_tuple` in IPython 7.17 and above.\n",
      "  and should_run_async(code)\n"
     ]
    },
    {
     "data": {
      "text/plain": [
       "period\n",
       "2017-01     4.527559\n",
       "2017-02     4.724409\n",
       "2017-03     7.874016\n",
       "2017-04    12.598425\n",
       "2017-05    21.259843\n",
       "2017-06    12.992126\n",
       "2017-07     3.740157\n",
       "2017-08     4.527559\n",
       "2017-09    13.976378\n",
       "2017-10     4.330709\n",
       "2017-11     3.937008\n",
       "2017-12     5.511811\n",
       "Freq: M, Name: Topic 0, dtype: float64"
      ]
     },
     "execution_count": 158,
     "metadata": {},
     "output_type": "execute_result"
    }
   ],
   "source": [
    "df_3[(df_3[\"dominant_topic\"] == k)][['period', 'label', 'Topic 0']].groupby('period')['Topic 0'].sum()"
   ]
  },
  {
   "cell_type": "code",
   "execution_count": 164,
   "metadata": {},
   "outputs": [
    {
     "name": "stderr",
     "output_type": "stream",
     "text": [
      "C:\\Users\\Xinda\\AppData\\Local\\Programs\\Python\\Python39\\lib\\site-packages\\ipykernel\\ipkernel.py:283: DeprecationWarning: `should_run_async` will not call `transform_cell` automatically in the future. Please pass the result to `transformed_cell` argument and any exception that happen during thetransform in `preprocessing_exc_tuple` in IPython 7.17 and above.\n",
      "  and should_run_async(code)\n"
     ]
    },
    {
     "data": {
      "image/png": "[encoded data removed]",
      "text/plain": [
       "<Figure size 1152x504 with 1 Axes>"
      ]
     },
     "metadata": {
      "needs_background": "light"
     },
     "output_type": "display_data"
    }
   ],
   "source": [
    "df_document_topic[\"date\"] = pd.to_datetime(df[\"date\"], format=\"%Y-%m-%d\", errors=\"coerce\")\n",
    "df_document_topic[\"period\"] = df_document_topic[\"date\"].dt.to_period(\"m\")\n",
    "\n",
    "i = -0.5\n",
    "\n",
    "d = {0: \"darkgreen\", 1: \"darkred\", 2: \"darkblue\", 3:'cyan'}\n",
    "line = '-'\n",
    "for k, c in d.items():\n",
    "    i += 1\n",
    "    ax = (\n",
    "        df_3[(df_3[\"dominant_topic\"] == k)][['period', 'label', 'Topic 0']]\n",
    "        .groupby(\"period\")[\"Topic 0\"]\n",
    "        .sum()\n",
    "        .plot(\n",
    "            figsize=(16, 7),\n",
    "            label='topic ' + str(k),\n",
    "            alpha=0.99,\n",
    "            rot=50,\n",
    "            legend=True,\n",
    "            linestyle=line,\n",
    "            color=c\n",
    "            )\n",
    "        )\n",
    "ax.set_ylabel(\"% of documents per topic\")\n",
    "plt.show()"
   ]
  },
  {
   "cell_type": "code",
   "execution_count": null,
   "metadata": {},
   "outputs": [],
   "source": []
  }
 ],
 "metadata": {
  "interpreter": {
   "hash": "5fc39119fb53716d71d336af58d9742de59e9604ecf17036cb692bed5894ed0e"
  },
  "kernelspec": {
   "display_name": "Python 3",
   "language": "python",
   "name": "python3"
  },
  "language_info": {
   "codemirror_mode": {
    "name": "ipython",
    "version": 3
   },
   "file_extension": ".py",
   "mimetype": "text/x-python",
   "name": "python",
   "nbconvert_exporter": "python",
   "pygments_lexer": "ipython3",
   "version": "3.9.5"
  }
 },
 "nbformat": 4,
 "nbformat_minor": 2
}

{
 "cells": [
  {
   "cell_type": "code",
   "execution_count": 69,
   "id": "9f040db6",
   "metadata": {},
   "outputs": [],
   "source": [
    "import pandas as pd\n",
    "import numpy as np\n",
    "from datetime import datetime\n",
    "import os\n",
    "\n",
    "from sklearn.feature_extraction.text import CountVectorizer"
   ]
  },
  {
   "cell_type": "code",
   "execution_count": 20,
   "id": "2f289fc8",
   "metadata": {},
   "outputs": [
    {
     "name": "stdout",
     "output_type": "stream",
     "text": [
      "Kátia Abreu diz que vai colocar sua expulsão em uma moldura, mas não para de reclamar.\t\n",
      "\n",
      "A senadora Kátia Abreu (sem partido-TO) disse que sua expulsão do PMDB foi resultado de uma ação da cúpula atual da legenda que, segundo ela, é oportunista.\n",
      "\n",
      "“Amanhã eu vou botar numa moldura dourada a minha expulsão, porque das mãos de onde veio, é um atestado de boa conduta para o meu currículo. Essas pessoas que me expulsaram não servem ao país. Eles se servem do país em seus benefícios próprios”, disse Kátia Abreu.\n",
      "\n",
      "Ué, mas se a expulsão é algo tão bom para seu currículo, por que tanta choradeira, Kátia?\n",
      "\n",
      "Sabemos o motivo. Provavelmente Kátia não tem valor para o PT, partido que já deveria tê-la absorvido. Ao que parece o PT gostava de Kátia somente se ela ficasse entrincheirada dentro do PMDB.\n",
      "\n",
      "Ou seja, isso é se rebaixar demais. Resta a Kátia ficar chorando as pitangas por todos os cantos.\n",
      "\n",
      "Em tempo: até o momento o PT não cadastrou Kátia Abreu em suas fileiras. Que situação patética para a ex-ministra da Agricultura de Dilma.\n"
     ]
    }
   ],
   "source": [
    "fake_texts = os.listdir('full_texts/fake')\n",
    "true_texts = os.listdir('full_texts/true')\n",
    "\n",
    "for t in fake_texts:\n",
    "    with open('full_texts/fake/' + t, 'r', encoding='utf-8') as f:\n",
    "        text = f.read() # texto como única string\n",
    "        #text = f.readline() # le linha por linha\n",
    "        #text = f.readlines() # le todas as linhas e bota numa lista\n",
    "        f.close()\n",
    "    print(text)\n",
    "    break"
   ]
  },
  {
   "cell_type": "code",
   "execution_count": 115,
   "id": "b134027d",
   "metadata": {},
   "outputs": [],
   "source": [
    "'''\n",
    "META-INFORMATION FILES\n",
    "0  author\n",
    "1  link\n",
    "2  category\n",
    "3  date of publication\n",
    "4  number of tokens\n",
    "5  number of words without punctuation\n",
    "6  number of types\n",
    "7  number of links inside the news\n",
    "8  number of words in upper case\n",
    "9  number of verbs\n",
    "10 number of subjuntive and imperative verbs\n",
    "11 number of nouns\n",
    "12 number of adjectives\n",
    "13 number of adverbs\n",
    "14 number of modal verbs (mainly auxiliary verbs)\n",
    "15 number of singular first and second personal pronouns\n",
    "16 number of plural first personal pronouns\n",
    "17 number of pronouns\n",
    "18 pausality\n",
    "19 number of characters\n",
    "20 average sentence length\n",
    "21 average word length\n",
    "22 percentage of news with speeling errors\n",
    "23 emotiveness\n",
    "24 diversity'''\n",
    "\n",
    "fake_info = os.listdir('full_texts/fake-meta-information')\n",
    "true_info = os.listdir('full_texts/true-meta-information')\n",
    "\n",
    "i = 0\n",
    "label = 'fake'\n",
    "df = pd.DataFrame()\n",
    "\n",
    "# para cada pasta\n",
    "for files in [fake_info, true_info]:\n",
    "    # le cada um dos arquivos\n",
    "    for file in files:\n",
    "        with open('full_texts/'+ label +'-meta-information/' + file, 'r', encoding='utf-8') as f:\n",
    "            #text = f.read() # texto como única string\n",
    "            #text = f.readline() # le linha por linha\n",
    "            text = f.readlines() # le todas as linhas e bota numa lista\n",
    "            f.close()\n",
    "            \n",
    "        # salva essas informações\n",
    "        df.loc[i, 'label'] = label\n",
    "        df.loc[i, 'file'] = file\n",
    "        df.loc[i, 'category'] = text[2].replace('\\n', '')\n",
    "        df.loc[i, 'emotiveness'] = float(text[23].replace('\\n', ''))\n",
    "        df.loc[i, 'errors'] = float(text[22].replace('\\n', ''))\n",
    "        \n",
    "        # hate the bad formating not the player\n",
    "        try:\n",
    "            # formatação padrao ingles\n",
    "            df.loc[i, 'date'] = datetime.strptime(text[3].replace('\\n', '').split(' ')[0], '%Y-%m-%d').date()\n",
    "        except:\n",
    "            try:\n",
    "                # esse segue a formatação brasileira\n",
    "                df.loc[i, 'date'] = datetime.strptime(text[3].replace('\\n', '').split(' ')[0], '%d/%m/%Y').date()\n",
    "            except:\n",
    "                try:\n",
    "                    # esse é pq tem data com um espaço antes da data, ai o split da ruim\n",
    "                    # o slipt[0] é necessário pq tem data solo e data com algum formato de hora logo após\n",
    "                    df.loc[i, 'date'] = datetime.strptime(text[3].replace('\\n', '').split(' ')[1], '%d/%m/%Y').date()\n",
    "                except:\n",
    "                    # esse foi pq cansei, algum arquivo deu q '16' não é um date pra converter, teria que ver a formatação desse arquivo\n",
    "                    df.loc[i, 'date'] = np.nan\n",
    "        i += 1\n",
    "    label = 'true'"
   ]
  },
  {
   "cell_type": "code",
   "execution_count": 116,
   "id": "ec000d62",
   "metadata": {},
   "outputs": [
    {
     "name": "stdout",
     "output_type": "stream",
     "text": [
      "(7200, 6)\n"
     ]
    },
    {
     "data": {
      "text/plain": [
       "label                   fake\n",
       "file           2098-meta.txt\n",
       "category            politica\n",
       "emotiveness         0.129412\n",
       "errors                   0.0\n",
       "date              2016-10-06\n",
       "Name: 1220, dtype: object"
      ]
     },
     "execution_count": 116,
     "metadata": {},
     "output_type": "execute_result"
    }
   ],
   "source": [
    "print(df.shape)\n",
    "df.iloc[1220, :].head(200)"
   ]
  },
  {
   "cell_type": "code",
   "execution_count": 117,
   "id": "e4d78699",
   "metadata": {},
   "outputs": [
    {
     "data": {
      "text/html": [
       "<div>\n",
       "<style scoped>\n",
       "    .dataframe tbody tr th:only-of-type {\n",
       "        vertical-align: middle;\n",
       "    }\n",
       "\n",
       "    .dataframe tbody tr th {\n",
       "        vertical-align: top;\n",
       "    }\n",
       "\n",
       "    .dataframe thead th {\n",
       "        text-align: right;\n",
       "    }\n",
       "</style>\n",
       "<table border=\"1\" class=\"dataframe\">\n",
       "  <thead>\n",
       "    <tr style=\"text-align: right;\">\n",
       "      <th></th>\n",
       "      <th>label</th>\n",
       "      <th>file</th>\n",
       "      <th>category</th>\n",
       "      <th>emotiveness</th>\n",
       "      <th>errors</th>\n",
       "      <th>date</th>\n",
       "    </tr>\n",
       "  </thead>\n",
       "  <tbody>\n",
       "    <tr>\n",
       "      <th>247</th>\n",
       "      <td>fake</td>\n",
       "      <td>1220-meta.txt</td>\n",
       "      <td>tv_celebridades</td>\n",
       "      <td>0.194030</td>\n",
       "      <td>0.015038</td>\n",
       "      <td>2017-05-21</td>\n",
       "    </tr>\n",
       "    <tr>\n",
       "      <th>3847</th>\n",
       "      <td>true</td>\n",
       "      <td>1220-meta.txt</td>\n",
       "      <td>tv_celebridades</td>\n",
       "      <td>0.174286</td>\n",
       "      <td>0.001259</td>\n",
       "      <td>2018-03-14</td>\n",
       "    </tr>\n",
       "  </tbody>\n",
       "</table>\n",
       "</div>"
      ],
      "text/plain": [
       "     label           file         category  emotiveness    errors        date\n",
       "247   fake  1220-meta.txt  tv_celebridades     0.194030  0.015038  2017-05-21\n",
       "3847  true  1220-meta.txt  tv_celebridades     0.174286  0.001259  2018-03-14"
      ]
     },
     "execution_count": 117,
     "metadata": {},
     "output_type": "execute_result"
    }
   ],
   "source": [
    "df[df['file'].str.contains('1220')].head()"
   ]
  },
  {
   "cell_type": "code",
   "execution_count": 84,
   "id": "9167df67",
   "metadata": {},
   "outputs": [],
   "source": [
    "# 3600 fake e 3600 true\n",
    "data = pd.read_csv('preprocessed/pre-processed.csv')"
   ]
  },
  {
   "cell_type": "code",
   "execution_count": 94,
   "id": "f59ebe61",
   "metadata": {},
   "outputs": [
    {
     "data": {
      "text/html": [
       "<div>\n",
       "<style scoped>\n",
       "    .dataframe tbody tr th:only-of-type {\n",
       "        vertical-align: middle;\n",
       "    }\n",
       "\n",
       "    .dataframe tbody tr th {\n",
       "        vertical-align: top;\n",
       "    }\n",
       "\n",
       "    .dataframe thead th {\n",
       "        text-align: right;\n",
       "    }\n",
       "</style>\n",
       "<table border=\"1\" class=\"dataframe\">\n",
       "  <thead>\n",
       "    <tr style=\"text-align: right;\">\n",
       "      <th></th>\n",
       "      <th>index</th>\n",
       "      <th>label</th>\n",
       "      <th>preprocessed_news</th>\n",
       "    </tr>\n",
       "  </thead>\n",
       "  <tbody>\n",
       "    <tr>\n",
       "      <th>1220</th>\n",
       "      <td>1220</td>\n",
       "      <td>fake</td>\n",
       "      <td>relatorio pf aponta lula recebeu vantagens obr...</td>\n",
       "    </tr>\n",
       "  </tbody>\n",
       "</table>\n",
       "</div>"
      ],
      "text/plain": [
       "      index label                                  preprocessed_news\n",
       "1220   1220  fake  relatorio pf aponta lula recebeu vantagens obr..."
      ]
     },
     "execution_count": 94,
     "metadata": {},
     "output_type": "execute_result"
    }
   ],
   "source": [
    "data[data['index'] == 1220].head()\n",
    "\n",
    "### ATENÇÃO ###\n",
    "## os index do arquivo pre-processed não batem com os da pasta full_text, tanto o arquivo cru quanto o meta-information\n",
    "\n",
    "## Vamos ter q ver como fazer com os index, pq os arquivos vão do 1 ao 3601 ou 2 acho\n",
    "## o pre-processing vai do 0 ao 7200, sendo primeiros todos os fakes, e depois vem os trues, porém, o 1220 do preprocessing\n",
    "## não bate com o 1220 do fake, o que deveria se eles seguissem a ordem dos arquivos.\n",
    "\n",
    "## talvez precisaremos fazer a redução de todos os arquivos de novo na mão, sem confiar nesse pre-processed, ai usamos as info\n",
    "## de data, label e etc, fazemos a redução, deixamos tudo certinho, e dps fazemos o resto das análise"
   ]
  },
  {
   "cell_type": "code",
   "execution_count": null,
   "id": "a7938f6d",
   "metadata": {},
   "outputs": [],
   "source": []
  }
 ],
 "metadata": {
  "kernelspec": {
   "display_name": "Python 3",
   "language": "python",
   "name": "python3"
  },
  "language_info": {
   "codemirror_mode": {
    "name": "ipython",
    "version": 3
   },
   "file_extension": ".py",
   "mimetype": "text/x-python",
   "name": "python",
   "nbconvert_exporter": "python",
   "pygments_lexer": "ipython3",
   "version": "3.9.5"
  }
 },
 "nbformat": 4,
 "nbformat_minor": 5
}

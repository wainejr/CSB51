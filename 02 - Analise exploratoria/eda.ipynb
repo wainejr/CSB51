{
 "cells": [
  {
   "cell_type": "code",
   "execution_count": 24,
   "metadata": {},
   "outputs": [
    {
     "data": {
      "text/html": [
       "        <script type=\"text/javascript\">\n",
       "        window.PlotlyConfig = {MathJaxConfig: 'local'};\n",
       "        if (window.MathJax) {MathJax.Hub.Config({SVG: {font: \"STIX-Web\"}});}\n",
       "        if (typeof require !== 'undefined') {\n",
       "        require.undef(\"plotly\");\n",
       "        requirejs.config({\n",
       "            paths: {\n",
       "                'plotly': ['https://cdn.plot.ly/plotly-2.2.0.min']\n",
       "            }\n",
       "        });\n",
       "        require(['plotly'], function(Plotly) {\n",
       "            window._Plotly = Plotly;\n",
       "        });\n",
       "        }\n",
       "        </script>\n",
       "        "
      ]
     },
     "metadata": {},
     "output_type": "display_data"
    }
   ],
   "source": [
    "import pandas as pd\n",
    "pd.set_option('display.max_rows', None)\n",
    "from textblob import TextBlob\n",
    "import cufflinks as cf\n",
    "cf.go_offline()\n",
    "cf.set_config_file(offline=False, world_readable=True)\n",
    "from nltk import FreqDist\n",
    "from nltk.corpus import stopwords\n",
    "from wordcloud import WordCloud\n",
    "from sklearn.feature_extraction.text import CountVectorizer \n",
    "import matplotlib.pyplot as plt\n",
    "import unidecode\n",
    "\n",
    "def get_top_n_words(corpus, n=None):\n",
    "  vec = CountVectorizer().fit(corpus)\n",
    "  bag_of_words = vec.transform(corpus)\n",
    "  sum_words = bag_of_words.sum(axis=0) \n",
    "  words_freq = [(word, sum_words[0, idx]) for word, idx in vec.vocabulary_.items()]\n",
    "  words_freq = sorted(words_freq, key = lambda x: x[1], reverse=True)\n",
    "  return words_freq[:n]"
   ]
  },
  {
   "cell_type": "code",
   "execution_count": 11,
   "metadata": {},
   "outputs": [
    {
     "data": {
      "text/html": [
       "<div>\n",
       "<style scoped>\n",
       "    .dataframe tbody tr th:only-of-type {\n",
       "        vertical-align: middle;\n",
       "    }\n",
       "\n",
       "    .dataframe tbody tr th {\n",
       "        vertical-align: top;\n",
       "    }\n",
       "\n",
       "    .dataframe thead th {\n",
       "        text-align: right;\n",
       "    }\n",
       "</style>\n",
       "<table border=\"1\" class=\"dataframe\">\n",
       "  <thead>\n",
       "    <tr style=\"text-align: right;\">\n",
       "      <th></th>\n",
       "      <th>label</th>\n",
       "      <th>preprocessed_news</th>\n",
       "    </tr>\n",
       "  </thead>\n",
       "  <tbody>\n",
       "    <tr>\n",
       "      <th>4335</th>\n",
       "      <td>true</td>\n",
       "      <td>video palocci descreve passo passo esquema pro...</td>\n",
       "    </tr>\n",
       "    <tr>\n",
       "      <th>248</th>\n",
       "      <td>fake</td>\n",
       "      <td>datena completa anos recebe homenagem familia ...</td>\n",
       "    </tr>\n",
       "    <tr>\n",
       "      <th>316</th>\n",
       "      <td>fake</td>\n",
       "      <td>metro toquio paralisou operacoes apos ameaca m...</td>\n",
       "    </tr>\n",
       "    <tr>\n",
       "      <th>3748</th>\n",
       "      <td>true</td>\n",
       "      <td>fachin vota continuar frente investigacoes del...</td>\n",
       "    </tr>\n",
       "    <tr>\n",
       "      <th>5580</th>\n",
       "      <td>true</td>\n",
       "      <td>presidente michel temer viajou russia noruega ...</td>\n",
       "    </tr>\n",
       "  </tbody>\n",
       "</table>\n",
       "</div>"
      ],
      "text/plain": [
       "     label                                  preprocessed_news\n",
       "4335  true  video palocci descreve passo passo esquema pro...\n",
       "248   fake  datena completa anos recebe homenagem familia ...\n",
       "316   fake  metro toquio paralisou operacoes apos ameaca m...\n",
       "3748  true  fachin vota continuar frente investigacoes del...\n",
       "5580  true  presidente michel temer viajou russia noruega ..."
      ]
     },
     "execution_count": 11,
     "metadata": {},
     "output_type": "execute_result"
    }
   ],
   "source": [
    "df = pd.read_csv('../pre-processed.csv')\n",
    "df.drop(columns=['index'], inplace=True)\n",
    "df.sample(20).head()"
   ]
  },
  {
   "cell_type": "code",
   "execution_count": 12,
   "metadata": {},
   "outputs": [],
   "source": [
    "def remove_accents(input_str):\n",
    "    only_ascii = unidecode.unidecode(input_str)\n",
    "    return only_ascii\n",
    "\n",
    "stops = list(set(stopwords.words('portuguese')))\n",
    "for i in range(0, len(stops)):\n",
    "  stops[i] = remove_accents(stops[i])\n",
    "\n",
    "def remove_stopwords(text):\n",
    "  words = text.split()\n",
    "  words = [word for word in words if word not in stops]\n",
    "  return ' '.join(words)\n",
    "\n",
    "df['preprocessed_news'] = df['preprocessed_news'].apply(remove_stopwords)\n",
    "df['review_length'] = df['preprocessed_news'].apply(lambda x: len(str(x)))\n",
    "df['word_count'] = df['preprocessed_news'].apply(lambda x: len(str(x).split()))"
   ]
  },
  {
   "cell_type": "code",
   "execution_count": 140,
   "metadata": {},
   "outputs": [],
   "source": [
    "df['polarity'] = df['preprocessed_news'].map(lambda text: TextBlob(text).sentiment.polarity)"
   ]
  },
  {
   "cell_type": "code",
   "execution_count": null,
   "metadata": {},
   "outputs": [],
   "source": [
    "df['polarity'].iplot(\n",
    "  kind='hist',\n",
    "  bins=50,\n",
    "  xTitle='polarity',\n",
    "  linecolor='black',\n",
    "  yTitle='count',\n",
    "  title='Sentiment Polarity Distribution')"
   ]
  },
  {
   "cell_type": "code",
   "execution_count": null,
   "metadata": {},
   "outputs": [],
   "source": [
    "words = df.loc[df['label'] == 'fake']['preprocessed_news']\n",
    "allwords = []\n",
    "for wordlist in words:\n",
    "  allwords += wordlist.split()\n",
    "\n",
    "mostcommon = FreqDist(allwords).most_common(100)\n",
    "\n",
    "wordcloud = WordCloud(width=1600, height=800, background_color='white').generate(str(mostcommon))\n",
    "fig = plt.figure(figsize=(30,10), facecolor='white')\n",
    "plt.imshow(wordcloud, interpolation=\"bilinear\")\n",
    "plt.axis('off')\n",
    "plt.title('Top 100 Words in Fake News', fontsize=100)\n",
    "plt.tight_layout(pad=0)\n",
    "plt.show()\n"
   ]
  },
  {
   "cell_type": "code",
   "execution_count": null,
   "metadata": {},
   "outputs": [],
   "source": [
    "common_words_fake = get_top_n_words(df.loc[df['label'] == 'fake']['preprocessed_news'], 20)\n",
    "df2 = pd.DataFrame(common_words_fake, columns = ['preprocessed_news' , 'count'])\n",
    "df2.groupby('preprocessed_news').sum()['count'].sort_values(ascending=False).iplot(\n",
    "    kind='bar', \n",
    "    yTitle='Count', \n",
    "    linecolor='black', \n",
    "    title='Top 20 words in fake news')"
   ]
  },
  {
   "cell_type": "code",
   "execution_count": null,
   "metadata": {},
   "outputs": [],
   "source": [
    "words_true = df.loc[df['label'] == 'true']['preprocessed_news']\n",
    "allwords_true = []\n",
    "for wordlist_true in words_true:\n",
    "  allwords_true += wordlist_true.split()\n",
    "\n",
    "mostcommon_true = FreqDist(allwords_true).most_common(100)\n",
    "\n",
    "wordcloud_true = WordCloud(width=1600, height=800, background_color='white').generate(str(mostcommon_true))\n",
    "fig = plt.figure(figsize=(30,10), facecolor='white')\n",
    "plt.imshow(wordcloud_true, interpolation=\"bilinear\")\n",
    "plt.axis('off')\n",
    "plt.title('Top 100 Words in True News', fontsize=100)\n",
    "plt.tight_layout(pad=0)\n",
    "plt.show()\n"
   ]
  },
  {
   "cell_type": "code",
   "execution_count": null,
   "metadata": {},
   "outputs": [],
   "source": [
    "common_words_true = get_top_n_words(df.loc[df['label'] == 'true']['preprocessed_news'], 20)\n",
    "df3 = pd.DataFrame(common_words_true, columns = ['preprocessed_news' , 'count'])\n",
    "df3.groupby('preprocessed_news').sum()['count'].sort_values(ascending=False).iplot(\n",
    "    kind='bar', \n",
    "    yTitle='Count', \n",
    "    linecolor='black', \n",
    "    title='Top 20 words in true news')"
   ]
  },
  {
   "cell_type": "code",
   "execution_count": null,
   "metadata": {},
   "outputs": [],
   "source": [
    "df['review_length'].iplot(\n",
    "  kind='hist',\n",
    "  bins=100,\n",
    "  xTitle='review length',\n",
    "  linecolor='black',\n",
    "  yTitle='count',\n",
    "  title='Review Text Length Distribution')"
   ]
  },
  {
   "cell_type": "code",
   "execution_count": null,
   "metadata": {},
   "outputs": [],
   "source": [
    "df['word_count'].iplot(\n",
    "  kind='hist',\n",
    "  bins=100,\n",
    "  xTitle='word count',\n",
    "  linecolor='black',\n",
    "  yTitle='count',\n",
    "  title='Review Text Word Count Distribution')"
   ]
  }
 ],
 "metadata": {
  "interpreter": {
   "hash": "ac59ebe37160ed0dfa835113d9b8498d9f09ceb179beaac4002f036b9467c963"
  },
  "kernelspec": {
   "display_name": "Python 3.9.1 64-bit",
   "name": "python3"
  },
  "language_info": {
   "codemirror_mode": {
    "name": "ipython",
    "version": 3
   },
   "file_extension": ".py",
   "mimetype": "text/x-python",
   "name": "python",
   "nbconvert_exporter": "python",
   "pygments_lexer": "ipython3",
   "version": "3.9.1"
  },
  "orig_nbformat": 4
 },
 "nbformat": 4,
 "nbformat_minor": 2
}

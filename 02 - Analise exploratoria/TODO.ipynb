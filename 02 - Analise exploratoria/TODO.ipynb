{
 "cells": [
  {
   "cell_type": "markdown",
   "id": "35204cea",
   "metadata": {},
   "source": [
    "# Plots a fazer\n",
    "\n",
    "#### Dados crus\n",
    "\n",
    "1. Incluir gráficos sobre distribuição temporal de noticias verdadeiras e falsas (agrupado por mês)\n",
    "2. Fazer box plot (média, mediana, etc..) dos diversos valores que temos (tokens, average word length, words in upper, ...)\n",
    "3. Parsing de link e contar porcentagem de noticias verdadeiras e falsas por sites (urllib para parsing)\n",
    "4. o que mais achar pertinente...\n",
    "\n",
    "\n",
    "#### Pré-processamento _(Aplicar Topic discovery LDA)_\n",
    "\n",
    "1. TODO: Remover stopwords, acentos, NFKD (normalização unicode)\n",
    "1. Perhaps: Redução de palavras, diz = disse, sou = é = são, ... \n",
    "2. Aplicar tópicos e fazer distribuição temporal sobre os tópicos true e fake news (relacionar com mundo atual) (pico de noticias)\n",
    "3. \n",
    "\n",
    "\n"
   ]
  }
 ],
 "metadata": {
  "kernelspec": {
   "display_name": "Python 3",
   "language": "python",
   "name": "python3"
  },
  "language_info": {
   "codemirror_mode": {
    "name": "ipython",
    "version": 3
   },
   "file_extension": ".py",
   "mimetype": "text/x-python",
   "name": "python",
   "nbconvert_exporter": "python",
   "pygments_lexer": "ipython3",
   "version": "3.9.5"
  }
 },
 "nbformat": 4,
 "nbformat_minor": 5
}
